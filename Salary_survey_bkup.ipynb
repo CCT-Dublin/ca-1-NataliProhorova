{
 "cells": [
  {
   "cell_type": "markdown",
   "id": "40bd33ba",
   "metadata": {},
   "source": [
    "\n",
    "# df overview,  determine problems and key questions to perform task, rename columns,  dealing with duplicates , missed data , timestamp  and screen record test"
   ]
  },
  {
   "cell_type": "code",
   "execution_count": 1,
   "id": "32cb3367",
   "metadata": {},
   "outputs": [],
   "source": [
    "\n",
    "import pandas as pd\n",
    "import numpy as np\n",
    "import seaborn as sns #visualisation\n",
    "import matplotlib.pyplot as plt #visualisation\n",
    "get_ipython().run_line_magic('matplotlib', 'inline')\n",
    "sns.set(color_codes=True)"
   ]
  },
  {
   "cell_type": "code",
   "execution_count": 2,
   "id": "281afc72",
   "metadata": {},
   "outputs": [],
   "source": [
    "mvp=[\"n.a.\",\"?\",\"NA\",\"n/a\", \"na\", \"--\"]"
   ]
  },
  {
   "cell_type": "code",
   "execution_count": 3,
   "id": "bcb15ce0",
   "metadata": {},
   "outputs": [],
   "source": [
    "\n",
    "df=pd.read_csv(\"Salary_Survey.csv\", na_values=mvp)"
   ]
  },
  {
   "cell_type": "code",
   "execution_count": 4,
   "id": "23f3ca49",
   "metadata": {},
   "outputs": [
    {
     "data": {
      "text/html": [
       "<div>\n",
       "<style scoped>\n",
       "    .dataframe tbody tr th:only-of-type {\n",
       "        vertical-align: middle;\n",
       "    }\n",
       "\n",
       "    .dataframe tbody tr th {\n",
       "        vertical-align: top;\n",
       "    }\n",
       "\n",
       "    .dataframe thead th {\n",
       "        text-align: right;\n",
       "    }\n",
       "</style>\n",
       "<table border=\"1\" class=\"dataframe\">\n",
       "  <thead>\n",
       "    <tr style=\"text-align: right;\">\n",
       "      <th></th>\n",
       "      <th>Timestamp</th>\n",
       "      <th>How old are you?</th>\n",
       "      <th>What industry do you work in?</th>\n",
       "      <th>Job title</th>\n",
       "      <th>If your job title needs additional context, please clarify here:</th>\n",
       "      <th>What is your annual salary? (You'll indicate the currency in a later question. If you are part-time or hourly, please enter an annualized equivalent -- what you would earn if you worked the job 40 hours a week, 52 weeks a year.)</th>\n",
       "      <th>How much additional monetary compensation do you get, if any (for example, bonuses or overtime in an average year)? Please only include monetary compensation here, not the value of benefits.</th>\n",
       "      <th>Please indicate the currency</th>\n",
       "      <th>If \"Other,\" please indicate the currency here:</th>\n",
       "      <th>If your income needs additional context, please provide it here:</th>\n",
       "      <th>...</th>\n",
       "      <th>How many years of professional work experience do you have overall?</th>\n",
       "      <th>How many years of professional work experience do you have in your field?</th>\n",
       "      <th>What is your highest level of education completed?</th>\n",
       "      <th>What is your gender?</th>\n",
       "      <th>Unnamed: 17</th>\n",
       "      <th>Unnamed: 18</th>\n",
       "      <th>Unnamed: 19</th>\n",
       "      <th>Unnamed: 20</th>\n",
       "      <th>Unnamed: 21</th>\n",
       "      <th>Unnamed: 22</th>\n",
       "    </tr>\n",
       "  </thead>\n",
       "  <tbody>\n",
       "    <tr>\n",
       "      <th>0</th>\n",
       "      <td>4/27/2021 11:02:10</td>\n",
       "      <td>25-34</td>\n",
       "      <td>Education (Higher Education)</td>\n",
       "      <td>Research and Instruction Librarian</td>\n",
       "      <td>NaN</td>\n",
       "      <td>55,000</td>\n",
       "      <td>0.0</td>\n",
       "      <td>USD</td>\n",
       "      <td>NaN</td>\n",
       "      <td>NaN</td>\n",
       "      <td>...</td>\n",
       "      <td>5-7 years</td>\n",
       "      <td>5-7 years</td>\n",
       "      <td>Master's degree</td>\n",
       "      <td>Woman</td>\n",
       "      <td>NaN</td>\n",
       "      <td>NaN</td>\n",
       "      <td>NaN</td>\n",
       "      <td>NaN</td>\n",
       "      <td>NaN</td>\n",
       "      <td>NaN</td>\n",
       "    </tr>\n",
       "    <tr>\n",
       "      <th>1</th>\n",
       "      <td>4/27/2021 11:02:22</td>\n",
       "      <td>25-34</td>\n",
       "      <td>Computing or Tech</td>\n",
       "      <td>Change &amp; Internal Communications Manager</td>\n",
       "      <td>NaN</td>\n",
       "      <td>54,600</td>\n",
       "      <td>4000.0</td>\n",
       "      <td>GBP</td>\n",
       "      <td>NaN</td>\n",
       "      <td>NaN</td>\n",
       "      <td>...</td>\n",
       "      <td>8 - 10 years</td>\n",
       "      <td>5-7 years</td>\n",
       "      <td>College degree</td>\n",
       "      <td>Non-binary</td>\n",
       "      <td>NaN</td>\n",
       "      <td>NaN</td>\n",
       "      <td>NaN</td>\n",
       "      <td>NaN</td>\n",
       "      <td>NaN</td>\n",
       "      <td>NaN</td>\n",
       "    </tr>\n",
       "    <tr>\n",
       "      <th>2</th>\n",
       "      <td>4/27/2021 11:02:38</td>\n",
       "      <td>25-34</td>\n",
       "      <td>Accounting, Banking &amp; Finance</td>\n",
       "      <td>Marketing Specialist</td>\n",
       "      <td>NaN</td>\n",
       "      <td>34,000</td>\n",
       "      <td>NaN</td>\n",
       "      <td>USD</td>\n",
       "      <td>NaN</td>\n",
       "      <td>NaN</td>\n",
       "      <td>...</td>\n",
       "      <td>2 - 4 years</td>\n",
       "      <td>2 - 4 years</td>\n",
       "      <td>College degree</td>\n",
       "      <td>Woman</td>\n",
       "      <td>NaN</td>\n",
       "      <td>NaN</td>\n",
       "      <td>NaN</td>\n",
       "      <td>NaN</td>\n",
       "      <td>NaN</td>\n",
       "      <td>NaN</td>\n",
       "    </tr>\n",
       "    <tr>\n",
       "      <th>3</th>\n",
       "      <td>4/27/2021 11:02:41</td>\n",
       "      <td>25-34</td>\n",
       "      <td>Nonprofits</td>\n",
       "      <td>Program Manager</td>\n",
       "      <td>NaN</td>\n",
       "      <td>62,000</td>\n",
       "      <td>3000.0</td>\n",
       "      <td>USD</td>\n",
       "      <td>NaN</td>\n",
       "      <td>NaN</td>\n",
       "      <td>...</td>\n",
       "      <td>8 - 10 years</td>\n",
       "      <td>5-7 years</td>\n",
       "      <td>College degree</td>\n",
       "      <td>Woman</td>\n",
       "      <td>NaN</td>\n",
       "      <td>NaN</td>\n",
       "      <td>NaN</td>\n",
       "      <td>NaN</td>\n",
       "      <td>NaN</td>\n",
       "      <td>NaN</td>\n",
       "    </tr>\n",
       "    <tr>\n",
       "      <th>4</th>\n",
       "      <td>4/27/2021 11:02:42</td>\n",
       "      <td>25-34</td>\n",
       "      <td>Accounting, Banking &amp; Finance</td>\n",
       "      <td>Accounting Manager</td>\n",
       "      <td>NaN</td>\n",
       "      <td>60,000</td>\n",
       "      <td>7000.0</td>\n",
       "      <td>USD</td>\n",
       "      <td>NaN</td>\n",
       "      <td>NaN</td>\n",
       "      <td>...</td>\n",
       "      <td>8 - 10 years</td>\n",
       "      <td>5-7 years</td>\n",
       "      <td>College degree</td>\n",
       "      <td>Woman</td>\n",
       "      <td>NaN</td>\n",
       "      <td>NaN</td>\n",
       "      <td>NaN</td>\n",
       "      <td>NaN</td>\n",
       "      <td>NaN</td>\n",
       "      <td>NaN</td>\n",
       "    </tr>\n",
       "  </tbody>\n",
       "</table>\n",
       "<p>5 rows × 23 columns</p>\n",
       "</div>"
      ],
      "text/plain": [
       "            Timestamp How old are you?  What industry do you work in?  \\\n",
       "0  4/27/2021 11:02:10            25-34   Education (Higher Education)   \n",
       "1  4/27/2021 11:02:22            25-34              Computing or Tech   \n",
       "2  4/27/2021 11:02:38            25-34  Accounting, Banking & Finance   \n",
       "3  4/27/2021 11:02:41            25-34                     Nonprofits   \n",
       "4  4/27/2021 11:02:42            25-34  Accounting, Banking & Finance   \n",
       "\n",
       "                                  Job title  \\\n",
       "0        Research and Instruction Librarian   \n",
       "1  Change & Internal Communications Manager   \n",
       "2                      Marketing Specialist   \n",
       "3                           Program Manager   \n",
       "4                        Accounting Manager   \n",
       "\n",
       "  If your job title needs additional context, please clarify here:  \\\n",
       "0                                                NaN                 \n",
       "1                                                NaN                 \n",
       "2                                                NaN                 \n",
       "3                                                NaN                 \n",
       "4                                                NaN                 \n",
       "\n",
       "  What is your annual salary? (You'll indicate the currency in a later question. If you are part-time or hourly, please enter an annualized equivalent -- what you would earn if you worked the job 40 hours a week, 52 weeks a year.)  \\\n",
       "0                                             55,000                                                                                                                                                                                     \n",
       "1                                             54,600                                                                                                                                                                                     \n",
       "2                                             34,000                                                                                                                                                                                     \n",
       "3                                             62,000                                                                                                                                                                                     \n",
       "4                                             60,000                                                                                                                                                                                     \n",
       "\n",
       "   How much additional monetary compensation do you get, if any (for example, bonuses or overtime in an average year)? Please only include monetary compensation here, not the value of benefits.  \\\n",
       "0                                                0.0                                                                                                                                                \n",
       "1                                             4000.0                                                                                                                                                \n",
       "2                                                NaN                                                                                                                                                \n",
       "3                                             3000.0                                                                                                                                                \n",
       "4                                             7000.0                                                                                                                                                \n",
       "\n",
       "  Please indicate the currency  \\\n",
       "0                          USD   \n",
       "1                          GBP   \n",
       "2                          USD   \n",
       "3                          USD   \n",
       "4                          USD   \n",
       "\n",
       "  If \"Other,\" please indicate the currency here:   \\\n",
       "0                                             NaN   \n",
       "1                                             NaN   \n",
       "2                                             NaN   \n",
       "3                                             NaN   \n",
       "4                                             NaN   \n",
       "\n",
       "  If your income needs additional context, please provide it here:  ...  \\\n",
       "0                                                NaN                ...   \n",
       "1                                                NaN                ...   \n",
       "2                                                NaN                ...   \n",
       "3                                                NaN                ...   \n",
       "4                                                NaN                ...   \n",
       "\n",
       "  How many years of professional work experience do you have overall?  \\\n",
       "0                                          5-7 years                    \n",
       "1                                       8 - 10 years                    \n",
       "2                                        2 - 4 years                    \n",
       "3                                       8 - 10 years                    \n",
       "4                                       8 - 10 years                    \n",
       "\n",
       "  How many years of professional work experience do you have in your field?  \\\n",
       "0                                          5-7 years                          \n",
       "1                                          5-7 years                          \n",
       "2                                        2 - 4 years                          \n",
       "3                                          5-7 years                          \n",
       "4                                          5-7 years                          \n",
       "\n",
       "  What is your highest level of education completed? What is your gender?  \\\n",
       "0                                    Master's degree                Woman   \n",
       "1                                     College degree           Non-binary   \n",
       "2                                     College degree                Woman   \n",
       "3                                     College degree                Woman   \n",
       "4                                     College degree                Woman   \n",
       "\n",
       "  Unnamed: 17 Unnamed: 18 Unnamed: 19  Unnamed: 20  Unnamed: 21  Unnamed: 22  \n",
       "0         NaN         NaN         NaN          NaN          NaN          NaN  \n",
       "1         NaN         NaN         NaN          NaN          NaN          NaN  \n",
       "2         NaN         NaN         NaN          NaN          NaN          NaN  \n",
       "3         NaN         NaN         NaN          NaN          NaN          NaN  \n",
       "4         NaN         NaN         NaN          NaN          NaN          NaN  \n",
       "\n",
       "[5 rows x 23 columns]"
      ]
     },
     "execution_count": 4,
     "metadata": {},
     "output_type": "execute_result"
    }
   ],
   "source": [
    "df.head()\n"
   ]
  },
  {
   "cell_type": "code",
   "execution_count": 5,
   "id": "0a86f317",
   "metadata": {},
   "outputs": [
    {
     "data": {
      "text/plain": [
       "(28178, 23)"
      ]
     },
     "execution_count": 5,
     "metadata": {},
     "output_type": "execute_result"
    }
   ],
   "source": [
    "df.shape\n"
   ]
  },
  {
   "cell_type": "code",
   "execution_count": 6,
   "id": "35f45208",
   "metadata": {},
   "outputs": [],
   "source": [
    "# rename titles for columns change text to number, number to relevant title\n",
    "df.columns = range(len(df.columns))"
   ]
  },
  {
   "cell_type": "code",
   "execution_count": 7,
   "id": "e8439f3b",
   "metadata": {},
   "outputs": [],
   "source": [
    "#lets replase numbers for text format to rename columns \n",
    "new_column_names = [\"column_\" + str(i) for i in range(len(df.columns))]\n",
    "df.columns = new_column_names"
   ]
  },
  {
   "cell_type": "code",
   "execution_count": 8,
   "id": "2619276b",
   "metadata": {},
   "outputs": [
    {
     "data": {
      "text/html": [
       "<div>\n",
       "<style scoped>\n",
       "    .dataframe tbody tr th:only-of-type {\n",
       "        vertical-align: middle;\n",
       "    }\n",
       "\n",
       "    .dataframe tbody tr th {\n",
       "        vertical-align: top;\n",
       "    }\n",
       "\n",
       "    .dataframe thead th {\n",
       "        text-align: right;\n",
       "    }\n",
       "</style>\n",
       "<table border=\"1\" class=\"dataframe\">\n",
       "  <thead>\n",
       "    <tr style=\"text-align: right;\">\n",
       "      <th></th>\n",
       "      <th>column_0</th>\n",
       "      <th>column_1</th>\n",
       "      <th>column_2</th>\n",
       "      <th>column_3</th>\n",
       "      <th>column_4</th>\n",
       "      <th>column_5</th>\n",
       "      <th>column_6</th>\n",
       "      <th>column_7</th>\n",
       "      <th>column_8</th>\n",
       "      <th>column_9</th>\n",
       "      <th>...</th>\n",
       "      <th>column_13</th>\n",
       "      <th>column_14</th>\n",
       "      <th>column_15</th>\n",
       "      <th>column_16</th>\n",
       "      <th>column_17</th>\n",
       "      <th>column_18</th>\n",
       "      <th>column_19</th>\n",
       "      <th>column_20</th>\n",
       "      <th>column_21</th>\n",
       "      <th>column_22</th>\n",
       "    </tr>\n",
       "  </thead>\n",
       "  <tbody>\n",
       "    <tr>\n",
       "      <th>0</th>\n",
       "      <td>4/27/2021 11:02:10</td>\n",
       "      <td>25-34</td>\n",
       "      <td>Education (Higher Education)</td>\n",
       "      <td>Research and Instruction Librarian</td>\n",
       "      <td>NaN</td>\n",
       "      <td>55,000</td>\n",
       "      <td>0.0</td>\n",
       "      <td>USD</td>\n",
       "      <td>NaN</td>\n",
       "      <td>NaN</td>\n",
       "      <td>...</td>\n",
       "      <td>5-7 years</td>\n",
       "      <td>5-7 years</td>\n",
       "      <td>Master's degree</td>\n",
       "      <td>Woman</td>\n",
       "      <td>NaN</td>\n",
       "      <td>NaN</td>\n",
       "      <td>NaN</td>\n",
       "      <td>NaN</td>\n",
       "      <td>NaN</td>\n",
       "      <td>NaN</td>\n",
       "    </tr>\n",
       "    <tr>\n",
       "      <th>1</th>\n",
       "      <td>4/27/2021 11:02:22</td>\n",
       "      <td>25-34</td>\n",
       "      <td>Computing or Tech</td>\n",
       "      <td>Change &amp; Internal Communications Manager</td>\n",
       "      <td>NaN</td>\n",
       "      <td>54,600</td>\n",
       "      <td>4000.0</td>\n",
       "      <td>GBP</td>\n",
       "      <td>NaN</td>\n",
       "      <td>NaN</td>\n",
       "      <td>...</td>\n",
       "      <td>8 - 10 years</td>\n",
       "      <td>5-7 years</td>\n",
       "      <td>College degree</td>\n",
       "      <td>Non-binary</td>\n",
       "      <td>NaN</td>\n",
       "      <td>NaN</td>\n",
       "      <td>NaN</td>\n",
       "      <td>NaN</td>\n",
       "      <td>NaN</td>\n",
       "      <td>NaN</td>\n",
       "    </tr>\n",
       "  </tbody>\n",
       "</table>\n",
       "<p>2 rows × 23 columns</p>\n",
       "</div>"
      ],
      "text/plain": [
       "             column_0 column_1                      column_2  \\\n",
       "0  4/27/2021 11:02:10    25-34  Education (Higher Education)   \n",
       "1  4/27/2021 11:02:22    25-34             Computing or Tech   \n",
       "\n",
       "                                   column_3 column_4 column_5  column_6  \\\n",
       "0        Research and Instruction Librarian      NaN   55,000       0.0   \n",
       "1  Change & Internal Communications Manager      NaN   54,600    4000.0   \n",
       "\n",
       "  column_7 column_8 column_9  ...     column_13  column_14        column_15  \\\n",
       "0      USD      NaN      NaN  ...     5-7 years  5-7 years  Master's degree   \n",
       "1      GBP      NaN      NaN  ...  8 - 10 years  5-7 years   College degree   \n",
       "\n",
       "    column_16 column_17 column_18 column_19  column_20  column_21  column_22  \n",
       "0       Woman       NaN       NaN       NaN        NaN        NaN        NaN  \n",
       "1  Non-binary       NaN       NaN       NaN        NaN        NaN        NaN  \n",
       "\n",
       "[2 rows x 23 columns]"
      ]
     },
     "execution_count": 8,
     "metadata": {},
     "output_type": "execute_result"
    }
   ],
   "source": [
    "df.head(2)"
   ]
  },
  {
   "cell_type": "code",
   "execution_count": 9,
   "id": "daaa061e",
   "metadata": {},
   "outputs": [],
   "source": [
    "#rename columns \n",
    "df = df.rename(columns={\"column_0\":\"Timestump\",\"column_1\": \"Age\",\"column_16\":\"Gender\",\"column_15\": \"Highest_Degree\"})\n"
   ]
  },
  {
   "cell_type": "code",
   "execution_count": 10,
   "id": "0f6e26eb",
   "metadata": {},
   "outputs": [],
   "source": [
    "df = df.rename(columns={\"column_2\":\"Industry\",\"column_3\": \"Job title\",\"column_4\":\"Job context\",\"column_5\":\"Annual Salary\",\"column_6\":\"Bonus\",\"column_7\":\"Currency\",\"column_8\":\"Currency other\",\"column_9\":\"Income context\"})"
   ]
  },
  {
   "cell_type": "code",
   "execution_count": 11,
   "id": "08200ab0",
   "metadata": {},
   "outputs": [],
   "source": [
    "# In[11]:\n",
    "\n",
    "\n",
    "df = df.rename(columns={\"column_10\":\"Country\",\"column_11\": \"State\",\"column_12\":\"City\",\"column_13\": \"Work_Exp\",\"column_14\": \"Rel_Exp\"})"
   ]
  },
  {
   "cell_type": "code",
   "execution_count": 12,
   "id": "bdf594e1",
   "metadata": {},
   "outputs": [
    {
     "name": "stdout",
     "output_type": "stream",
     "text": [
      "Timestump         28085\n",
      "Age               28085\n",
      "Industry          28011\n",
      "Job title         28083\n",
      "Job context        7266\n",
      "Annual Salary     28085\n",
      "Bonus             20780\n",
      "Currency          28085\n",
      "Currency other      208\n",
      "Income context     3044\n",
      "Country           28084\n",
      "State             23059\n",
      "City              27998\n",
      "Work_Exp          28085\n",
      "Rel_Exp           28085\n",
      "Highest_Degree    27863\n",
      "Gender            27914\n",
      "column_17             0\n",
      "column_18             0\n",
      "column_19             0\n",
      "column_20             0\n",
      "column_21             0\n",
      "column_22             0\n",
      "dtype: int64\n"
     ]
    }
   ],
   "source": [
    "# In[12]:\n",
    "\n",
    "\n",
    "non_null_counts = df.count()\n",
    "print(non_null_counts)"
   ]
  },
  {
   "cell_type": "code",
   "execution_count": 13,
   "id": "c51b23bf",
   "metadata": {},
   "outputs": [],
   "source": [
    "#no non-null values -all values in the columns 17-22 are missing or null,we can delete them\n",
    "df.drop(columns=['column_17','column_18','column_19','column_20','column_21','column_22'], inplace=True)"
   ]
  },
  {
   "cell_type": "code",
   "execution_count": 14,
   "id": "5bbd2f91",
   "metadata": {},
   "outputs": [
    {
     "name": "stdout",
     "output_type": "stream",
     "text": [
      "number of duplicate rows:  (92, 17)\n"
     ]
    }
   ],
   "source": [
    "#detecting duplicate rows\n",
    "duplicate_rows_df = df[df.duplicated()]\n",
    "print(\"number of duplicate rows: \", duplicate_rows_df.shape)"
   ]
  },
  {
   "cell_type": "code",
   "execution_count": 15,
   "id": "0a0e9c3b",
   "metadata": {},
   "outputs": [
    {
     "name": "stdout",
     "output_type": "stream",
     "text": [
      "Total sum of non-null values: 0\n"
     ]
    }
   ],
   "source": [
    "\n",
    "# Calculate the sum of non-null values   for \n",
    "\n",
    "total_sum_non_null = duplicate_rows_df.count(axis=1).sum()\n",
    "print(\"Total sum of non-null values:\", total_sum_non_null)\n"
   ]
  },
  {
   "cell_type": "code",
   "execution_count": 16,
   "id": "7dd3e9e1",
   "metadata": {},
   "outputs": [
    {
     "name": "stdout",
     "output_type": "stream",
     "text": [
      "      Timestump  Age Industry Job title Job context Annual Salary  Bonus  \\\n",
      "28086       NaN  NaN      NaN       NaN         NaN           NaN    NaN   \n",
      "28087       NaN  NaN      NaN       NaN         NaN           NaN    NaN   \n",
      "28088       NaN  NaN      NaN       NaN         NaN           NaN    NaN   \n",
      "28089       NaN  NaN      NaN       NaN         NaN           NaN    NaN   \n",
      "28090       NaN  NaN      NaN       NaN         NaN           NaN    NaN   \n",
      "...         ...  ...      ...       ...         ...           ...    ...   \n",
      "28173       NaN  NaN      NaN       NaN         NaN           NaN    NaN   \n",
      "28174       NaN  NaN      NaN       NaN         NaN           NaN    NaN   \n",
      "28175       NaN  NaN      NaN       NaN         NaN           NaN    NaN   \n",
      "28176       NaN  NaN      NaN       NaN         NaN           NaN    NaN   \n",
      "28177       NaN  NaN      NaN       NaN         NaN           NaN    NaN   \n",
      "\n",
      "      Currency Currency other Income context Country State City Work_Exp  \\\n",
      "28086      NaN            NaN            NaN     NaN   NaN  NaN      NaN   \n",
      "28087      NaN            NaN            NaN     NaN   NaN  NaN      NaN   \n",
      "28088      NaN            NaN            NaN     NaN   NaN  NaN      NaN   \n",
      "28089      NaN            NaN            NaN     NaN   NaN  NaN      NaN   \n",
      "28090      NaN            NaN            NaN     NaN   NaN  NaN      NaN   \n",
      "...        ...            ...            ...     ...   ...  ...      ...   \n",
      "28173      NaN            NaN            NaN     NaN   NaN  NaN      NaN   \n",
      "28174      NaN            NaN            NaN     NaN   NaN  NaN      NaN   \n",
      "28175      NaN            NaN            NaN     NaN   NaN  NaN      NaN   \n",
      "28176      NaN            NaN            NaN     NaN   NaN  NaN      NaN   \n",
      "28177      NaN            NaN            NaN     NaN   NaN  NaN      NaN   \n",
      "\n",
      "      Rel_Exp Highest_Degree Gender  \n",
      "28086     NaN            NaN    NaN  \n",
      "28087     NaN            NaN    NaN  \n",
      "28088     NaN            NaN    NaN  \n",
      "28089     NaN            NaN    NaN  \n",
      "28090     NaN            NaN    NaN  \n",
      "...       ...            ...    ...  \n",
      "28173     NaN            NaN    NaN  \n",
      "28174     NaN            NaN    NaN  \n",
      "28175     NaN            NaN    NaN  \n",
      "28176     NaN            NaN    NaN  \n",
      "28177     NaN            NaN    NaN  \n",
      "\n",
      "[92 rows x 17 columns]\n"
     ]
    }
   ],
   "source": [
    "# In[16]:\n",
    "\n",
    "\n",
    "# Print duplicate rows with null values\n",
    "print(duplicate_rows_df[duplicate_rows_df.isnull().any(axis=1)])"
   ]
  },
  {
   "cell_type": "code",
   "execution_count": 17,
   "id": "44a98055",
   "metadata": {},
   "outputs": [],
   "source": [
    "# In[17]:\n",
    "\n",
    "\n",
    "#we can exclude now  93 duplicates rows ,as we did for columns before\n",
    "df = df.iloc[:-93]"
   ]
  },
  {
   "cell_type": "code",
   "execution_count": 18,
   "id": "1acc773c",
   "metadata": {},
   "outputs": [
    {
     "data": {
      "text/html": [
       "<div>\n",
       "<style scoped>\n",
       "    .dataframe tbody tr th:only-of-type {\n",
       "        vertical-align: middle;\n",
       "    }\n",
       "\n",
       "    .dataframe tbody tr th {\n",
       "        vertical-align: top;\n",
       "    }\n",
       "\n",
       "    .dataframe thead th {\n",
       "        text-align: right;\n",
       "    }\n",
       "</style>\n",
       "<table border=\"1\" class=\"dataframe\">\n",
       "  <thead>\n",
       "    <tr style=\"text-align: right;\">\n",
       "      <th></th>\n",
       "      <th>Timestump</th>\n",
       "      <th>Age</th>\n",
       "      <th>Industry</th>\n",
       "      <th>Job title</th>\n",
       "      <th>Job context</th>\n",
       "      <th>Annual Salary</th>\n",
       "      <th>Bonus</th>\n",
       "      <th>Currency</th>\n",
       "      <th>Currency other</th>\n",
       "      <th>Income context</th>\n",
       "      <th>Country</th>\n",
       "      <th>State</th>\n",
       "      <th>City</th>\n",
       "      <th>Work_Exp</th>\n",
       "      <th>Rel_Exp</th>\n",
       "      <th>Highest_Degree</th>\n",
       "      <th>Gender</th>\n",
       "    </tr>\n",
       "  </thead>\n",
       "  <tbody>\n",
       "    <tr>\n",
       "      <th>28083</th>\n",
       "      <td>10/4/2024 13:05:24</td>\n",
       "      <td>18-24</td>\n",
       "      <td>Computing or Tech</td>\n",
       "      <td>Software Engineering Co-Op</td>\n",
       "      <td>I was an Intern</td>\n",
       "      <td>56160</td>\n",
       "      <td>0.0</td>\n",
       "      <td>USD</td>\n",
       "      <td>NaN</td>\n",
       "      <td>NaN</td>\n",
       "      <td>United States</td>\n",
       "      <td>Rhode Island</td>\n",
       "      <td>Jhonston</td>\n",
       "      <td>1 year or less</td>\n",
       "      <td>1 year or less</td>\n",
       "      <td>College degree</td>\n",
       "      <td>Man</td>\n",
       "    </tr>\n",
       "    <tr>\n",
       "      <th>28084</th>\n",
       "      <td>10/7/2024 5:17:56</td>\n",
       "      <td>65 or over</td>\n",
       "      <td>Social networks</td>\n",
       "      <td>Content creator</td>\n",
       "      <td>NaN</td>\n",
       "      <td>2000000</td>\n",
       "      <td>NaN</td>\n",
       "      <td>USD</td>\n",
       "      <td>NaN</td>\n",
       "      <td>NaN</td>\n",
       "      <td>Taiwan</td>\n",
       "      <td>Utah, Wisconsin</td>\n",
       "      <td>Milwaukee</td>\n",
       "      <td>41 years or more</td>\n",
       "      <td>2 - 4 years</td>\n",
       "      <td>PhD</td>\n",
       "      <td>Non-binary</td>\n",
       "    </tr>\n",
       "  </tbody>\n",
       "</table>\n",
       "</div>"
      ],
      "text/plain": [
       "                Timestump         Age           Industry  \\\n",
       "28083  10/4/2024 13:05:24       18-24  Computing or Tech   \n",
       "28084   10/7/2024 5:17:56  65 or over    Social networks   \n",
       "\n",
       "                        Job title      Job context Annual Salary  Bonus  \\\n",
       "28083  Software Engineering Co-Op  I was an Intern         56160    0.0   \n",
       "28084             Content creator              NaN       2000000    NaN   \n",
       "\n",
       "      Currency Currency other Income context        Country            State  \\\n",
       "28083      USD            NaN            NaN  United States     Rhode Island   \n",
       "28084      USD            NaN            NaN         Taiwan  Utah, Wisconsin   \n",
       "\n",
       "            City          Work_Exp         Rel_Exp  Highest_Degree      Gender  \n",
       "28083   Jhonston    1 year or less  1 year or less  College degree         Man  \n",
       "28084  Milwaukee  41 years or more     2 - 4 years             PhD  Non-binary  "
      ]
     },
     "execution_count": 18,
     "metadata": {},
     "output_type": "execute_result"
    }
   ],
   "source": [
    "#review \n",
    "df.tail(2)"
   ]
  },
  {
   "cell_type": "code",
   "execution_count": 19,
   "id": "cd6dcc89",
   "metadata": {},
   "outputs": [
    {
     "data": {
      "text/plain": [
       "(28085, 17)"
      ]
     },
     "execution_count": 19,
     "metadata": {},
     "output_type": "execute_result"
    }
   ],
   "source": [
    "\n",
    "#review shape update\n",
    "df.shape\n"
   ]
  },
  {
   "cell_type": "code",
   "execution_count": 20,
   "id": "6e5dfd60",
   "metadata": {},
   "outputs": [
    {
     "name": "stdout",
     "output_type": "stream",
     "text": [
      "Timestump             0\n",
      "Age                   0\n",
      "Industry             74\n",
      "Job title             2\n",
      "Job context       20819\n",
      "Annual Salary         0\n",
      "Bonus              7305\n",
      "Currency              0\n",
      "Currency other    27877\n",
      "Income context    25041\n",
      "Country               1\n",
      "State              5026\n",
      "City                 87\n",
      "Work_Exp              0\n",
      "Rel_Exp               0\n",
      "Highest_Degree      222\n",
      "Gender              171\n",
      "dtype: int64\n"
     ]
    }
   ],
   "source": [
    "\n",
    "# identifying columns with missing data and deciding how to handle  missing values\n",
    "print(df.isnull().sum())"
   ]
  },
  {
   "cell_type": "code",
   "execution_count": 21,
   "id": "26869c5a",
   "metadata": {},
   "outputs": [],
   "source": [
    "#replace missing values with (Unknown')/'NA'\n",
    "#  for missed values 'City',replace with equal value from 'Country'\n",
    "df['Industry'] = df['Industry'].fillna('Unknown')\n",
    "df['Bonus']=df['Bonus'].fillna('0')\n",
    "df['Country']=df['Country'].fillna('Unknown')\n",
    "df['State']=df['State'].fillna('NA')\n",
    "df['City']=df['City'].fillna(df['Country'])\n",
    "df['Currency other']=df['Currency other'].fillna('NA')"
   ]
  },
  {
   "cell_type": "code",
   "execution_count": 22,
   "id": "9fd11ef9",
   "metadata": {},
   "outputs": [],
   "source": [
    "#replsce missing data with addutuinal column info/  fill remain with 'Unknown'\n",
    "df['Job title'] = df['Job title'].fillna('Job context')\n",
    "df['Job title'] = df['Job title'].fillna('Unknown')\n",
    "df['Job context'] = df['Job context'].fillna('Unknown')\n"
   ]
  },
  {
   "cell_type": "markdown",
   "id": "c531ed41",
   "metadata": {},
   "source": [
    "#  determine  target variable(“Annual salary” ), dropping irrelevant columns,  # Main target - annual salary, year mention in a title ,values in a Timestump nonsuffisient impact=drop , 'Job context'- most of the data missed , but  can replace missed data for Jod title and , categotical variable ' Income context' do not impact  numerical data in Target variable \n",
    "# "
   ]
  },
  {
   "cell_type": "code",
   "execution_count": 23,
   "id": "ea63eea7",
   "metadata": {},
   "outputs": [],
   "source": [
    "#take down non relevant to the target variable columns Timestamp ,'Income context'\n",
    "# Main target - annual salary, year mention in a title , \n",
    "df.drop(columns=['Timestump','Income context'], inplace=True)"
   ]
  },
  {
   "cell_type": "code",
   "execution_count": 24,
   "id": "7d21cf46",
   "metadata": {},
   "outputs": [],
   "source": [
    "# In[24]:\n",
    "\n",
    "\n",
    "## Clean data from ',', convert to integrets \n",
    "df['Annual Salary'] = df['Annual Salary'].str.replace(',','').astype(int)\n"
   ]
  },
  {
   "cell_type": "markdown",
   "id": "f1214bbe",
   "metadata": {},
   "source": [
    " https://pandas.pydata.org/docs/reference/api/pandas.DataFrame.sort_values.html     sort values , ascending=False)\n"
   ]
  },
  {
   "cell_type": "code",
   "execution_count": 25,
   "id": "78311fc3",
   "metadata": {},
   "outputs": [
    {
     "name": "stdout",
     "output_type": "stream",
     "text": [
      "28055    6000070000\n",
      "11454     870000000\n",
      "18984     180000000\n",
      "27902     120000000\n",
      "3605      102000000\n",
      "Name: Annual Salary, dtype: int64\n"
     ]
    }
   ],
   "source": [
    "#find outliers , top 5 salaryes\n",
    "df = df.sort_values('Annual Salary', ascending=False)\n",
    "\n",
    "print(df['Annual Salary'].head(5))"
   ]
  },
  {
   "cell_type": "markdown",
   "id": "40e0fd46",
   "metadata": {},
   "source": [
    "to  handle missing values for Annual salary and bonus , I create a new variable 'Total Income' (sum of salary and bonus0 filter   1<>10 000    as total incime can not be less then 10 000, and after filtering the duplicate rows with  1 or 0 ,less then 10000   drop fro Annual salary \n",
    "\n",
    "https://pandas.pydata.org/docs/reference/api/pandas.to_numeric.html   coerse   convert non-numeric values to NaN,  avoid potential errors \n"
   ]
  },
  {
   "cell_type": "code",
   "execution_count": 26,
   "id": "b819ab78",
   "metadata": {},
   "outputs": [],
   "source": [
    "# Handle missing values ,determine outliers\n",
    "df['Annual Salary'] = pd.to_numeric(df['Annual Salary'], errors='coerce')"
   ]
  },
  {
   "cell_type": "code",
   "execution_count": 27,
   "id": "2cbfc279",
   "metadata": {},
   "outputs": [
    {
     "name": "stdout",
     "output_type": "stream",
     "text": [
      "count         28085\n",
      "mean         361242\n",
      "std        36207917\n",
      "min               0\n",
      "25%           54000\n",
      "50%           75000\n",
      "75%          110000\n",
      "max      6000070000\n",
      "Name: Annual Salary, dtype: int64\n"
     ]
    }
   ],
   "source": [
    "#Descriptive statistics for Annual Salary  to find outliers\n",
    "print(df['Annual Salary'].describe().astype(int))\n"
   ]
  },
  {
   "cell_type": "code",
   "execution_count": 28,
   "id": "cce1b0f6",
   "metadata": {},
   "outputs": [],
   "source": [
    "#  Annual  salary 6000070000 CAD   can not be realistic, just  this value  has misssed - , replase with median 65000\n",
    "# 6000070000 with 65000 in 'Annual Salary'\n",
    "df.loc[df['Annual Salary'] == 6000070000, 'Annual Salary'] = 65000"
   ]
  },
  {
   "cell_type": "code",
   "execution_count": 29,
   "id": "d9fc7e04",
   "metadata": {
    "scrolled": true
   },
   "outputs": [
    {
     "name": "stdout",
     "output_type": "stream",
     "text": [
      "       Annual Salary Currency        Bonus\n",
      "28055          65000      CAD            0\n",
      "11454      870000000    Other  120000000.0\n",
      "18984      180000000    Other            0\n",
      "27902      120000000    Other            0\n",
      "3605       102000000      USD            0\n",
      "23490       43800000    Other     150000.0\n",
      "18498       38000000    Other            0\n",
      "22871       36000000    Other          0.0\n",
      "11234       27000000    Other            0\n",
      "24443       20800000      JPY    1000000.0\n"
     ]
    }
   ],
   "source": [
    "# Print  comdined df\n",
    "\n",
    "print(df[['Annual Salary','Currency','Bonus']].head(10))\n"
   ]
  },
  {
   "cell_type": "code",
   "execution_count": 30,
   "id": "d11ea751",
   "metadata": {},
   "outputs": [
    {
     "name": "stdout",
     "output_type": "stream",
     "text": [
      "object\n"
     ]
    }
   ],
   "source": [
    "print(df['Bonus'].dtype)"
   ]
  },
  {
   "cell_type": "markdown",
   "id": "4b770505",
   "metadata": {},
   "source": [
    " Bonus  is additional to Annual salary  numerical category, no needs to drop missing duplicates: convert (df['Bonus'] to   integrets, replace missed data with'0 "
   ]
  },
  {
   "cell_type": "code",
   "execution_count": 31,
   "id": "45755923",
   "metadata": {},
   "outputs": [],
   "source": [
    "# Remove non-numeric characters and convert to numeric\n",
    "\n",
    "df['Bonus'] = pd.to_numeric(df['Bonus'], errors='coerce')\n"
   ]
  },
  {
   "cell_type": "code",
   "execution_count": 32,
   "id": "40eb37cf",
   "metadata": {},
   "outputs": [],
   "source": [
    "# Replace missing values with 0\n",
    "df['Bonus'].fillna(0, inplace=True)"
   ]
  },
  {
   "cell_type": "code",
   "execution_count": 33,
   "id": "c7d03d80",
   "metadata": {},
   "outputs": [
    {
     "name": "stdout",
     "output_type": "stream",
     "text": [
      "Number of missing values in 'Bonus': 0\n"
     ]
    }
   ],
   "source": [
    "missing_values = df['Bonus'].isna().sum()\n",
    "print(f\"Number of missing values in 'Bonus': {missing_values}\")"
   ]
  },
  {
   "cell_type": "code",
   "execution_count": 34,
   "id": "c3c7ac3e",
   "metadata": {},
   "outputs": [],
   "source": [
    "df['Bonus'] = df['Bonus'].astype(int)"
   ]
  },
  {
   "cell_type": "markdown",
   "id": "85c88072",
   "metadata": {},
   "source": [
    " most of the top salary   values represented by currensy tipe'Other' ,that make them only numbers - I filter all categorycal data fom 'Currency'  = 'Other'  and drop allrelated  rows "
   ]
  },
  {
   "cell_type": "code",
   "execution_count": 35,
   "id": "252b8ec1",
   "metadata": {},
   "outputs": [],
   "source": [
    "# most of outliers in Annual salary  without value ,we can  drop all rows were Currency 'Other'\n",
    "# make   all upper \n",
    "df['Currency'] = df['Currency'].str.upper()"
   ]
  },
  {
   "cell_type": "code",
   "execution_count": 36,
   "id": "2a5db8dc",
   "metadata": {},
   "outputs": [],
   "source": [
    "# Identify duplicate rows where 'Currency' is 'OTHER'\n",
    "duplicate_rows_df = df[df.duplicated(subset=['Currency'], keep=False) & (df['Currency'] == 'OTHER')]"
   ]
  },
  {
   "cell_type": "code",
   "execution_count": 37,
   "id": "ecc9f4d1",
   "metadata": {},
   "outputs": [],
   "source": [
    "# Drop duplicate rows\n",
    "df = df.drop(duplicate_rows_df.index)"
   ]
  },
  {
   "cell_type": "code",
   "execution_count": 38,
   "id": "292055ef",
   "metadata": {},
   "outputs": [
    {
     "data": {
      "text/plain": [
       "array(['CAD', 'USD', 'JPY', 'SEK', 'ZAR', 'CHF', 'AUD/NZD', 'GBP', 'HKD',\n",
       "       'EUR'], dtype=object)"
      ]
     },
     "execution_count": 38,
     "metadata": {},
     "output_type": "execute_result"
    }
   ],
   "source": [
    "#  determine unique categories  upgate \n",
    "df[\"Currency\"].unique() "
   ]
  },
  {
   "cell_type": "code",
   "execution_count": 39,
   "id": "b5f79534",
   "metadata": {},
   "outputs": [
    {
     "name": "stdout",
     "output_type": "stream",
     "text": [
      "USD        23395\n",
      "CAD         1673\n",
      "GBP         1591\n",
      "EUR          644\n",
      "AUD/NZD      504\n",
      "SEK           37\n",
      "CHF           37\n",
      "JPY           23\n",
      "ZAR           16\n",
      "HKD            4\n",
      "Name: Currency, dtype: int64\n"
     ]
    }
   ],
   "source": [
    "# Frequency table for 'Gender_distribution = df['Gender'].value_counts()\n",
    "Currency_distribution = df['Currency'].value_counts()\n",
    "print(Currency_distribution)\n"
   ]
  },
  {
   "cell_type": "code",
   "execution_count": 40,
   "id": "152f59bd",
   "metadata": {},
   "outputs": [
    {
     "data": {
      "text/html": [
       "<div>\n",
       "<style scoped>\n",
       "    .dataframe tbody tr th:only-of-type {\n",
       "        vertical-align: middle;\n",
       "    }\n",
       "\n",
       "    .dataframe tbody tr th {\n",
       "        vertical-align: top;\n",
       "    }\n",
       "\n",
       "    .dataframe thead th {\n",
       "        text-align: right;\n",
       "    }\n",
       "</style>\n",
       "<table border=\"1\" class=\"dataframe\">\n",
       "  <thead>\n",
       "    <tr style=\"text-align: right;\">\n",
       "      <th></th>\n",
       "      <th>Annual Salary</th>\n",
       "      <th>Bonus</th>\n",
       "      <th>Total_Income</th>\n",
       "      <th>Currency</th>\n",
       "    </tr>\n",
       "  </thead>\n",
       "  <tbody>\n",
       "    <tr>\n",
       "      <th>26748</th>\n",
       "      <td>0</td>\n",
       "      <td>0</td>\n",
       "      <td>0</td>\n",
       "      <td>USD</td>\n",
       "    </tr>\n",
       "    <tr>\n",
       "      <th>28015</th>\n",
       "      <td>0</td>\n",
       "      <td>0</td>\n",
       "      <td>0</td>\n",
       "      <td>GBP</td>\n",
       "    </tr>\n",
       "    <tr>\n",
       "      <th>23028</th>\n",
       "      <td>0</td>\n",
       "      <td>0</td>\n",
       "      <td>0</td>\n",
       "      <td>USD</td>\n",
       "    </tr>\n",
       "    <tr>\n",
       "      <th>23983</th>\n",
       "      <td>0</td>\n",
       "      <td>200000</td>\n",
       "      <td>200000</td>\n",
       "      <td>USD</td>\n",
       "    </tr>\n",
       "    <tr>\n",
       "      <th>10362</th>\n",
       "      <td>0</td>\n",
       "      <td>0</td>\n",
       "      <td>0</td>\n",
       "      <td>USD</td>\n",
       "    </tr>\n",
       "    <tr>\n",
       "      <th>20470</th>\n",
       "      <td>0</td>\n",
       "      <td>0</td>\n",
       "      <td>0</td>\n",
       "      <td>USD</td>\n",
       "    </tr>\n",
       "    <tr>\n",
       "      <th>8739</th>\n",
       "      <td>0</td>\n",
       "      <td>0</td>\n",
       "      <td>0</td>\n",
       "      <td>USD</td>\n",
       "    </tr>\n",
       "    <tr>\n",
       "      <th>26562</th>\n",
       "      <td>0</td>\n",
       "      <td>0</td>\n",
       "      <td>0</td>\n",
       "      <td>USD</td>\n",
       "    </tr>\n",
       "    <tr>\n",
       "      <th>27996</th>\n",
       "      <td>0</td>\n",
       "      <td>0</td>\n",
       "      <td>0</td>\n",
       "      <td>USD</td>\n",
       "    </tr>\n",
       "    <tr>\n",
       "      <th>13537</th>\n",
       "      <td>0</td>\n",
       "      <td>0</td>\n",
       "      <td>0</td>\n",
       "      <td>USD</td>\n",
       "    </tr>\n",
       "  </tbody>\n",
       "</table>\n",
       "</div>"
      ],
      "text/plain": [
       "       Annual Salary   Bonus  Total_Income Currency\n",
       "26748              0       0             0      USD\n",
       "28015              0       0             0      GBP\n",
       "23028              0       0             0      USD\n",
       "23983              0  200000        200000      USD\n",
       "10362              0       0             0      USD\n",
       "20470              0       0             0      USD\n",
       "8739               0       0             0      USD\n",
       "26562              0       0             0      USD\n",
       "27996              0       0             0      USD\n",
       "13537              0       0             0      USD"
      ]
     },
     "execution_count": 40,
     "metadata": {},
     "output_type": "execute_result"
    }
   ],
   "source": [
    "#create new combined  Total income  \n",
    "\n",
    "df['Total_Income'] = df['Annual Salary'] + df['Bonus']\n",
    "df[['Annual Salary','Bonus','Total_Income','Currency']].tail(10)\n"
   ]
  },
  {
   "cell_type": "markdown",
   "id": "7adc8007",
   "metadata": {},
   "source": [
    "by using combined variable I saved some informative data for main target 'Annual salary'"
   ]
  },
  {
   "cell_type": "code",
   "execution_count": 41,
   "id": "029f698c",
   "metadata": {},
   "outputs": [],
   "source": [
    "#assuming total income  can not be less then 10 000 , filter and drop  relevant rows  were value <=10000 , including 0 \n",
    "df = df[df['Total_Income'] > 10000]"
   ]
  },
  {
   "cell_type": "code",
   "execution_count": 42,
   "id": "a6109fea",
   "metadata": {},
   "outputs": [
    {
     "data": {
      "text/html": [
       "<div>\n",
       "<style scoped>\n",
       "    .dataframe tbody tr th:only-of-type {\n",
       "        vertical-align: middle;\n",
       "    }\n",
       "\n",
       "    .dataframe tbody tr th {\n",
       "        vertical-align: top;\n",
       "    }\n",
       "\n",
       "    .dataframe thead th {\n",
       "        text-align: right;\n",
       "    }\n",
       "</style>\n",
       "<table border=\"1\" class=\"dataframe\">\n",
       "  <thead>\n",
       "    <tr style=\"text-align: right;\">\n",
       "      <th></th>\n",
       "      <th>Total_Income</th>\n",
       "      <th>Currency</th>\n",
       "      <th>Job title</th>\n",
       "      <th>Age</th>\n",
       "      <th>Country</th>\n",
       "      <th>Currency other</th>\n",
       "      <th>Highest_Degree</th>\n",
       "      <th>Industry</th>\n",
       "    </tr>\n",
       "  </thead>\n",
       "  <tbody>\n",
       "    <tr>\n",
       "      <th>28055</th>\n",
       "      <td>65000</td>\n",
       "      <td>CAD</td>\n",
       "      <td>Investment Banking Analyst</td>\n",
       "      <td>18-24</td>\n",
       "      <td>Canada</td>\n",
       "      <td>NA</td>\n",
       "      <td>College degree</td>\n",
       "      <td>Accounting, Banking &amp; Finance</td>\n",
       "    </tr>\n",
       "    <tr>\n",
       "      <th>3605</th>\n",
       "      <td>102000000</td>\n",
       "      <td>USD</td>\n",
       "      <td>Operations Manager</td>\n",
       "      <td>25-34</td>\n",
       "      <td>Colombia</td>\n",
       "      <td>COP</td>\n",
       "      <td>Some college</td>\n",
       "      <td>Utilities &amp; Telecommunications</td>\n",
       "    </tr>\n",
       "    <tr>\n",
       "      <th>24443</th>\n",
       "      <td>21800000</td>\n",
       "      <td>JPY</td>\n",
       "      <td>Voice Actor</td>\n",
       "      <td>25-34</td>\n",
       "      <td>Japan</td>\n",
       "      <td>NA</td>\n",
       "      <td>College degree</td>\n",
       "      <td>Entertainment</td>\n",
       "    </tr>\n",
       "    <tr>\n",
       "      <th>10654</th>\n",
       "      <td>11500000</td>\n",
       "      <td>JPY</td>\n",
       "      <td>Compliance Manager</td>\n",
       "      <td>25-34</td>\n",
       "      <td>Japan</td>\n",
       "      <td>NA</td>\n",
       "      <td>Professional degree (MD, JD, etc.)</td>\n",
       "      <td>Retail</td>\n",
       "    </tr>\n",
       "    <tr>\n",
       "      <th>28021</th>\n",
       "      <td>10000299</td>\n",
       "      <td>USD</td>\n",
       "      <td>bum</td>\n",
       "      <td>18-24</td>\n",
       "      <td>usa</td>\n",
       "      <td>rice</td>\n",
       "      <td>Professional degree (MD, JD, etc.)</td>\n",
       "      <td>Unknown</td>\n",
       "    </tr>\n",
       "    <tr>\n",
       "      <th>18027</th>\n",
       "      <td>9400000</td>\n",
       "      <td>JPY</td>\n",
       "      <td>Backend system dev</td>\n",
       "      <td>25-34</td>\n",
       "      <td>Japan</td>\n",
       "      <td>NA</td>\n",
       "      <td>PhD</td>\n",
       "      <td>Computing or Tech</td>\n",
       "    </tr>\n",
       "  </tbody>\n",
       "</table>\n",
       "</div>"
      ],
      "text/plain": [
       "       Total_Income Currency                   Job title    Age   Country  \\\n",
       "28055         65000      CAD  Investment Banking Analyst  18-24    Canada   \n",
       "3605      102000000      USD          Operations Manager  25-34  Colombia   \n",
       "24443      21800000      JPY                 Voice Actor  25-34     Japan   \n",
       "10654      11500000      JPY          Compliance Manager  25-34     Japan   \n",
       "28021      10000299      USD                         bum  18-24       usa   \n",
       "18027       9400000      JPY          Backend system dev  25-34     Japan   \n",
       "\n",
       "      Currency other                      Highest_Degree  \\\n",
       "28055             NA                      College degree   \n",
       "3605             COP                        Some college   \n",
       "24443             NA                      College degree   \n",
       "10654             NA  Professional degree (MD, JD, etc.)   \n",
       "28021           rice  Professional degree (MD, JD, etc.)   \n",
       "18027             NA                                 PhD   \n",
       "\n",
       "                             Industry  \n",
       "28055   Accounting, Banking & Finance  \n",
       "3605   Utilities & Telecommunications  \n",
       "24443                   Entertainment  \n",
       "10654                          Retail  \n",
       "28021                         Unknown  \n",
       "18027               Computing or Tech  "
      ]
     },
     "execution_count": 42,
     "metadata": {},
     "output_type": "execute_result"
    }
   ],
   "source": [
    "#correlations between variables \n",
    "df[['Total_Income','Currency','Job title','Age','Country','Currency other','Highest_Degree','Industry']].head(6)"
   ]
  },
  {
   "cell_type": "markdown",
   "id": "6f5a9cdb",
   "metadata": {},
   "source": [
    "#current output below given as method demonstration, numbers  can not represent group correctly ,as valuees  for  currensy did not  converted  for one same currency ,for first look some outliers can be corrected (for Columbia) or take down as for row wit index 28021   no clear info given and currency USD /Rtice  can be misleading for furter analyse \n"
   ]
  },
  {
   "cell_type": "code",
   "execution_count": 43,
   "id": "16cac71e",
   "metadata": {},
   "outputs": [],
   "source": [
    "df = df.drop(index=28021)# Remove non-numeric characters and convert to numeric\n",
    "\n",
    "df['Bonus'] = pd.to_numeric(df['Bonus'], errors='coerce')\n",
    "\n",
    "df.loc[3605, 'Currency'] = 'COP'\n"
   ]
  },
  {
   "cell_type": "code",
   "execution_count": 44,
   "id": "f1724ada",
   "metadata": {},
   "outputs": [
    {
     "name": "stdout",
     "output_type": "stream",
     "text": [
      "count        27783\n",
      "mean        107940\n",
      "std         655984\n",
      "min          10070\n",
      "25%          55500\n",
      "50%          79000\n",
      "75%         115000\n",
      "max      102000000\n",
      "Name: Total_Income, dtype: int64\n"
     ]
    }
   ],
   "source": [
    "\n",
    "#Descriptive statistics for Annual Salary (   \n",
    "print(df['Total_Income'].describe().astype(int))\n"
   ]
  },
  {
   "cell_type": "code",
   "execution_count": 45,
   "id": "4bee5e39",
   "metadata": {},
   "outputs": [],
   "source": [
    "#assuming 171 missed values in a column \"Gender\",replase them with 'No Gender ' \n",
    "\n",
    "df['Gender'] = df['Gender'].fillna('No_Gender ')"
   ]
  },
  {
   "cell_type": "code",
   "execution_count": 46,
   "id": "1a310be8",
   "metadata": {},
   "outputs": [
    {
     "data": {
      "text/plain": [
       "array(['Woman', 'Man', 'Non-binary', 'Other or prefer not to answer',\n",
       "       'No_Gender ', 'Prefer not to answer'], dtype=object)"
      ]
     },
     "execution_count": 46,
     "metadata": {},
     "output_type": "execute_result"
    }
   ],
   "source": [
    "# identifying  unique values in a  column\n",
    "df['Gender'].unique()"
   ]
  },
  {
   "cell_type": "code",
   "execution_count": 47,
   "id": "2872abd0",
   "metadata": {},
   "outputs": [],
   "source": [
    "\n",
    "#Replace with \"NA\" (No answer) non gender related  categories (missing values)  using the replace() method:\n",
    "df['Gender'] = df['Gender'].replace(['Prefer not to answer', 'Other or prefer not to answer'], 'No_Gender')"
   ]
  },
  {
   "cell_type": "code",
   "execution_count": 48,
   "id": "2402d9ff",
   "metadata": {},
   "outputs": [],
   "source": [
    "#  clean and standartise string\n",
    "df['Gender'] = df['Gender'].str.upper()\n",
    "df['Gender'] = df['Gender'].str.strip()"
   ]
  },
  {
   "cell_type": "code",
   "execution_count": 49,
   "id": "758786b2",
   "metadata": {},
   "outputs": [
    {
     "name": "stdout",
     "output_type": "stream",
     "text": [
      "WOMAN: 76.28%\n",
      "MAN: 19.42%\n",
      "NON-BINARY: 2.66%\n",
      "NO_GENDER: 1.64%\n"
     ]
    }
   ],
   "source": [
    "# Frequency table for 'Gender_distribution = df['Gender'].value_counts()+ %  counts,0.2%\n",
    "Gender_distribution = df['Gender'].value_counts(normalize=True) * 100\n",
    "for gender, percentage in Gender_distribution.items():\n",
    "    print(f\"{gender}: {percentage:.2f}%\")"
   ]
  },
  {
   "cell_type": "markdown",
   "id": "38b83330",
   "metadata": {},
   "source": [
    "\n",
    "https://pandas.pydata.org/docs/reference/api/pandas.DataFrame.value_counts.html    - Value counts/https://pandas.pydata.org/pandas-docs/version/0.25.0/reference/api/pandas.Series.value_counts.html  (normalize=True)   divide each value on a total sum of all values ,simpe proportion to get persentage when *100/The round(1) used to return  the calculations  to  decimal"
   ]
  },
  {
   "cell_type": "code",
   "execution_count": 50,
   "id": "a7fab97e",
   "metadata": {},
   "outputs": [],
   "source": [
    "#standartise \"'highest degree\" variables \n",
    "#replace missing values,rename all   confused values with most close unic realted names\n",
    "#replace missing values with (Not applicable ')  \"NA\"\n",
    "df['Highest_Degree'] = df['Highest_Degree'].fillna('NON_DEGREE')"
   ]
  },
  {
   "cell_type": "code",
   "execution_count": 51,
   "id": "26ae1b8d",
   "metadata": {},
   "outputs": [
    {
     "name": "stdout",
     "output_type": "stream",
     "text": [
      "['College degree' 'Some college' 'Professional degree (MD, JD, etc.)'\n",
      " 'PhD' 'NON_DEGREE' \"Master's degree\" 'High School']\n"
     ]
    }
   ],
   "source": [
    "\n",
    "#  determine unique categories in Higest  Education column\n",
    "array = df[\"Highest_Degree\"].unique() \n",
    "print(array)"
   ]
  },
  {
   "cell_type": "code",
   "execution_count": 52,
   "id": "827dba5c",
   "metadata": {},
   "outputs": [],
   "source": [
    "\n",
    "#rename values\n",
    "df['Highest_Degree'] = df['Highest_Degree'].replace(['Professional degree (MD, JD, etc.)','Master\\'s degree' ], 'MD')"
   ]
  },
  {
   "cell_type": "code",
   "execution_count": 53,
   "id": "686dfe33",
   "metadata": {},
   "outputs": [],
   "source": [
    "#rename values\n",
    "df['Highest_Degree'] = df['Highest_Degree'].replace(['Some college','College degree'], 'CD')"
   ]
  },
  {
   "cell_type": "code",
   "execution_count": 54,
   "id": "4bdc9cc7",
   "metadata": {},
   "outputs": [],
   "source": [
    "\n",
    "#Assuming Higer School and NA  eqoal to no Proffesional degreee,create a new combined category non_degree after assign same name for Higer scholl as for missing valus \n",
    "df['Highest_Degree'] = df['Highest_Degree'].str.replace('High School','NON_DEGREE')\n",
    "   "
   ]
  },
  {
   "cell_type": "code",
   "execution_count": 55,
   "id": "dc216449",
   "metadata": {},
   "outputs": [
    {
     "name": "stdout",
     "output_type": "stream",
     "text": [
      "CD            15435\n",
      "MD            10098\n",
      "PhD            1417\n",
      "NON_DEGREE      833\n",
      "Name: Highest_Degree, dtype: int64\n"
     ]
    }
   ],
   "source": [
    "\n",
    "# Determine the distribution of categorical variables \n",
    "# Frequency table for 'highest education'Education_distribution = df['highest education level'].value_counts()\n",
    "Education_distribution = df['Highest_Degree'].value_counts()\n",
    "print(Education_distribution)"
   ]
  },
  {
   "cell_type": "markdown",
   "id": "3b9200b2",
   "metadata": {},
   "source": [
    " https://pandas.pydata.org/docs/user_guide/visualization.html   visualise Education distribution   "
   ]
  },
  {
   "cell_type": "code",
   "execution_count": 56,
   "id": "2252ec63",
   "metadata": {},
   "outputs": [
    {
     "data": {
      "image/png": "[encoded data removed]",
      "text/plain": [
       "<Figure size 800x400 with 1 Axes>"
      ]
     },
     "metadata": {},
     "output_type": "display_data"
    }
   ],
   "source": [
    "# Assuming Education_distribution is our Series\n",
    "plt.figure(figsize=(8, 4))\n",
    "plt.pie(Education_distribution, labels=Education_distribution.index, autopct='%1.1f%%', startangle=160)\n",
    "plt.title('Education_distribution')\n",
    "plt.axis('equal') \n",
    "plt.show()"
   ]
  },
  {
   "cell_type": "code",
   "execution_count": 57,
   "id": "ff53c36d",
   "metadata": {},
   "outputs": [],
   "source": [
    "# #create a new variable \"Demographics\"   that could provide different approach to analising releation betveen \"Gender\" ,Education\"   and Salary   \n",
    "# Filter for specific groups  Professional_Education\n",
    "filtered_df = df[df['Highest_Degree'].isin(['CD', 'MD', 'PhD'])]"
   ]
  },
  {
   "cell_type": "code",
   "execution_count": 58,
   "id": "2839cdce",
   "metadata": {},
   "outputs": [],
   "source": [
    "\n",
    "# Calculate the total count for filtered groups\n",
    "filtered_count = filtered_df['Highest_Degree'].count()"
   ]
  },
  {
   "cell_type": "code",
   "execution_count": 59,
   "id": "b7193083",
   "metadata": {},
   "outputs": [
    {
     "name": "stdout",
     "output_type": "stream",
     "text": [
      "Total count for Professional_Education: 26950\n"
     ]
    }
   ],
   "source": [
    "print(\"Total count for Professional_Education:\", filtered_count)\n",
    "\n"
   ]
  },
  {
   "cell_type": "code",
   "execution_count": 60,
   "id": "eb5b41c4",
   "metadata": {},
   "outputs": [
    {
     "name": "stdout",
     "output_type": "stream",
     "text": [
      "CD: 55.56%\n",
      "MD: 36.35%\n",
      "PhD: 5.10%\n",
      "NON_DEGREE: 3.00%\n"
     ]
    }
   ],
   "source": [
    "# Calculating % distribution of degrees\n",
    "degree_distribution = df['Highest_Degree'].value_counts(normalize=True) * 100\n",
    "for degree, percentage in degree_distribution.items():\n",
    "    print(f\"{degree}: {percentage:.2f}%\")\n"
   ]
  },
  {
   "cell_type": "code",
   "execution_count": 61,
   "id": "02f9f9d8",
   "metadata": {},
   "outputs": [],
   "source": [
    "\n",
    "#  'df' with columns 'Highest Education Level' and 'Gender'\n",
    "df['Demographics'] = df['Highest_Degree'] + '_' + df['Gender']\n"
   ]
  },
  {
   "cell_type": "code",
   "execution_count": 62,
   "id": "76aac6ad",
   "metadata": {},
   "outputs": [
    {
     "data": {
      "text/plain": [
       "array(['CD_WOMAN', 'CD_MAN', 'MD_WOMAN', 'PhD_MAN', 'NON_DEGREE_WOMAN',\n",
       "       'MD_MAN', 'NON_DEGREE_NON-BINARY', 'CD_NON-BINARY', 'CD_NO_GENDER',\n",
       "       'NON_DEGREE_MAN', 'MD_NON-BINARY', 'PhD_NON-BINARY', 'PhD_WOMAN',\n",
       "       'MD_NO_GENDER', 'NON_DEGREE_NO_GENDER', 'PhD_NO_GENDER'],\n",
       "      dtype=object)"
      ]
     },
     "execution_count": 62,
     "metadata": {},
     "output_type": "execute_result"
    }
   ],
   "source": [
    "# identifying  categories/values in a new   column\n",
    "df['Demographics'].unique()"
   ]
  },
  {
   "cell_type": "code",
   "execution_count": 63,
   "id": "03830a9c",
   "metadata": {},
   "outputs": [],
   "source": [
    "# https://pandas.pydata.org/docs/reference/api/pandas.Series.str.strip.html#pandas.Series.str.strip       clean new string [Demographics]    from  whitespaces, standartise values names \n",
    "\n",
    "#  clean and standartise string\n",
    "df['Demographics'] = df['Demographics'].str.upper()\n",
    "df['Demographics'] = df['Demographics'].str.strip()"
   ]
  },
  {
   "cell_type": "code",
   "execution_count": 64,
   "id": "ef4f57c0",
   "metadata": {},
   "outputs": [],
   "source": [
    "# Filter for specific groups  Woman_Education\n",
    "filtered_df = df[df['Demographics'].isin(['CD_WOMAN', 'MD_WOMAN', 'PHD_WOMAN'])]\n",
    "# Calculate the total count of all demographics\n",
    "total_count = df['Demographics'].count()"
   ]
  },
  {
   "cell_type": "code",
   "execution_count": 65,
   "id": "715abde9",
   "metadata": {},
   "outputs": [
    {
     "name": "stdout",
     "output_type": "stream",
     "text": [
      "Total count for Woman_Higer_degree: 20715\n",
      "Total count of all Demographics: 27783\n"
     ]
    }
   ],
   "source": [
    "# Calculate the total count for filtered groups\n",
    "filtered_count = filtered_df['Demographics'].count()\n",
    "\n",
    "print(\"Total count for Woman_Higer_degree:\", filtered_count)\n",
    "print(\"Total count of all Demographics:\", total_count)"
   ]
  },
  {
   "cell_type": "code",
   "execution_count": 66,
   "id": "174c73dc",
   "metadata": {},
   "outputs": [
    {
     "name": "stdout",
     "output_type": "stream",
     "text": [
      "Percentage of Women with Higher Degrees: 74.57%\n"
     ]
    }
   ],
   "source": [
    "#Assuming, WOMAN is a magor group for Degree, find distribution,%\n",
    "total_women_higher_degree = 20715\n",
    "total_professionals =27779\n",
    "#percentage of women with higher degrees\n",
    "percentage_women_higher_degree = (total_women_higher_degree / total_professionals) * 100\n",
    "# Print the percentage with two decimal places\n",
    "print(f\"Percentage of Women with Higher Degrees: {percentage_women_higher_degree:.2f}%\")\n"
   ]
  },
  {
   "cell_type": "code",
   "execution_count": 67,
   "id": "90554be2",
   "metadata": {},
   "outputs": [],
   "source": [
    "#clean and standartise string\n",
    "df['Age'] = df['Age'].str.upper()\n",
    "df['Age'] = df['Age'].str.strip()"
   ]
  },
  {
   "cell_type": "code",
   "execution_count": 68,
   "id": "32d993db",
   "metadata": {},
   "outputs": [
    {
     "data": {
      "text/plain": [
       "array(['18-24', '25-34', '45-54', '35-44', '55-64', 'UNDER 18',\n",
       "       '65 OR OVER'], dtype=object)"
      ]
     },
     "execution_count": 68,
     "metadata": {},
     "output_type": "execute_result"
    }
   ],
   "source": [
    "df['Age'].unique()\n"
   ]
  },
  {
   "cell_type": "code",
   "execution_count": 69,
   "id": "22bf4dc8",
   "metadata": {},
   "outputs": [],
   "source": [
    "\n",
    "# Mapping old age groups to new ones\n",
    "age_group_mapping = {\n",
    "    '18-24': '18-25',\n",
    "    '25-34': '25-35',\n",
    "    '35-44': '35-50',\n",
    "    '45-54': '35-50',  # Merging 35-44 and 45-54 into 35-50\n",
    "    '55-64': '50-65',\n",
    "    '65 OR OVER': '65+',\n",
    "    'UNDER 18': '18'  # Keep 'UNDER 18' as it is\n",
    "}"
   ]
  },
  {
   "cell_type": "code",
   "execution_count": 70,
   "id": "40eb2d22",
   "metadata": {},
   "outputs": [],
   "source": [
    "# Replace old age group labels with new ones\n",
    "df['Age'] = df['Age'].replace(age_group_mapping)"
   ]
  },
  {
   "cell_type": "code",
   "execution_count": 71,
   "id": "32cd2b12",
   "metadata": {},
   "outputs": [
    {
     "data": {
      "text/plain": [
       "array(['18-25', '25-35', '35-50', '50-65', '18', '65+'], dtype=object)"
      ]
     },
     "execution_count": 71,
     "metadata": {},
     "output_type": "execute_result"
    }
   ],
   "source": [
    "# Show the updated DataFrame\n",
    "df['Age'].unique()"
   ]
  },
  {
   "cell_type": "code",
   "execution_count": 72,
   "id": "241014a6",
   "metadata": {},
   "outputs": [],
   "source": [
    "\n",
    "#create a new value \n",
    "df['Age_group'] = df['Age'] + '_' + df['Gender']\n"
   ]
  },
  {
   "cell_type": "code",
   "execution_count": 73,
   "id": "ef5d86f2",
   "metadata": {},
   "outputs": [
    {
     "data": {
      "text/html": [
       "<div>\n",
       "<style scoped>\n",
       "    .dataframe tbody tr th:only-of-type {\n",
       "        vertical-align: middle;\n",
       "    }\n",
       "\n",
       "    .dataframe tbody tr th {\n",
       "        vertical-align: top;\n",
       "    }\n",
       "\n",
       "    .dataframe thead th {\n",
       "        text-align: right;\n",
       "    }\n",
       "</style>\n",
       "<table border=\"1\" class=\"dataframe\">\n",
       "  <thead>\n",
       "    <tr style=\"text-align: right;\">\n",
       "      <th></th>\n",
       "      <th>Total_Income</th>\n",
       "      <th>Currency</th>\n",
       "      <th>Job title</th>\n",
       "      <th>Highest_Degree</th>\n",
       "      <th>Age_group</th>\n",
       "    </tr>\n",
       "  </thead>\n",
       "  <tbody>\n",
       "    <tr>\n",
       "      <th>3605</th>\n",
       "      <td>102000000</td>\n",
       "      <td>COP</td>\n",
       "      <td>Operations Manager</td>\n",
       "      <td>CD</td>\n",
       "      <td>25-35_MAN</td>\n",
       "    </tr>\n",
       "    <tr>\n",
       "      <th>24443</th>\n",
       "      <td>21800000</td>\n",
       "      <td>JPY</td>\n",
       "      <td>Voice Actor</td>\n",
       "      <td>CD</td>\n",
       "      <td>25-35_MAN</td>\n",
       "    </tr>\n",
       "    <tr>\n",
       "      <th>10654</th>\n",
       "      <td>11500000</td>\n",
       "      <td>JPY</td>\n",
       "      <td>Compliance Manager</td>\n",
       "      <td>MD</td>\n",
       "      <td>25-35_WOMAN</td>\n",
       "    </tr>\n",
       "    <tr>\n",
       "      <th>26980</th>\n",
       "      <td>10000000</td>\n",
       "      <td>JPY</td>\n",
       "      <td>Regional Sales Manager</td>\n",
       "      <td>MD</td>\n",
       "      <td>25-35_MAN</td>\n",
       "    </tr>\n",
       "    <tr>\n",
       "      <th>18027</th>\n",
       "      <td>9400000</td>\n",
       "      <td>JPY</td>\n",
       "      <td>Backend system dev</td>\n",
       "      <td>PhD</td>\n",
       "      <td>25-35_MAN</td>\n",
       "    </tr>\n",
       "  </tbody>\n",
       "</table>\n",
       "</div>"
      ],
      "text/plain": [
       "       Total_Income Currency               Job title Highest_Degree  \\\n",
       "3605      102000000      COP      Operations Manager             CD   \n",
       "24443      21800000      JPY             Voice Actor             CD   \n",
       "10654      11500000      JPY      Compliance Manager             MD   \n",
       "26980      10000000      JPY  Regional Sales Manager             MD   \n",
       "18027       9400000      JPY      Backend system dev            PhD   \n",
       "\n",
       "         Age_group  \n",
       "3605     25-35_MAN  \n",
       "24443    25-35_MAN  \n",
       "10654  25-35_WOMAN  \n",
       "26980    25-35_MAN  \n",
       "18027    25-35_MAN  "
      ]
     },
     "execution_count": 73,
     "metadata": {},
     "output_type": "execute_result"
    }
   ],
   "source": [
    "# Sort df'Total_Income' in ascending order\n",
    "df_sorted = df.sort_values(by='Total_Income', ascending=False)\n",
    "df_sorted[['Total_Income', 'Currency', 'Job title', 'Highest_Degree','Age_group']].head(5)"
   ]
  },
  {
   "cell_type": "code",
   "execution_count": 74,
   "id": "92e321e8",
   "metadata": {},
   "outputs": [
    {
     "name": "stdout",
     "output_type": "stream",
     "text": [
      "Age               0\n",
      "Industry          0\n",
      "Job title         0\n",
      "Job context       0\n",
      "Annual Salary     0\n",
      "Bonus             0\n",
      "Currency          0\n",
      "Currency other    0\n",
      "Country           0\n",
      "State             0\n",
      "City              0\n",
      "Work_Exp          0\n",
      "Rel_Exp           0\n",
      "Highest_Degree    0\n",
      "Gender            0\n",
      "Total_Income      0\n",
      "Demographics      0\n",
      "Age_group         0\n",
      "dtype: int64\n"
     ]
    }
   ],
   "source": [
    "\n",
    "# #clean data for range columns ‘Age’ , ‘Work Exp’ , ‘ Rel_exp’ :extract text, find unique groups /\n",
    "# identifying columns with missing data in updated df\n",
    "print(df.isnull().sum())\n"
   ]
  },
  {
   "cell_type": "code",
   "execution_count": 75,
   "id": "8d4a9d98",
   "metadata": {},
   "outputs": [
    {
     "name": "stdout",
     "output_type": "stream",
     "text": [
      "Number of unique industries: 1198\n"
     ]
    }
   ],
   "source": [
    "# identifying  number of unoque  values in 'Industry'\n",
    "unique_industries = df['Industry'].nunique()\n",
    "print(\"Number of unique industries:\", unique_industries)"
   ]
  },
  {
   "cell_type": "code",
   "execution_count": 76,
   "id": "cb379976",
   "metadata": {},
   "outputs": [
    {
     "data": {
      "text/plain": [
       "array(['2 - 4 years', '8 - 10 years', '11 - 20 years', '5-7 years',\n",
       "       '21 - 30 years', '31 - 40 years', '41 years or more',\n",
       "       '1 year or less'], dtype=object)"
      ]
     },
     "execution_count": 76,
     "metadata": {},
     "output_type": "execute_result"
    }
   ],
   "source": [
    "\n",
    "# identifying  categories/values in a'Work_Exp' column\n",
    "df['Work_Exp'].unique()"
   ]
  },
  {
   "cell_type": "code",
   "execution_count": 77,
   "id": "052d350c",
   "metadata": {},
   "outputs": [
    {
     "name": "stdout",
     "output_type": "stream",
     "text": [
      "United States     8973\n",
      "USA               7909\n",
      "US                2598\n",
      "Canada            1564\n",
      "United States      667\n",
      "                  ... \n",
      "Puerto Rico          1\n",
      "Canadw               1\n",
      "Unitef Stated        1\n",
      "NL                   1\n",
      "Ukraine              1\n",
      "Name: Country, Length: 340, dtype: int64\n"
     ]
    }
   ],
   "source": [
    "\n",
    "# Frequency table for 'country   updated\n",
    "Country_distribution = df['Country'].value_counts()\n",
    "\n",
    "print(Country_distribution)"
   ]
  },
  {
   "cell_type": "markdown",
   "id": "8fc0521d",
   "metadata": {},
   "source": [
    "#After filtering unique values in a 'Country' string, Identifying missliding data and manually replase it :extract Country name or consider it missing, and  maark as 'Unknown'  using   .replace({'old_value1': 'new_value1'}).Using replace method clean 'Country'   "
   ]
  },
  {
   "cell_type": "code",
   "execution_count": 78,
   "id": "6dba454d",
   "metadata": {},
   "outputs": [],
   "source": [
    "#using reolace method , clean names form '.'\n",
    "df['Country'] = df['Country'].str.replace('\\.', '', regex=True)\n"
   ]
  },
  {
   "cell_type": "code",
   "execution_count": 79,
   "id": "983df42b",
   "metadata": {},
   "outputs": [],
   "source": [
    "# make   all upper \n",
    "df['Country'] = df['Country'].str.upper()\n",
    "\n",
    "df['Country'] = df['Country'].str.strip()"
   ]
  },
  {
   "cell_type": "code",
   "execution_count": 80,
   "id": "ab09ad01",
   "metadata": {},
   "outputs": [
    {
     "data": {
      "text/plain": [
       "array(['CANADA', 'COLOMBIA', 'JAPAN', 'USA', 'CHINA', 'UNITED STATES',\n",
       "       'SWEDEN', 'SINGAPORE', 'TAIWAN', 'SOUTH AFRICA', 'US', 'DENMARK',\n",
       "       'INDIA', 'AUSTRALIA', 'UNITED KINGDOM', 'UK', 'GERMANY',\n",
       "       'UNITED STATED', 'NORWAY', 'ENGLAND', 'U S', 'HONG KONG', 'FRANCE',\n",
       "       'UNITED STATUS', 'NEW ZEALAND', 'UNITED STATES OF AMERICA', 'NZ',\n",
       "       'NIGERIA', 'SWITZERLAND', 'ISRAEL', 'SPAIN', 'VIETNAM', 'THE US',\n",
       "       'UA', 'AUSTRALIAN', 'AMERICA', 'UNITED STATTES', 'GLOBAL',\n",
       "       'IRELAND', 'BELGIUM',\n",
       "       'FROM NEW ZEALAND BUT ON PROJECTS ACROSS APAC', 'UNITES STATES',\n",
       "       'USD', 'UNITED STARES', 'UNITE STATES', 'ISA', '🇺🇸', 'SRI LANKA',\n",
       "       'PHILIPPINES', 'POLAND', 'CANADA, OTTAWA, ONTARIO',\n",
       "       'UNITED STATUES', 'UNITED STATE', 'LIECHTENSTEIN',\n",
       "       'UNITED STATEDS', 'CANADÁ', 'THE NETHERLANDS', 'NETHERLANDS',\n",
       "       'NEDERLAND', 'ITALY', 'CSNADA', 'SLOVAKIA', 'BRAZIL', 'CANDA',\n",
       "       'UNITIED STATES', 'BERMUDA', 'GHANA', 'UNITED SATES',\n",
       "       'UNITED STATE OF AMERICA', 'UNITEDSTATES', 'MEXICO',\n",
       "       'WORLDWIDE (BASED IN US BUT SHORT TERM TRIPS AROUDN THE WORLD)',\n",
       "       'Y', 'USAT', 'UNITED STATESP',\n",
       "       'BONUS BASED ON MEETING YEARLY GOALS SET W/ MY SUPERVISOR',\n",
       "       'NEW ZEALAND AOTEAROA', 'LUXEMBOURG', 'AUSTRIA', 'ARGENTINA',\n",
       "       'UNIYED STATES', 'POLICY', 'DANMARK', 'UNITED STATEA',\n",
       "       'INTERNATIONAL', 'SAUDI ARABIA', 'PORTUGAL',\n",
       "       'AUSTRIA, BUT I WORK REMOTELY FOR A DUTCH/BRITISH COMPANY',\n",
       "       'UNITED SATES OF AMERICA', 'UXZ', 'PAKISTAN', 'UGANDA',\n",
       "       'UNITED STATES OF AMERICAN',\n",
       "       'UNITED STATES (I WORK FROM HOME AND MY CLIENTS ARE ALL OVER THE US/CANADA/PR',\n",
       "       'ERITREA', 'UAE', 'SIERRA LEONE', 'SCOTLAND', 'VIRGINIA',\n",
       "       'UK, BUT FOR GLOBALLY FULLY REMOTE COMPANY', 'USA TOMORROW',\n",
       "       'HARTFORD', 'LUXEMBURG', 'AFRICA', 'CURRENTLY FINANCE',\n",
       "       'NORTHERN IRELAND, UNITED KINGDOM', 'CONTRACTS', 'ISLE OF MAN',\n",
       "       'REMOTE', 'FOR THE UNITED STATES GOVERNMENT, BUT POSTED OVERSEAS',\n",
       "       'ROMANIA', 'CONGO', 'URUGUAY', 'ECUADOR', 'UNITED STTES',\n",
       "       'I WORK FOR A UAE-BASED ORGANIZATION, THOUGH I AM PERSONALLY IN THE US',\n",
       "       'US GOVT EMPLOYEE OVERSEAS, COUNTRY WITHHELD', 'CAYMAN ISLANDS',\n",
       "       'UNITES KINGDOM', 'PUERTO RICO', 'CANADW', 'UNITEF STATED', 'IS',\n",
       "       'NL', 'COSTA RICA', 'CALIFORNIA', 'WALES', 'USA-- VIRGIN ISLANDS',\n",
       "       'THE UNITED STATES', \"USA, BUT FOR FOREIGN GOV'T\", 'USAA',\n",
       "       'I WAS BROUGHT IN ON THIS SALARY TO HELP WITH THE EHR AND VERY QUICKLY WAS PROMOTED TO CURRENT POSITION BUT COMPENSATION WAS NOT ALTERED',\n",
       "       'LITHUANIA', 'CANAD', 'LONDON', 'BANGLADESH', 'HUNGARY',\n",
       "       'UNITED ARAB EMIRATES', 'QATAR', 'UNITED STATWS', 'UNITED KINDOM',\n",
       "       \"COTE D'IVOIRE\", 'THE BAHAMAS', 'USAB', 'FINLAND',\n",
       "       'UNITEED STATES', 'RWANDA', 'USS', 'UNITED STATES OF AMERICAS',\n",
       "       'REMOTE (PHILIPPINES)', 'UNITED STATEW',\n",
       "       '$2,17584/YEAR IS DEDUCTED FOR BENEFITS', 'CATALONIA', 'KENYA',\n",
       "       'UNTED STATES', 'N/A (REMOTE FROM WHEREVER I WANT)', 'US>',\n",
       "       'SOMALIA', 'UNITED STATEES', 'UNITED STATSS', 'ENGLAND, GB',\n",
       "       'BULGARIA', 'UK, REMOTE', 'AOTEAROA NEW ZEALAND', 'CAN',\n",
       "       'COMPANY IN GERMANY I WORK FROM PAKISTAN', 'THAILAND',\n",
       "       \"I EARN COMMISSION ON SALES IF I MEET QUOTA, I'M GUARANTEED ANOTHER 16K MIN LAST YEAR I EARNED AN ADDITIONAL 27K IT'S NOT UNCOMMON FOR PEOPLE IN MY SPACE TO EARN 100K+ AFTER COMMISSION\",\n",
       "       'AUSTRALI', 'ZIMBABWE', 'LATVIA', 'UNIYES STATES',\n",
       "       'UNITED  STATES', 'SAN FRANCISCO', 'HONG KONH', 'GREECE',\n",
       "       'JAMAICA', 'ENGLAND, UK', 'US OF A', 'UNITED Y', 'MALTA',\n",
       "       'ENGLAND/UK', 'EUROPE', 'AFGHANISTAN', 'UNITED KINGDOM (ENGLAND)',\n",
       "       'GREAT BRITAIN',\n",
       "       'I AM LOCATED IN CANADA BUT I WORK FOR A COMPANY IN THE US',\n",
       "       'UK (ENGLAND)', 'CANADA AND USA', 'SCOTLAND, UK', 'UNTIED STATES',\n",
       "       'BRITAIN', 'UNIITED STATES', 'CHILE',\n",
       "       \"WE DON'T GET RAISES, WE GET QUARTERLY BONUSES, BUT THEY PERIODICALLY ASSES INCOME IN THE AREA YOU WORK, SO I GOT A RAISE BECAUSE A 3RD PARTY ASSESSMENT SHOWED I WAS PAID TOO LITTLE FOR THE AREA WE WERE LOCATED\",\n",
       "       'WALES (UNITED KINGDOM)',\n",
       "       'USA (COMPANY IS BASED IN A US TERRITORY, I WORK REMOTE)',\n",
       "       'CROATIA', 'NORTHERN IRELAND', 'UNITER STATEZ', 'MALAYSIA',\n",
       "       'JORDAN', 'ENGLANG', 'JERSEY, CHANNEL ISLANDS', 'WALES, UK',\n",
       "       'JAPAN, US GOV POSITION', 'UK FOR US COMPANY', 'MOROCCO',\n",
       "       'ESTONIA', 'PANAMÁ', 'UNITED KINGDOMK', 'CAMBODIA',\n",
       "       'ENGLAND, UNITED KINGDOM',\n",
       "       'FROM ROMANIA, BUT FOR AN US BASED COMPANY', 'SERBIA',\n",
       "       'SOUTH KOREA', 'UK (NORTHERN ENGLAND)', 'WALES (UK)', 'CYPRUS',\n",
       "       'SLOVENIA', 'ITALY (SOUTH)', 'UNITED STATES- PUERTO RICO',\n",
       "       'UNITED STATES IS AMERICA', 'RUSSIA', 'KUWAIT', 'UKRAINE'],\n",
       "      dtype=object)"
      ]
     },
     "execution_count": 80,
     "metadata": {},
     "output_type": "execute_result"
    }
   ],
   "source": [
    "\n",
    "df['Country'].unique()"
   ]
  },
  {
   "cell_type": "code",
   "execution_count": 81,
   "id": "f1a340d7",
   "metadata": {},
   "outputs": [],
   "source": [
    "\n",
    "# Replace the emoji with 'USA'\n",
    "df['Country'] = df['Country'].str.replace('🇺🇸', 'USA')"
   ]
  },
  {
   "cell_type": "code",
   "execution_count": 82,
   "id": "ce97a561",
   "metadata": {},
   "outputs": [],
   "source": [
    "df['Country'] = df['Country'].str.replace('UNITED STATES I WORK FROM HOME AND MY CLIENTS ARE ALL OVER THE US/CANADA/PR', 'USA')"
   ]
  },
  {
   "cell_type": "code",
   "execution_count": 83,
   "id": "4442d099",
   "metadata": {},
   "outputs": [],
   "source": [
    "df['Country'] = df['Country'].str.replace(r\"I AM LOCATED IN CANADA BUT I WORK FOR A COMPANY IN THE US\",\"USA\", regex=True)"
   ]
  },
  {
   "cell_type": "code",
   "execution_count": 84,
   "id": "d9017ab5",
   "metadata": {},
   "outputs": [],
   "source": [
    "# Replace values with 'USA'\n",
    "df['Country'] = df['Country'].replace({'US GOVT EMPLOYEE OVERSEAS, COUNTRY WITHHELD': 'USA',\n",
    "                                        'FOR THE UNITED STATES GOVERNMENT, BUT POSTED OVERSEAS': 'USA',\n",
    "                                        'USA TOMORROW': 'USA'})"
   ]
  },
  {
   "cell_type": "code",
   "execution_count": 85,
   "id": "38b876fa",
   "metadata": {},
   "outputs": [],
   "source": [
    "\n",
    "\n",
    "df['Country'] = df['Country'].str.replace('USA COMPANY IS BASED IN A US TERRITORY, I WORK REMOTE', 'USA')"
   ]
  },
  {
   "cell_type": "code",
   "execution_count": null,
   "id": "cc55f419",
   "metadata": {},
   "outputs": [],
   "source": []
  },
  {
   "cell_type": "code",
   "execution_count": 86,
   "id": "9c62f94a",
   "metadata": {},
   "outputs": [],
   "source": [
    "import re\n",
    "# Regular expression to match variations of USA and United States  use $   to mark end ($) of the string, \n",
    "usa_pattern = re.compile(r\"^(USA|US|United States)$\", flags=re.IGNORECASE)\n",
    "# Replace matches with \"USA\", case-insensitive\n",
    "df['Country'] = df['Country'].str.replace(usa_pattern, 'USA', regex=True)"
   ]
  },
  {
   "cell_type": "markdown",
   "id": "5c4edc94",
   "metadata": {},
   "source": [
    " I naoticed multiply USA entityes to standartise it , i use strip()    and upper()   functions \n",
    "\n",
    " I found a  464 group with name USA OF AMERICA'  ,I replase it with USA, but use  case sensitive function  case=False)\n"
   ]
  },
  {
   "cell_type": "code",
   "execution_count": 87,
   "id": "55d18c0d",
   "metadata": {},
   "outputs": [],
   "source": [
    "\n",
    "df['Country'] = df['Country'].str.replace('UNITED STATES OF AMERICA ','USA')\n",
    "df['Country'] = df['Country'].str.replace('UNITEF STATED','USA')\n"
   ]
  },
  {
   "cell_type": "code",
   "execution_count": 88,
   "id": "8aaa5841",
   "metadata": {},
   "outputs": [],
   "source": [
    "\n",
    "\n",
    "df['Country'] = df['Country'].str.replace('UNITED STATES', 'USA', case=False)"
   ]
  },
  {
   "cell_type": "code",
   "execution_count": 89,
   "id": "26f7569b",
   "metadata": {},
   "outputs": [],
   "source": [
    "df['Country'] = df['Country'].str.replace('USA OF AMERICA','USA')"
   ]
  },
  {
   "cell_type": "code",
   "execution_count": 90,
   "id": "8455113c",
   "metadata": {},
   "outputs": [
    {
     "name": "stdout",
     "output_type": "stream",
     "text": [
      "USA               22954\n",
      "CANADA             1672\n",
      "UK                  696\n",
      "UNITED KINGDOM      633\n",
      "AUSTRALIA           383\n",
      "                  ...  \n",
      "CAYMAN ISLANDS        1\n",
      "UNITES KINGDOM        1\n",
      "CANADW                1\n",
      "NL                    1\n",
      "UKRAINE               1\n",
      "Name: Country, Length: 217, dtype: int64\n"
     ]
    }
   ],
   "source": [
    "\n",
    "# Frequency table for 'country   updated\n",
    "Country_distribution = df['Country'].value_counts()\n",
    "print(Country_distribution)"
   ]
  },
  {
   "cell_type": "code",
   "execution_count": 91,
   "id": "54399c89",
   "metadata": {},
   "outputs": [
    {
     "name": "stdout",
     "output_type": "stream",
     "text": [
      "Total occurrences of 'Total_Income': 27783\n",
      "Percentage of USA's in 'Salary distribution': 82.63%\n"
     ]
    }
   ],
   "source": [
    "# Given value for USA occurrences\n",
    "usa_total = 22956  # Already known\n",
    "\n",
    "# Calculate the total number of occurrences of 'Total_Income' in the entire dataset\n",
    "total_occurrences = df['Total_Income'].count()\n",
    "\n",
    "# Calculate the percentage of USA's occurrences out of the total\n",
    "percentage_usa_total_income = (usa_total / total_occurrences) * 100\n",
    "\n",
    "# Print the results\n",
    "print(f\"Total occurrences of 'Total_Income': {total_occurrences}\")\n",
    "\n",
    "print(f\"Percentage of USA's in 'Salary distribution': {percentage_usa_total_income:.2f}%\")\n"
   ]
  },
  {
   "cell_type": "code",
   "execution_count": 92,
   "id": "8928dcc4",
   "metadata": {},
   "outputs": [
    {
     "name": "stdout",
     "output_type": "stream",
     "text": [
      "Computing or Tech                       4633\n",
      "Education (Higher Education)            2447\n",
      "Nonprofits                              2406\n",
      "Health care                             1879\n",
      "Government and Public Administration    1877\n",
      "                                        ... \n",
      "Hospital                                   1\n",
      "Environmental Planning                     1\n",
      "Architecture/Construction                  1\n",
      "Information sciences                       1\n",
      "Freelance Journalism                       1\n",
      "Name: Industry, Length: 1198, dtype: int64\n"
     ]
    }
   ],
   "source": [
    "# Determine the distribution of categorical variables (e.g., Industry)\n",
    "# Frequency table for 'Industry'\n",
    "industry_distribution = df['Industry'].value_counts()\n",
    "\n",
    "print(industry_distribution)"
   ]
  },
  {
   "cell_type": "code",
   "execution_count": 93,
   "id": "4322228a",
   "metadata": {},
   "outputs": [],
   "source": [
    "\n",
    "\n",
    "#  clean and standartise string\n",
    "df['Job title'] = df['Job title'].str.upper()\n",
    "df['Job title'] = df['Job title'].str.strip()"
   ]
  },
  {
   "cell_type": "code",
   "execution_count": 94,
   "id": "4fc3e28b",
   "metadata": {},
   "outputs": [
    {
     "data": {
      "text/plain": [
       "array(['INVESTMENT BANKING ANALYST', 'OPERATIONS MANAGER', 'VOICE ACTOR',\n",
       "       ..., 'SENIOR DIRECTOR, ESG AND INVESTOR RELATIONS',\n",
       "       'COMMUNITY PROJECT MANAGER', 'SOFTWARE DEVELOPMENT LEAD'],\n",
       "      dtype=object)"
      ]
     },
     "execution_count": 94,
     "metadata": {},
     "output_type": "execute_result"
    }
   ],
   "source": [
    "\n",
    "# identifying  categories/values in a targeted  variable 'Annual Salary' column\n",
    "df['Job title'].unique()"
   ]
  },
  {
   "cell_type": "code",
   "execution_count": 95,
   "id": "d7cc44b3",
   "metadata": {},
   "outputs": [],
   "source": [
    "# Identify duplicate rows where  in 'Job title' is 'Student' as most of responders - professionals \n",
    "duplicate_rows_df = df[df.duplicated(subset=['Job title'], keep=False) & (df['Job title'] == 'STUDENT')]"
   ]
  },
  {
   "cell_type": "code",
   "execution_count": 96,
   "id": "49595fb9",
   "metadata": {},
   "outputs": [],
   "source": [
    "# Drop duplicate rows\n",
    "df = df.drop(duplicate_rows_df.index)"
   ]
  },
  {
   "cell_type": "code",
   "execution_count": 97,
   "id": "23f6ba60",
   "metadata": {},
   "outputs": [],
   "source": [
    "\n",
    "#Find a number of Jobs related to Software , using keywords \n",
    "keywords = ['Software', 'Lead',  'Senior Software Engineer', 'Program Manager']"
   ]
  },
  {
   "cell_type": "code",
   "execution_count": 98,
   "id": "8d3a3157",
   "metadata": {},
   "outputs": [],
   "source": [
    "# Filter the DataFrame based on keywords in the 'Job Title' column\n",
    "Job_filtered_df = df[df['Job title'].str.contains('|'.join(keywords), case=False)]"
   ]
  },
  {
   "cell_type": "code",
   "execution_count": 99,
   "id": "390f3227",
   "metadata": {},
   "outputs": [
    {
     "name": "stdout",
     "output_type": "stream",
     "text": [
      "28043                                   LEAD\n",
      "6783             PRINCIPAL SOFTWARE ENGINEER\n",
      "1449                             DESIGN LEAD\n",
      "4206                       SOFTWARE ENGINEER\n",
      "17209         DIRECTOR, SOFTWARE DEVELOPMENT\n",
      "                        ...                 \n",
      "26015               SENIOR SOFTWARE ENGINEER\n",
      "25830                      SOFTWARE ENGINEER\n",
      "19434                      SOFTWARE ENGINEER\n",
      "27631    SOFTWARE ENGINEER TECHNICAL SUPPORT\n",
      "8999               SOFTWARE DEVELOPMENT LEAD\n",
      "Name: Job title, Length: 2203, dtype: object\n"
     ]
    }
   ],
   "source": [
    "\n",
    "# Print the filtered DataFrame\n",
    "print(Job_filtered_df['Job title'])"
   ]
  },
  {
   "cell_type": "code",
   "execution_count": 100,
   "id": "9a506510",
   "metadata": {},
   "outputs": [
    {
     "data": {
      "text/html": [
       "<div>\n",
       "<style scoped>\n",
       "    .dataframe tbody tr th:only-of-type {\n",
       "        vertical-align: middle;\n",
       "    }\n",
       "\n",
       "    .dataframe tbody tr th {\n",
       "        vertical-align: top;\n",
       "    }\n",
       "\n",
       "    .dataframe thead th {\n",
       "        text-align: right;\n",
       "    }\n",
       "</style>\n",
       "<table border=\"1\" class=\"dataframe\">\n",
       "  <thead>\n",
       "    <tr style=\"text-align: right;\">\n",
       "      <th></th>\n",
       "      <th>Total_Income</th>\n",
       "      <th>Age</th>\n",
       "      <th>Demographics</th>\n",
       "      <th>Currency</th>\n",
       "      <th>Job title</th>\n",
       "      <th>Rel_Exp</th>\n",
       "    </tr>\n",
       "  </thead>\n",
       "  <tbody>\n",
       "    <tr>\n",
       "      <th>28043</th>\n",
       "      <td>2600000</td>\n",
       "      <td>25-35</td>\n",
       "      <td>NON_DEGREE_MAN</td>\n",
       "      <td>USD</td>\n",
       "      <td>LEAD</td>\n",
       "      <td>2 - 4 years</td>\n",
       "    </tr>\n",
       "    <tr>\n",
       "      <th>6783</th>\n",
       "      <td>1675000</td>\n",
       "      <td>25-35</td>\n",
       "      <td>MD_MAN</td>\n",
       "      <td>USD</td>\n",
       "      <td>PRINCIPAL SOFTWARE ENGINEER</td>\n",
       "      <td>5-7 years</td>\n",
       "    </tr>\n",
       "    <tr>\n",
       "      <th>20420</th>\n",
       "      <td>1287000</td>\n",
       "      <td>35-50</td>\n",
       "      <td>CD_MAN</td>\n",
       "      <td>USD</td>\n",
       "      <td>SENIOR STAFF SOFTWARE ENGINEER</td>\n",
       "      <td>21 - 30 years</td>\n",
       "    </tr>\n",
       "    <tr>\n",
       "      <th>1449</th>\n",
       "      <td>1150000</td>\n",
       "      <td>35-50</td>\n",
       "      <td>CD_WOMAN</td>\n",
       "      <td>ZAR</td>\n",
       "      <td>DESIGN LEAD</td>\n",
       "      <td>11 - 20 years</td>\n",
       "    </tr>\n",
       "    <tr>\n",
       "      <th>4206</th>\n",
       "      <td>1100000</td>\n",
       "      <td>25-35</td>\n",
       "      <td>MD_WOMAN</td>\n",
       "      <td>USD</td>\n",
       "      <td>SOFTWARE ENGINEER</td>\n",
       "      <td>5-7 years</td>\n",
       "    </tr>\n",
       "  </tbody>\n",
       "</table>\n",
       "</div>"
      ],
      "text/plain": [
       "       Total_Income    Age    Demographics Currency  \\\n",
       "28043       2600000  25-35  NON_DEGREE_MAN      USD   \n",
       "6783        1675000  25-35          MD_MAN      USD   \n",
       "20420       1287000  35-50          CD_MAN      USD   \n",
       "1449        1150000  35-50        CD_WOMAN      ZAR   \n",
       "4206        1100000  25-35        MD_WOMAN      USD   \n",
       "\n",
       "                            Job title        Rel_Exp  \n",
       "28043                            LEAD    2 - 4 years  \n",
       "6783      PRINCIPAL SOFTWARE ENGINEER      5-7 years  \n",
       "20420  SENIOR STAFF SOFTWARE ENGINEER  21 - 30 years  \n",
       "1449                      DESIGN LEAD  11 - 20 years  \n",
       "4206                SOFTWARE ENGINEER      5-7 years  "
      ]
     },
     "execution_count": 100,
     "metadata": {},
     "output_type": "execute_result"
    }
   ],
   "source": [
    "sorted_df = Job_filtered_df.sort_values(by='Total_Income', ascending=False)\n",
    "\n",
    "# Print the desired columns from the sorted copy\n",
    "sorted_df[['Total_Income', 'Age', 'Demographics', 'Currency', 'Job title', 'Rel_Exp']].head()"
   ]
  },
  {
   "cell_type": "code",
   "execution_count": 101,
   "id": "487781ea",
   "metadata": {},
   "outputs": [
    {
     "name": "stdout",
     "output_type": "stream",
     "text": [
      "Salary_survey_0.ipynb was last run on: November 13, 2024, 07:26:37\n"
     ]
    }
   ],
   "source": [
    "\n",
    "from datetime import datetime \n",
    "\n",
    "\n",
    "# Getting current date and time\n",
    "current_time = datetime.now()\n",
    "# Formatting the date and time in a readable format:\n",
    "formatted_time = current_time.strftime('%B %d, %Y, %H:%M:%S')# Print the formatted date and time\n",
    "print(f\"Salary_survey_0.ipynb was last run on: {formatted_time}\")\n"
   ]
  },
  {
   "cell_type": "code",
   "execution_count": 102,
   "id": "eefb8eca",
   "metadata": {},
   "outputs": [],
   "source": [
    "# NEW DF for   USA  country ,find outliers  .For targeted category 'Annial salary'=  find MEan  and medianpo"
   ]
  },
  {
   "cell_type": "code",
   "execution_count": 103,
   "id": "ab2e0ff8",
   "metadata": {},
   "outputs": [],
   "source": [
    "\n",
    "# Filter for US data\n",
    "USA_filtered_df = df[df['Country'] == 'USA']\n"
   ]
  },
  {
   "cell_type": "code",
   "execution_count": 104,
   "id": "f076d9b7",
   "metadata": {},
   "outputs": [],
   "source": [
    "# Further filter for USD currency\n",
    "USA_df_USD = USA_filtered_df[USA_filtered_df['Currency'] == 'USD']"
   ]
  },
  {
   "cell_type": "code",
   "execution_count": 105,
   "id": "f9d2292a",
   "metadata": {},
   "outputs": [],
   "source": [
    "# Sort by Total_Income in descending order\n",
    "USA_df_USD_sorted = USA_df_USD.sort_values(by='Total_Income', ascending=False)"
   ]
  },
  {
   "cell_type": "code",
   "execution_count": 106,
   "id": "e758e0f5",
   "metadata": {},
   "outputs": [
    {
     "data": {
      "text/html": [
       "<div>\n",
       "<style scoped>\n",
       "    .dataframe tbody tr th:only-of-type {\n",
       "        vertical-align: middle;\n",
       "    }\n",
       "\n",
       "    .dataframe tbody tr th {\n",
       "        vertical-align: top;\n",
       "    }\n",
       "\n",
       "    .dataframe thead th {\n",
       "        text-align: right;\n",
       "    }\n",
       "</style>\n",
       "<table border=\"1\" class=\"dataframe\">\n",
       "  <thead>\n",
       "    <tr style=\"text-align: right;\">\n",
       "      <th></th>\n",
       "      <th>Total_Income</th>\n",
       "      <th>Age_group</th>\n",
       "      <th>Country</th>\n",
       "      <th>Job title</th>\n",
       "      <th>Rel_Exp</th>\n",
       "      <th>Highest_Degree</th>\n",
       "    </tr>\n",
       "  </thead>\n",
       "  <tbody>\n",
       "    <tr>\n",
       "      <th>26466</th>\n",
       "      <td>5004044</td>\n",
       "      <td>50-65_WOMAN</td>\n",
       "      <td>USA</td>\n",
       "      <td>INSIDE SALES MANAGER</td>\n",
       "      <td>21 - 30 years</td>\n",
       "      <td>MD</td>\n",
       "    </tr>\n",
       "    <tr>\n",
       "      <th>2124</th>\n",
       "      <td>3000000</td>\n",
       "      <td>50-65_WOMAN</td>\n",
       "      <td>USA</td>\n",
       "      <td>OWNER AND CEO</td>\n",
       "      <td>21 - 30 years</td>\n",
       "      <td>MD</td>\n",
       "    </tr>\n",
       "    <tr>\n",
       "      <th>28043</th>\n",
       "      <td>2600000</td>\n",
       "      <td>25-35_MAN</td>\n",
       "      <td>USA</td>\n",
       "      <td>LEAD</td>\n",
       "      <td>2 - 4 years</td>\n",
       "      <td>NON_DEGREE</td>\n",
       "    </tr>\n",
       "    <tr>\n",
       "      <th>26935</th>\n",
       "      <td>1950000</td>\n",
       "      <td>35-50_MAN</td>\n",
       "      <td>USA</td>\n",
       "      <td>MANAGING DIRECTOR</td>\n",
       "      <td>11 - 20 years</td>\n",
       "      <td>CD</td>\n",
       "    </tr>\n",
       "    <tr>\n",
       "      <th>5755</th>\n",
       "      <td>1900000</td>\n",
       "      <td>25-35_WOMAN</td>\n",
       "      <td>USA</td>\n",
       "      <td>ATTENDING PHYSICIAN (GENERAL INTERNAL MEDICINE)</td>\n",
       "      <td>5-7 years</td>\n",
       "      <td>MD</td>\n",
       "    </tr>\n",
       "    <tr>\n",
       "      <th>...</th>\n",
       "      <td>...</td>\n",
       "      <td>...</td>\n",
       "      <td>...</td>\n",
       "      <td>...</td>\n",
       "      <td>...</td>\n",
       "      <td>...</td>\n",
       "    </tr>\n",
       "    <tr>\n",
       "      <th>19284</th>\n",
       "      <td>12000</td>\n",
       "      <td>35-50_WOMAN</td>\n",
       "      <td>USA</td>\n",
       "      <td>MUSIC LIBRARIAN</td>\n",
       "      <td>21 - 30 years</td>\n",
       "      <td>MD</td>\n",
       "    </tr>\n",
       "    <tr>\n",
       "      <th>26355</th>\n",
       "      <td>11800</td>\n",
       "      <td>25-35_WOMAN</td>\n",
       "      <td>USA</td>\n",
       "      <td>PRODUCER</td>\n",
       "      <td>8 - 10 years</td>\n",
       "      <td>CD</td>\n",
       "    </tr>\n",
       "    <tr>\n",
       "      <th>27585</th>\n",
       "      <td>11500</td>\n",
       "      <td>35-50_WOMAN</td>\n",
       "      <td>USA</td>\n",
       "      <td>ASSISTANT PROFESSOR</td>\n",
       "      <td>11 - 20 years</td>\n",
       "      <td>MD</td>\n",
       "    </tr>\n",
       "    <tr>\n",
       "      <th>18106</th>\n",
       "      <td>11100</td>\n",
       "      <td>18-25_MAN</td>\n",
       "      <td>USA</td>\n",
       "      <td>RESIDENT'S ASSISTANT</td>\n",
       "      <td>2 - 4 years</td>\n",
       "      <td>CD</td>\n",
       "    </tr>\n",
       "    <tr>\n",
       "      <th>27631</th>\n",
       "      <td>10700</td>\n",
       "      <td>35-50_MAN</td>\n",
       "      <td>USA</td>\n",
       "      <td>SOFTWARE ENGINEER TECHNICAL SUPPORT</td>\n",
       "      <td>8 - 10 years</td>\n",
       "      <td>CD</td>\n",
       "    </tr>\n",
       "  </tbody>\n",
       "</table>\n",
       "<p>22943 rows × 6 columns</p>\n",
       "</div>"
      ],
      "text/plain": [
       "       Total_Income    Age_group Country  \\\n",
       "26466       5004044  50-65_WOMAN     USA   \n",
       "2124        3000000  50-65_WOMAN     USA   \n",
       "28043       2600000    25-35_MAN     USA   \n",
       "26935       1950000    35-50_MAN     USA   \n",
       "5755        1900000  25-35_WOMAN     USA   \n",
       "...             ...          ...     ...   \n",
       "19284         12000  35-50_WOMAN     USA   \n",
       "26355         11800  25-35_WOMAN     USA   \n",
       "27585         11500  35-50_WOMAN     USA   \n",
       "18106         11100    18-25_MAN     USA   \n",
       "27631         10700    35-50_MAN     USA   \n",
       "\n",
       "                                             Job title        Rel_Exp  \\\n",
       "26466                             INSIDE SALES MANAGER  21 - 30 years   \n",
       "2124                                     OWNER AND CEO  21 - 30 years   \n",
       "28043                                             LEAD    2 - 4 years   \n",
       "26935                                MANAGING DIRECTOR  11 - 20 years   \n",
       "5755   ATTENDING PHYSICIAN (GENERAL INTERNAL MEDICINE)      5-7 years   \n",
       "...                                                ...            ...   \n",
       "19284                                  MUSIC LIBRARIAN  21 - 30 years   \n",
       "26355                                         PRODUCER   8 - 10 years   \n",
       "27585                              ASSISTANT PROFESSOR  11 - 20 years   \n",
       "18106                             RESIDENT'S ASSISTANT    2 - 4 years   \n",
       "27631              SOFTWARE ENGINEER TECHNICAL SUPPORT   8 - 10 years   \n",
       "\n",
       "      Highest_Degree  \n",
       "26466             MD  \n",
       "2124              MD  \n",
       "28043     NON_DEGREE  \n",
       "26935             CD  \n",
       "5755              MD  \n",
       "...              ...  \n",
       "19284             MD  \n",
       "26355             CD  \n",
       "27585             MD  \n",
       "18106             CD  \n",
       "27631             CD  \n",
       "\n",
       "[22943 rows x 6 columns]"
      ]
     },
     "execution_count": 106,
     "metadata": {},
     "output_type": "execute_result"
    }
   ],
   "source": [
    "# Print the sorted DataFrame;''\n",
    "USA_df_USD_sorted[['Total_Income', 'Age_group', 'Country','Job title', 'Rel_Exp','Highest_Degree']]"
   ]
  },
  {
   "cell_type": "code",
   "execution_count": 107,
   "id": "fea98948",
   "metadata": {},
   "outputs": [],
   "source": [
    "\n",
    "# Calculate IQR and identify outliers\n",
    "Q1 = filtered_df['Annual Salary'].quantile(0.25)\n",
    "Q3 = filtered_df['Annual Salary'].quantile(0.75)\n",
    "IQR = Q3 - Q1\n",
    "outliers = filtered_df[(filtered_df['Annual Salary'] < Q1 - 1.5 * IQR) | (filtered_df['Annual Salary'] > Q3 + 1.5 * IQR)]"
   ]
  },
  {
   "cell_type": "code",
   "execution_count": 108,
   "id": "5e8a7b03",
   "metadata": {},
   "outputs": [],
   "source": [
    "# Remove outliers (adjust as needed)\n",
    "filtered_df_cleaned = filtered_df.drop(outliers.index)"
   ]
  },
  {
   "cell_type": "code",
   "execution_count": 109,
   "id": "b0fe3787",
   "metadata": {},
   "outputs": [
    {
     "name": "stdout",
     "output_type": "stream",
     "text": [
      "Average Annual Salary for USA ,(USD): 77512.22\n",
      "Mean Annual Salary for USA, (USD): 72000.00\n"
     ]
    }
   ],
   "source": [
    "# Calculate mean and median for cleaned data\n",
    "mean_salary = filtered_df_cleaned['Annual Salary'].mean()\n",
    "median_salary = filtered_df_cleaned['Annual Salary'].median()\n",
    "print(\"Average Annual Salary for USA ,(USD): {:.2f}\".format(mean_salary))\n",
    "print(\"Mean Annual Salary for USA, (USD): {:.2f}\".format(median_salary))"
   ]
  },
  {
   "cell_type": "code",
   "execution_count": 110,
   "id": "d1ad0cbf",
   "metadata": {},
   "outputs": [],
   "source": [
    "# Find top salary perfomance for  USA\n",
    "filtered_df = df[df['Country'] == 'USA']"
   ]
  },
  {
   "cell_type": "code",
   "execution_count": 111,
   "id": "568d48ae",
   "metadata": {},
   "outputs": [],
   "source": [
    "# Sort by 'Annual Salary' in descending order\n",
    "sorted_df = filtered_df.sort_values(by='Total_Income', ascending=False)"
   ]
  },
  {
   "cell_type": "code",
   "execution_count": 112,
   "id": "0c9ab473",
   "metadata": {},
   "outputs": [],
   "source": [
    "\n",
    "# Select the top 'n' rows (adjust 'n' as needed)\n",
    "top_USA_salaries = sorted_df.head(n=10)  # For example, top 10 salaries\n"
   ]
  },
  {
   "cell_type": "code",
   "execution_count": 113,
   "id": "0302b3d8",
   "metadata": {},
   "outputs": [
    {
     "data": {
      "text/html": [
       "<div>\n",
       "<style scoped>\n",
       "    .dataframe tbody tr th:only-of-type {\n",
       "        vertical-align: middle;\n",
       "    }\n",
       "\n",
       "    .dataframe tbody tr th {\n",
       "        vertical-align: top;\n",
       "    }\n",
       "\n",
       "    .dataframe thead th {\n",
       "        text-align: right;\n",
       "    }\n",
       "</style>\n",
       "<table border=\"1\" class=\"dataframe\">\n",
       "  <thead>\n",
       "    <tr style=\"text-align: right;\">\n",
       "      <th></th>\n",
       "      <th>Total_Income</th>\n",
       "      <th>State</th>\n",
       "      <th>Industry</th>\n",
       "      <th>Demographics</th>\n",
       "    </tr>\n",
       "  </thead>\n",
       "  <tbody>\n",
       "    <tr>\n",
       "      <th>26466</th>\n",
       "      <td>5004044</td>\n",
       "      <td>New Jersey</td>\n",
       "      <td>Sales</td>\n",
       "      <td>MD_WOMAN</td>\n",
       "    </tr>\n",
       "    <tr>\n",
       "      <th>15795</th>\n",
       "      <td>3600000</td>\n",
       "      <td>Alabama</td>\n",
       "      <td>Entertainment</td>\n",
       "      <td>CD_NON-BINARY</td>\n",
       "    </tr>\n",
       "    <tr>\n",
       "      <th>2124</th>\n",
       "      <td>3000000</td>\n",
       "      <td>New York</td>\n",
       "      <td>Art &amp; Design</td>\n",
       "      <td>MD_WOMAN</td>\n",
       "    </tr>\n",
       "    <tr>\n",
       "      <th>28043</th>\n",
       "      <td>2600000</td>\n",
       "      <td>Florida</td>\n",
       "      <td>Computing or Tech</td>\n",
       "      <td>NON_DEGREE_MAN</td>\n",
       "    </tr>\n",
       "    <tr>\n",
       "      <th>26935</th>\n",
       "      <td>1950000</td>\n",
       "      <td>California</td>\n",
       "      <td>Accounting, Banking &amp; Finance</td>\n",
       "      <td>CD_MAN</td>\n",
       "    </tr>\n",
       "    <tr>\n",
       "      <th>5755</th>\n",
       "      <td>1900000</td>\n",
       "      <td>Connecticut</td>\n",
       "      <td>Health care</td>\n",
       "      <td>MD_WOMAN</td>\n",
       "    </tr>\n",
       "    <tr>\n",
       "      <th>6783</th>\n",
       "      <td>1675000</td>\n",
       "      <td>Massachusetts</td>\n",
       "      <td>Computing or Tech</td>\n",
       "      <td>MD_MAN</td>\n",
       "    </tr>\n",
       "    <tr>\n",
       "      <th>18279</th>\n",
       "      <td>1615000</td>\n",
       "      <td>California</td>\n",
       "      <td>Accounting, Banking &amp; Finance</td>\n",
       "      <td>CD_MAN</td>\n",
       "    </tr>\n",
       "    <tr>\n",
       "      <th>18322</th>\n",
       "      <td>1615000</td>\n",
       "      <td>California</td>\n",
       "      <td>Accounting, Banking &amp; Finance</td>\n",
       "      <td>CD_MAN</td>\n",
       "    </tr>\n",
       "    <tr>\n",
       "      <th>24955</th>\n",
       "      <td>1600000</td>\n",
       "      <td>District of Columbia</td>\n",
       "      <td>Health care</td>\n",
       "      <td>MD_WOMAN</td>\n",
       "    </tr>\n",
       "  </tbody>\n",
       "</table>\n",
       "</div>"
      ],
      "text/plain": [
       "       Total_Income                 State                       Industry  \\\n",
       "26466       5004044            New Jersey                          Sales   \n",
       "15795       3600000               Alabama                  Entertainment   \n",
       "2124        3000000              New York                   Art & Design   \n",
       "28043       2600000               Florida              Computing or Tech   \n",
       "26935       1950000            California  Accounting, Banking & Finance   \n",
       "5755        1900000           Connecticut                    Health care   \n",
       "6783        1675000         Massachusetts              Computing or Tech   \n",
       "18279       1615000            California  Accounting, Banking & Finance   \n",
       "18322       1615000            California  Accounting, Banking & Finance   \n",
       "24955       1600000  District of Columbia                    Health care   \n",
       "\n",
       "         Demographics  \n",
       "26466        MD_WOMAN  \n",
       "15795   CD_NON-BINARY  \n",
       "2124         MD_WOMAN  \n",
       "28043  NON_DEGREE_MAN  \n",
       "26935          CD_MAN  \n",
       "5755         MD_WOMAN  \n",
       "6783           MD_MAN  \n",
       "18279          CD_MAN  \n",
       "18322          CD_MAN  \n",
       "24955        MD_WOMAN  "
      ]
     },
     "execution_count": 113,
     "metadata": {},
     "output_type": "execute_result"
    }
   ],
   "source": [
    "\n",
    "# Print the desired columns\n",
    "top_USA_salaries[['Total_Income', 'State', 'Industry', 'Demographics']]"
   ]
  },
  {
   "cell_type": "code",
   "execution_count": 114,
   "id": "fb439579",
   "metadata": {},
   "outputs": [],
   "source": [
    "# In[100]:\n",
    "\n",
    "\n",
    "filtered_USA_df = sorted_df[sorted_df['Country'] == 'USA']\n"
   ]
  },
  {
   "cell_type": "code",
   "execution_count": 115,
   "id": "7a1f40f9",
   "metadata": {},
   "outputs": [],
   "source": [
    "\n",
    "# Calculate average salary by age group\n",
    "average_salary = filtered_USA_df.groupby('Age_group')['Total_Income'].mean()"
   ]
  },
  {
   "cell_type": "code",
   "execution_count": 118,
   "id": "76b77afa",
   "metadata": {},
   "outputs": [
    {
     "data": {
      "image/png": "[encoded data removed]",
      "text/plain": [
       "<Figure size 1000x600 with 1 Axes>"
      ]
     },
     "metadata": {},
     "output_type": "display_data"
    }
   ],
   "source": [
    "# Plotting the bar chart\n",
    "plt.figure(figsize=(10, 6))\n",
    "plt.barh(average_salary.index, average_salary.values, color='coral')\n",
    "# Adding labels and title\n",
    "plt.xlabel('Average Annual Income ($)', fontsize=14)\n",
    "plt.ylabel('Age Group', fontsize=14)\n",
    "plt.title('Average income by Age Group in the USA ', fontsize=16)\n",
    "# Adding average salary labels on top of each bar (adjusted x-offset)\n",
    "for index, value in enumerate(average_salary.values):\n",
    "    plt.text(value + 5000, index, f\"${value:,.0f}\", va='center', ha='right', fontsize=12)\n",
    "\n",
    "plt.tight_layout()\n",
    "plt.show()\n",
    "\n",
    "\n"
   ]
  },
  {
   "cell_type": "code",
   "execution_count": 119,
   "id": "eb4e783e",
   "metadata": {},
   "outputs": [],
   "source": [
    "# For  visual representation (poster)   create a bar chat only for AGe/USA /USD as  I did not apply   currensy convertation methods ,so use unfiltered DF will represent misleading data .\n"
   ]
  },
  {
   "cell_type": "code",
   "execution_count": 122,
   "id": "c0fff75a",
   "metadata": {},
   "outputs": [
    {
     "data": {
      "image/png": "[encoded data removed]",
      "text/plain": [
       "<Figure size 600x400 with 1 Axes>"
      ]
     },
     "metadata": {},
     "output_type": "display_data"
    }
   ],
   "source": [
    "\n",
    "\n",
    "filtered_USA_df = sorted_df[sorted_df['Country'] == 'USA']\n",
    "\n",
    "\n",
    "# Calculate average salary by age group\n",
    "average_salary = filtered_USA_df.groupby('Age')['Total_Income'].mean()\n",
    "# Plotting the bar chart\n",
    "plt.figure(figsize=(6, 4))\n",
    "plt.barh(average_salary.index, average_salary.values, color='orange')\n",
    "\n",
    "# Adding labels and title\n",
    "plt.xlabel('Average Total Income ($)', fontsize=12,fontweight='bold')\n",
    "plt.ylabel('Age Group', fontsize=12,fontweight='bold')\n",
    "plt.title('Average Total Income by Age Group in the USA ', fontsize=12,fontweight='bold')\n",
    "\n",
    "# Adding average salary labels on top of each bar (adjusted x-offset)\n",
    "for index, value in enumerate(average_salary.values):\n",
    "    plt.text(value + 5000, index, f\"${value:,.0f}\", va='center', ha='right', fontsize=12,fontweight='bold')\n",
    "\n",
    "plt.tight_layout()\n",
    "plt.show()\n",
    "\n",
    "\n",
    "\n"
   ]
  },
  {
   "cell_type": "code",
   "execution_count": 124,
   "id": "eadf3971",
   "metadata": {},
   "outputs": [
    {
     "data": {
      "image/png": "[encoded data removed]",
      "text/plain": [
       "<Figure size 640x480 with 1 Axes>"
      ]
     },
     "metadata": {},
     "output_type": "display_data"
    }
   ],
   "source": [
    "# Create bar chart for  average salary /education in the filtered df (USA )\n",
    "filtered_USA_df = sorted_df[sorted_df['Country'] == 'USA']\n",
    "# Calculate\n",
    "average_salary = filtered_USA_df.groupby('Highest_Degree')['Total_Income'].mean()\n",
    "# Extract unique education levels\n",
    "education_levels = average_salary.index.to_numpy()  \n",
    "\n",
    "bar_width = 0.4 \n",
    "# Plot bars for average salary\n",
    "plt.bar(education_levels, average_salary, width=0.4, label='Average Salary', color='darkblue')\n",
    "\n",
    "# Set labels and title\n",
    "plt.xticks(education_levels, rotation=45, ha='right', fontweight='bold')\n",
    "plt.xlabel('Education Level',fontweight='bold')\n",
    "plt.ylabel('Average Salary (USD)',fontweight='bold')  \n",
    "plt.title('Average Salary by Education Level (USA)',fontweight='bold')  #  title\n",
    "\n",
    "# Set y-axis limits slightly higher than the maximum salary\n",
    "plt.ylim(min(average_salary) - 3000, max(average_salary) + 800)\n",
    "\n",
    "# Display the plot with grid lines\n",
    "plt.grid(axis='y', linestyle='--', alpha=0.7)\n",
    "plt.tight_layout()\n",
    "plt.show()\n"
   ]
  },
  {
   "cell_type": "code",
   "execution_count": null,
   "id": "c087bed5",
   "metadata": {},
   "outputs": [],
   "source": []
  },
  {
   "cell_type": "code",
   "execution_count": null,
   "id": "a7898ffd",
   "metadata": {},
   "outputs": [],
   "source": []
  }
 ],
 "metadata": {
  "kernelspec": {
   "display_name": "Python 3 (ipykernel)",
   "language": "python",
   "name": "python3"
  },
  "language_info": {
   "codemirror_mode": {
    "name": "ipython",
    "version": 3
   },
   "file_extension": ".py",
   "mimetype": "text/x-python",
   "name": "python",
   "nbconvert_exporter": "python",
   "pygments_lexer": "ipython3",
   "version": "3.11.2"
  }
 },
 "nbformat": 4,
 "nbformat_minor": 5
}
