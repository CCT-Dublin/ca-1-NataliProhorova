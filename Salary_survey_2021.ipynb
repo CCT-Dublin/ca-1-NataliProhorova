{
 "cells": [
  {
   "cell_type": "markdown",
   "id": "e5ba3708",
   "metadata": {},
   "source": [
    "df overview,  determine problems and key questions to perform task, rename columns,  dealing with duplicates , missed data , timestamp  and screen record test"
   ]
  },
  {
   "cell_type": "code",
   "execution_count": 1,
   "id": "02dd09ef",
   "metadata": {},
   "outputs": [],
   "source": [
    "import pandas as pd\n",
    "import numpy as np\n",
    "import seaborn as sns #visualisation\n",
    "import matplotlib.pyplot as plt #visualisation\n",
    "%matplotlib inline \n",
    "sns.set(color_codes=True)"
   ]
  },
  {
   "cell_type": "code",
   "execution_count": 2,
   "id": "a7f5f2d3",
   "metadata": {},
   "outputs": [],
   "source": [
    "mvp=[\"n.a.\",\"?\",\"NA\",\"n/a\", \"na\", \"--\"]"
   ]
  },
  {
   "cell_type": "code",
   "execution_count": 3,
   "id": "8a6d5df8",
   "metadata": {},
   "outputs": [],
   "source": [
    "df=pd.read_csv(\"Salary_Survey.csv\", na_values=mvp)"
   ]
  },
  {
   "cell_type": "code",
   "execution_count": 4,
   "id": "de6f5f52",
   "metadata": {},
   "outputs": [
    {
     "data": {
      "text/html": [
       "<div>\n",
       "<style scoped>\n",
       "    .dataframe tbody tr th:only-of-type {\n",
       "        vertical-align: middle;\n",
       "    }\n",
       "\n",
       "    .dataframe tbody tr th {\n",
       "        vertical-align: top;\n",
       "    }\n",
       "\n",
       "    .dataframe thead th {\n",
       "        text-align: right;\n",
       "    }\n",
       "</style>\n",
       "<table border=\"1\" class=\"dataframe\">\n",
       "  <thead>\n",
       "    <tr style=\"text-align: right;\">\n",
       "      <th></th>\n",
       "      <th>Timestamp</th>\n",
       "      <th>How old are you?</th>\n",
       "      <th>What industry do you work in?</th>\n",
       "      <th>Job title</th>\n",
       "      <th>If your job title needs additional context, please clarify here:</th>\n",
       "      <th>What is your annual salary? (You'll indicate the currency in a later question. If you are part-time or hourly, please enter an annualized equivalent -- what you would earn if you worked the job 40 hours a week, 52 weeks a year.)</th>\n",
       "      <th>How much additional monetary compensation do you get, if any (for example, bonuses or overtime in an average year)? Please only include monetary compensation here, not the value of benefits.</th>\n",
       "      <th>Please indicate the currency</th>\n",
       "      <th>If \"Other,\" please indicate the currency here:</th>\n",
       "      <th>If your income needs additional context, please provide it here:</th>\n",
       "      <th>...</th>\n",
       "      <th>How many years of professional work experience do you have overall?</th>\n",
       "      <th>How many years of professional work experience do you have in your field?</th>\n",
       "      <th>What is your highest level of education completed?</th>\n",
       "      <th>What is your gender?</th>\n",
       "      <th>Unnamed: 17</th>\n",
       "      <th>Unnamed: 18</th>\n",
       "      <th>Unnamed: 19</th>\n",
       "      <th>Unnamed: 20</th>\n",
       "      <th>Unnamed: 21</th>\n",
       "      <th>Unnamed: 22</th>\n",
       "    </tr>\n",
       "  </thead>\n",
       "  <tbody>\n",
       "    <tr>\n",
       "      <th>0</th>\n",
       "      <td>4/27/2021 11:02:10</td>\n",
       "      <td>25-34</td>\n",
       "      <td>Education (Higher Education)</td>\n",
       "      <td>Research and Instruction Librarian</td>\n",
       "      <td>NaN</td>\n",
       "      <td>55,000</td>\n",
       "      <td>0.0</td>\n",
       "      <td>USD</td>\n",
       "      <td>NaN</td>\n",
       "      <td>NaN</td>\n",
       "      <td>...</td>\n",
       "      <td>5-7 years</td>\n",
       "      <td>5-7 years</td>\n",
       "      <td>Master's degree</td>\n",
       "      <td>Woman</td>\n",
       "      <td>NaN</td>\n",
       "      <td>NaN</td>\n",
       "      <td>NaN</td>\n",
       "      <td>NaN</td>\n",
       "      <td>NaN</td>\n",
       "      <td>NaN</td>\n",
       "    </tr>\n",
       "    <tr>\n",
       "      <th>1</th>\n",
       "      <td>4/27/2021 11:02:22</td>\n",
       "      <td>25-34</td>\n",
       "      <td>Computing or Tech</td>\n",
       "      <td>Change &amp; Internal Communications Manager</td>\n",
       "      <td>NaN</td>\n",
       "      <td>54,600</td>\n",
       "      <td>4000.0</td>\n",
       "      <td>GBP</td>\n",
       "      <td>NaN</td>\n",
       "      <td>NaN</td>\n",
       "      <td>...</td>\n",
       "      <td>8 - 10 years</td>\n",
       "      <td>5-7 years</td>\n",
       "      <td>College degree</td>\n",
       "      <td>Non-binary</td>\n",
       "      <td>NaN</td>\n",
       "      <td>NaN</td>\n",
       "      <td>NaN</td>\n",
       "      <td>NaN</td>\n",
       "      <td>NaN</td>\n",
       "      <td>NaN</td>\n",
       "    </tr>\n",
       "    <tr>\n",
       "      <th>2</th>\n",
       "      <td>4/27/2021 11:02:38</td>\n",
       "      <td>25-34</td>\n",
       "      <td>Accounting, Banking &amp; Finance</td>\n",
       "      <td>Marketing Specialist</td>\n",
       "      <td>NaN</td>\n",
       "      <td>34,000</td>\n",
       "      <td>NaN</td>\n",
       "      <td>USD</td>\n",
       "      <td>NaN</td>\n",
       "      <td>NaN</td>\n",
       "      <td>...</td>\n",
       "      <td>2 - 4 years</td>\n",
       "      <td>2 - 4 years</td>\n",
       "      <td>College degree</td>\n",
       "      <td>Woman</td>\n",
       "      <td>NaN</td>\n",
       "      <td>NaN</td>\n",
       "      <td>NaN</td>\n",
       "      <td>NaN</td>\n",
       "      <td>NaN</td>\n",
       "      <td>NaN</td>\n",
       "    </tr>\n",
       "    <tr>\n",
       "      <th>3</th>\n",
       "      <td>4/27/2021 11:02:41</td>\n",
       "      <td>25-34</td>\n",
       "      <td>Nonprofits</td>\n",
       "      <td>Program Manager</td>\n",
       "      <td>NaN</td>\n",
       "      <td>62,000</td>\n",
       "      <td>3000.0</td>\n",
       "      <td>USD</td>\n",
       "      <td>NaN</td>\n",
       "      <td>NaN</td>\n",
       "      <td>...</td>\n",
       "      <td>8 - 10 years</td>\n",
       "      <td>5-7 years</td>\n",
       "      <td>College degree</td>\n",
       "      <td>Woman</td>\n",
       "      <td>NaN</td>\n",
       "      <td>NaN</td>\n",
       "      <td>NaN</td>\n",
       "      <td>NaN</td>\n",
       "      <td>NaN</td>\n",
       "      <td>NaN</td>\n",
       "    </tr>\n",
       "    <tr>\n",
       "      <th>4</th>\n",
       "      <td>4/27/2021 11:02:42</td>\n",
       "      <td>25-34</td>\n",
       "      <td>Accounting, Banking &amp; Finance</td>\n",
       "      <td>Accounting Manager</td>\n",
       "      <td>NaN</td>\n",
       "      <td>60,000</td>\n",
       "      <td>7000.0</td>\n",
       "      <td>USD</td>\n",
       "      <td>NaN</td>\n",
       "      <td>NaN</td>\n",
       "      <td>...</td>\n",
       "      <td>8 - 10 years</td>\n",
       "      <td>5-7 years</td>\n",
       "      <td>College degree</td>\n",
       "      <td>Woman</td>\n",
       "      <td>NaN</td>\n",
       "      <td>NaN</td>\n",
       "      <td>NaN</td>\n",
       "      <td>NaN</td>\n",
       "      <td>NaN</td>\n",
       "      <td>NaN</td>\n",
       "    </tr>\n",
       "  </tbody>\n",
       "</table>\n",
       "<p>5 rows × 23 columns</p>\n",
       "</div>"
      ],
      "text/plain": [
       "            Timestamp How old are you?  What industry do you work in?  \\\n",
       "0  4/27/2021 11:02:10            25-34   Education (Higher Education)   \n",
       "1  4/27/2021 11:02:22            25-34              Computing or Tech   \n",
       "2  4/27/2021 11:02:38            25-34  Accounting, Banking & Finance   \n",
       "3  4/27/2021 11:02:41            25-34                     Nonprofits   \n",
       "4  4/27/2021 11:02:42            25-34  Accounting, Banking & Finance   \n",
       "\n",
       "                                  Job title  \\\n",
       "0        Research and Instruction Librarian   \n",
       "1  Change & Internal Communications Manager   \n",
       "2                      Marketing Specialist   \n",
       "3                           Program Manager   \n",
       "4                        Accounting Manager   \n",
       "\n",
       "  If your job title needs additional context, please clarify here:  \\\n",
       "0                                                NaN                 \n",
       "1                                                NaN                 \n",
       "2                                                NaN                 \n",
       "3                                                NaN                 \n",
       "4                                                NaN                 \n",
       "\n",
       "  What is your annual salary? (You'll indicate the currency in a later question. If you are part-time or hourly, please enter an annualized equivalent -- what you would earn if you worked the job 40 hours a week, 52 weeks a year.)  \\\n",
       "0                                             55,000                                                                                                                                                                                     \n",
       "1                                             54,600                                                                                                                                                                                     \n",
       "2                                             34,000                                                                                                                                                                                     \n",
       "3                                             62,000                                                                                                                                                                                     \n",
       "4                                             60,000                                                                                                                                                                                     \n",
       "\n",
       "   How much additional monetary compensation do you get, if any (for example, bonuses or overtime in an average year)? Please only include monetary compensation here, not the value of benefits.  \\\n",
       "0                                                0.0                                                                                                                                                \n",
       "1                                             4000.0                                                                                                                                                \n",
       "2                                                NaN                                                                                                                                                \n",
       "3                                             3000.0                                                                                                                                                \n",
       "4                                             7000.0                                                                                                                                                \n",
       "\n",
       "  Please indicate the currency  \\\n",
       "0                          USD   \n",
       "1                          GBP   \n",
       "2                          USD   \n",
       "3                          USD   \n",
       "4                          USD   \n",
       "\n",
       "  If \"Other,\" please indicate the currency here:   \\\n",
       "0                                             NaN   \n",
       "1                                             NaN   \n",
       "2                                             NaN   \n",
       "3                                             NaN   \n",
       "4                                             NaN   \n",
       "\n",
       "  If your income needs additional context, please provide it here:  ...  \\\n",
       "0                                                NaN                ...   \n",
       "1                                                NaN                ...   \n",
       "2                                                NaN                ...   \n",
       "3                                                NaN                ...   \n",
       "4                                                NaN                ...   \n",
       "\n",
       "  How many years of professional work experience do you have overall?  \\\n",
       "0                                          5-7 years                    \n",
       "1                                       8 - 10 years                    \n",
       "2                                        2 - 4 years                    \n",
       "3                                       8 - 10 years                    \n",
       "4                                       8 - 10 years                    \n",
       "\n",
       "  How many years of professional work experience do you have in your field?  \\\n",
       "0                                          5-7 years                          \n",
       "1                                          5-7 years                          \n",
       "2                                        2 - 4 years                          \n",
       "3                                          5-7 years                          \n",
       "4                                          5-7 years                          \n",
       "\n",
       "  What is your highest level of education completed? What is your gender?  \\\n",
       "0                                    Master's degree                Woman   \n",
       "1                                     College degree           Non-binary   \n",
       "2                                     College degree                Woman   \n",
       "3                                     College degree                Woman   \n",
       "4                                     College degree                Woman   \n",
       "\n",
       "  Unnamed: 17 Unnamed: 18 Unnamed: 19  Unnamed: 20  Unnamed: 21  Unnamed: 22  \n",
       "0         NaN         NaN         NaN          NaN          NaN          NaN  \n",
       "1         NaN         NaN         NaN          NaN          NaN          NaN  \n",
       "2         NaN         NaN         NaN          NaN          NaN          NaN  \n",
       "3         NaN         NaN         NaN          NaN          NaN          NaN  \n",
       "4         NaN         NaN         NaN          NaN          NaN          NaN  \n",
       "\n",
       "[5 rows x 23 columns]"
      ]
     },
     "execution_count": 4,
     "metadata": {},
     "output_type": "execute_result"
    }
   ],
   "source": [
    "df.head()"
   ]
  },
  {
   "cell_type": "code",
   "execution_count": 5,
   "id": "cb005cb7",
   "metadata": {},
   "outputs": [
    {
     "data": {
      "text/plain": [
       "(28178, 23)"
      ]
     },
     "execution_count": 5,
     "metadata": {},
     "output_type": "execute_result"
    }
   ],
   "source": [
    "df.shape"
   ]
  },
  {
   "cell_type": "code",
   "execution_count": 6,
   "id": "24cc57b7",
   "metadata": {},
   "outputs": [],
   "source": [
    "\n",
    "# rename titles for columns change text to number, number to relevant title\n",
    "df.columns = range(len(df.columns))"
   ]
  },
  {
   "cell_type": "code",
   "execution_count": 7,
   "id": "a9609b61",
   "metadata": {},
   "outputs": [],
   "source": [
    "#lets replase numbers for text format to rename columns \n",
    "new_column_names = [\"column_\" + str(i) for i in range(len(df.columns))]\n",
    "df.columns = new_column_names"
   ]
  },
  {
   "cell_type": "code",
   "execution_count": 8,
   "id": "cd2dac0f",
   "metadata": {
    "scrolled": false
   },
   "outputs": [
    {
     "data": {
      "text/html": [
       "<div>\n",
       "<style scoped>\n",
       "    .dataframe tbody tr th:only-of-type {\n",
       "        vertical-align: middle;\n",
       "    }\n",
       "\n",
       "    .dataframe tbody tr th {\n",
       "        vertical-align: top;\n",
       "    }\n",
       "\n",
       "    .dataframe thead th {\n",
       "        text-align: right;\n",
       "    }\n",
       "</style>\n",
       "<table border=\"1\" class=\"dataframe\">\n",
       "  <thead>\n",
       "    <tr style=\"text-align: right;\">\n",
       "      <th></th>\n",
       "      <th>column_0</th>\n",
       "      <th>column_1</th>\n",
       "      <th>column_2</th>\n",
       "      <th>column_3</th>\n",
       "      <th>column_4</th>\n",
       "      <th>column_5</th>\n",
       "      <th>column_6</th>\n",
       "      <th>column_7</th>\n",
       "      <th>column_8</th>\n",
       "      <th>column_9</th>\n",
       "      <th>...</th>\n",
       "      <th>column_13</th>\n",
       "      <th>column_14</th>\n",
       "      <th>column_15</th>\n",
       "      <th>column_16</th>\n",
       "      <th>column_17</th>\n",
       "      <th>column_18</th>\n",
       "      <th>column_19</th>\n",
       "      <th>column_20</th>\n",
       "      <th>column_21</th>\n",
       "      <th>column_22</th>\n",
       "    </tr>\n",
       "  </thead>\n",
       "  <tbody>\n",
       "    <tr>\n",
       "      <th>0</th>\n",
       "      <td>4/27/2021 11:02:10</td>\n",
       "      <td>25-34</td>\n",
       "      <td>Education (Higher Education)</td>\n",
       "      <td>Research and Instruction Librarian</td>\n",
       "      <td>NaN</td>\n",
       "      <td>55,000</td>\n",
       "      <td>0.0</td>\n",
       "      <td>USD</td>\n",
       "      <td>NaN</td>\n",
       "      <td>NaN</td>\n",
       "      <td>...</td>\n",
       "      <td>5-7 years</td>\n",
       "      <td>5-7 years</td>\n",
       "      <td>Master's degree</td>\n",
       "      <td>Woman</td>\n",
       "      <td>NaN</td>\n",
       "      <td>NaN</td>\n",
       "      <td>NaN</td>\n",
       "      <td>NaN</td>\n",
       "      <td>NaN</td>\n",
       "      <td>NaN</td>\n",
       "    </tr>\n",
       "    <tr>\n",
       "      <th>1</th>\n",
       "      <td>4/27/2021 11:02:22</td>\n",
       "      <td>25-34</td>\n",
       "      <td>Computing or Tech</td>\n",
       "      <td>Change &amp; Internal Communications Manager</td>\n",
       "      <td>NaN</td>\n",
       "      <td>54,600</td>\n",
       "      <td>4000.0</td>\n",
       "      <td>GBP</td>\n",
       "      <td>NaN</td>\n",
       "      <td>NaN</td>\n",
       "      <td>...</td>\n",
       "      <td>8 - 10 years</td>\n",
       "      <td>5-7 years</td>\n",
       "      <td>College degree</td>\n",
       "      <td>Non-binary</td>\n",
       "      <td>NaN</td>\n",
       "      <td>NaN</td>\n",
       "      <td>NaN</td>\n",
       "      <td>NaN</td>\n",
       "      <td>NaN</td>\n",
       "      <td>NaN</td>\n",
       "    </tr>\n",
       "  </tbody>\n",
       "</table>\n",
       "<p>2 rows × 23 columns</p>\n",
       "</div>"
      ],
      "text/plain": [
       "             column_0 column_1                      column_2  \\\n",
       "0  4/27/2021 11:02:10    25-34  Education (Higher Education)   \n",
       "1  4/27/2021 11:02:22    25-34             Computing or Tech   \n",
       "\n",
       "                                   column_3 column_4 column_5  column_6  \\\n",
       "0        Research and Instruction Librarian      NaN   55,000       0.0   \n",
       "1  Change & Internal Communications Manager      NaN   54,600    4000.0   \n",
       "\n",
       "  column_7 column_8 column_9  ...     column_13  column_14        column_15  \\\n",
       "0      USD      NaN      NaN  ...     5-7 years  5-7 years  Master's degree   \n",
       "1      GBP      NaN      NaN  ...  8 - 10 years  5-7 years   College degree   \n",
       "\n",
       "    column_16 column_17 column_18 column_19  column_20  column_21  column_22  \n",
       "0       Woman       NaN       NaN       NaN        NaN        NaN        NaN  \n",
       "1  Non-binary       NaN       NaN       NaN        NaN        NaN        NaN  \n",
       "\n",
       "[2 rows x 23 columns]"
      ]
     },
     "execution_count": 8,
     "metadata": {},
     "output_type": "execute_result"
    }
   ],
   "source": [
    "df.head(2)"
   ]
  },
  {
   "cell_type": "code",
   "execution_count": 9,
   "id": "fb9b7040",
   "metadata": {},
   "outputs": [],
   "source": [
    "#rename columns \n",
    "df = df.rename(columns={\"column_0\":\"Timestump\",\"column_1\": \"Age\",\"column_16\":\"Gender\",\"column_15\": \"Highest_Degree\"})"
   ]
  },
  {
   "cell_type": "code",
   "execution_count": 10,
   "id": "e5dcf263",
   "metadata": {},
   "outputs": [],
   "source": [
    "df = df.rename(columns={\"column_2\":\"Industry\",\"column_3\": \"Job title\",\"column_4\":\"Job context\",\"column_5\":\"Annual Salary\",\"column_6\":\"Bonus\",\"column_7\":\"Currency\",\"column_8\":\"Currency other\",\"column_9\":\"Income context\"})"
   ]
  },
  {
   "cell_type": "code",
   "execution_count": 11,
   "id": "eea18687",
   "metadata": {},
   "outputs": [],
   "source": [
    "df = df.rename(columns={\"column_10\":\"Country\",\"column_11\": \"State\",\"column_12\":\"City\",\"column_13\": \"Work_Exp\",\"column_14\": \"Rel_Exp\"})"
   ]
  },
  {
   "cell_type": "code",
   "execution_count": 12,
   "id": "80e9d22a",
   "metadata": {
    "scrolled": true
   },
   "outputs": [
    {
     "name": "stdout",
     "output_type": "stream",
     "text": [
      "Timestump         28085\n",
      "Age               28085\n",
      "Industry          28011\n",
      "Job title         28083\n",
      "Job context        7266\n",
      "Annual Salary     28085\n",
      "Bonus             20780\n",
      "Currency          28085\n",
      "Currency other      208\n",
      "Income context     3044\n",
      "Country           28084\n",
      "State             23059\n",
      "City              27998\n",
      "Work_Exp          28085\n",
      "Rel_Exp           28085\n",
      "Highest_Degree    27863\n",
      "Gender            27914\n",
      "column_17             0\n",
      "column_18             0\n",
      "column_19             0\n",
      "column_20             0\n",
      "column_21             0\n",
      "column_22             0\n",
      "dtype: int64\n"
     ]
    }
   ],
   "source": [
    "non_null_counts = df.count()\n",
    "print(non_null_counts)"
   ]
  },
  {
   "cell_type": "code",
   "execution_count": 13,
   "id": "9951f47c",
   "metadata": {},
   "outputs": [],
   "source": [
    "#no non-null values -all values in the columns 17-22 are missing or null,we can delete them\n",
    "df.drop(columns=['column_17','column_18','column_19','column_20','column_21','column_22'], inplace=True)"
   ]
  },
  {
   "cell_type": "code",
   "execution_count": 14,
   "id": "b2c29838",
   "metadata": {},
   "outputs": [
    {
     "name": "stdout",
     "output_type": "stream",
     "text": [
      "number of duplicate rows:  (92, 17)\n"
     ]
    }
   ],
   "source": [
    "#detecting duplicate rows\n",
    "duplicate_rows_df = df[df.duplicated()]\n",
    "print(\"number of duplicate rows: \", duplicate_rows_df.shape)"
   ]
  },
  {
   "cell_type": "code",
   "execution_count": 15,
   "id": "d08c24ad",
   "metadata": {},
   "outputs": [
    {
     "name": "stdout",
     "output_type": "stream",
     "text": [
      "Total sum of non-null values: 0\n"
     ]
    }
   ],
   "source": [
    "# Calculate the sum of non-null values   for \n",
    "\n",
    "total_sum_non_null = duplicate_rows_df.count(axis=1).sum()\n",
    "print(\"Total sum of non-null values:\", total_sum_non_null)"
   ]
  },
  {
   "cell_type": "code",
   "execution_count": 16,
   "id": "39482bc4",
   "metadata": {},
   "outputs": [
    {
     "name": "stdout",
     "output_type": "stream",
     "text": [
      "      Timestump  Age Industry Job title Job context Annual Salary  Bonus  \\\n",
      "28086       NaN  NaN      NaN       NaN         NaN           NaN    NaN   \n",
      "28087       NaN  NaN      NaN       NaN         NaN           NaN    NaN   \n",
      "28088       NaN  NaN      NaN       NaN         NaN           NaN    NaN   \n",
      "28089       NaN  NaN      NaN       NaN         NaN           NaN    NaN   \n",
      "28090       NaN  NaN      NaN       NaN         NaN           NaN    NaN   \n",
      "...         ...  ...      ...       ...         ...           ...    ...   \n",
      "28173       NaN  NaN      NaN       NaN         NaN           NaN    NaN   \n",
      "28174       NaN  NaN      NaN       NaN         NaN           NaN    NaN   \n",
      "28175       NaN  NaN      NaN       NaN         NaN           NaN    NaN   \n",
      "28176       NaN  NaN      NaN       NaN         NaN           NaN    NaN   \n",
      "28177       NaN  NaN      NaN       NaN         NaN           NaN    NaN   \n",
      "\n",
      "      Currency Currency other Income context Country State City Work_Exp  \\\n",
      "28086      NaN            NaN            NaN     NaN   NaN  NaN      NaN   \n",
      "28087      NaN            NaN            NaN     NaN   NaN  NaN      NaN   \n",
      "28088      NaN            NaN            NaN     NaN   NaN  NaN      NaN   \n",
      "28089      NaN            NaN            NaN     NaN   NaN  NaN      NaN   \n",
      "28090      NaN            NaN            NaN     NaN   NaN  NaN      NaN   \n",
      "...        ...            ...            ...     ...   ...  ...      ...   \n",
      "28173      NaN            NaN            NaN     NaN   NaN  NaN      NaN   \n",
      "28174      NaN            NaN            NaN     NaN   NaN  NaN      NaN   \n",
      "28175      NaN            NaN            NaN     NaN   NaN  NaN      NaN   \n",
      "28176      NaN            NaN            NaN     NaN   NaN  NaN      NaN   \n",
      "28177      NaN            NaN            NaN     NaN   NaN  NaN      NaN   \n",
      "\n",
      "      Rel_Exp Highest_Degree Gender  \n",
      "28086     NaN            NaN    NaN  \n",
      "28087     NaN            NaN    NaN  \n",
      "28088     NaN            NaN    NaN  \n",
      "28089     NaN            NaN    NaN  \n",
      "28090     NaN            NaN    NaN  \n",
      "...       ...            ...    ...  \n",
      "28173     NaN            NaN    NaN  \n",
      "28174     NaN            NaN    NaN  \n",
      "28175     NaN            NaN    NaN  \n",
      "28176     NaN            NaN    NaN  \n",
      "28177     NaN            NaN    NaN  \n",
      "\n",
      "[92 rows x 17 columns]\n"
     ]
    }
   ],
   "source": [
    "# Print duplicate rows with null values\n",
    "print(duplicate_rows_df[duplicate_rows_df.isnull().any(axis=1)])"
   ]
  },
  {
   "cell_type": "code",
   "execution_count": 17,
   "id": "66f045f7",
   "metadata": {},
   "outputs": [],
   "source": [
    "#we can exclude now  93 duplicates rows ,as we did for columns before\n",
    "df = df.iloc[:-93]\n",
    "\n"
   ]
  },
  {
   "cell_type": "code",
   "execution_count": 18,
   "id": "5b11dd63",
   "metadata": {},
   "outputs": [
    {
     "data": {
      "text/html": [
       "<div>\n",
       "<style scoped>\n",
       "    .dataframe tbody tr th:only-of-type {\n",
       "        vertical-align: middle;\n",
       "    }\n",
       "\n",
       "    .dataframe tbody tr th {\n",
       "        vertical-align: top;\n",
       "    }\n",
       "\n",
       "    .dataframe thead th {\n",
       "        text-align: right;\n",
       "    }\n",
       "</style>\n",
       "<table border=\"1\" class=\"dataframe\">\n",
       "  <thead>\n",
       "    <tr style=\"text-align: right;\">\n",
       "      <th></th>\n",
       "      <th>Timestump</th>\n",
       "      <th>Age</th>\n",
       "      <th>Industry</th>\n",
       "      <th>Job title</th>\n",
       "      <th>Job context</th>\n",
       "      <th>Annual Salary</th>\n",
       "      <th>Bonus</th>\n",
       "      <th>Currency</th>\n",
       "      <th>Currency other</th>\n",
       "      <th>Income context</th>\n",
       "      <th>Country</th>\n",
       "      <th>State</th>\n",
       "      <th>City</th>\n",
       "      <th>Work_Exp</th>\n",
       "      <th>Rel_Exp</th>\n",
       "      <th>Highest_Degree</th>\n",
       "      <th>Gender</th>\n",
       "    </tr>\n",
       "  </thead>\n",
       "  <tbody>\n",
       "    <tr>\n",
       "      <th>28083</th>\n",
       "      <td>10/4/2024 13:05:24</td>\n",
       "      <td>18-24</td>\n",
       "      <td>Computing or Tech</td>\n",
       "      <td>Software Engineering Co-Op</td>\n",
       "      <td>I was an Intern</td>\n",
       "      <td>56160</td>\n",
       "      <td>0.0</td>\n",
       "      <td>USD</td>\n",
       "      <td>NaN</td>\n",
       "      <td>NaN</td>\n",
       "      <td>United States</td>\n",
       "      <td>Rhode Island</td>\n",
       "      <td>Jhonston</td>\n",
       "      <td>1 year or less</td>\n",
       "      <td>1 year or less</td>\n",
       "      <td>College degree</td>\n",
       "      <td>Man</td>\n",
       "    </tr>\n",
       "    <tr>\n",
       "      <th>28084</th>\n",
       "      <td>10/7/2024 5:17:56</td>\n",
       "      <td>65 or over</td>\n",
       "      <td>Social networks</td>\n",
       "      <td>Content creator</td>\n",
       "      <td>NaN</td>\n",
       "      <td>2000000</td>\n",
       "      <td>NaN</td>\n",
       "      <td>USD</td>\n",
       "      <td>NaN</td>\n",
       "      <td>NaN</td>\n",
       "      <td>Taiwan</td>\n",
       "      <td>Utah, Wisconsin</td>\n",
       "      <td>Milwaukee</td>\n",
       "      <td>41 years or more</td>\n",
       "      <td>2 - 4 years</td>\n",
       "      <td>PhD</td>\n",
       "      <td>Non-binary</td>\n",
       "    </tr>\n",
       "  </tbody>\n",
       "</table>\n",
       "</div>"
      ],
      "text/plain": [
       "                Timestump         Age           Industry  \\\n",
       "28083  10/4/2024 13:05:24       18-24  Computing or Tech   \n",
       "28084   10/7/2024 5:17:56  65 or over    Social networks   \n",
       "\n",
       "                        Job title      Job context Annual Salary  Bonus  \\\n",
       "28083  Software Engineering Co-Op  I was an Intern         56160    0.0   \n",
       "28084             Content creator              NaN       2000000    NaN   \n",
       "\n",
       "      Currency Currency other Income context        Country            State  \\\n",
       "28083      USD            NaN            NaN  United States     Rhode Island   \n",
       "28084      USD            NaN            NaN         Taiwan  Utah, Wisconsin   \n",
       "\n",
       "            City          Work_Exp         Rel_Exp  Highest_Degree      Gender  \n",
       "28083   Jhonston    1 year or less  1 year or less  College degree         Man  \n",
       "28084  Milwaukee  41 years or more     2 - 4 years             PhD  Non-binary  "
      ]
     },
     "execution_count": 18,
     "metadata": {},
     "output_type": "execute_result"
    }
   ],
   "source": [
    "#review \n",
    "df.tail(2)"
   ]
  },
  {
   "cell_type": "code",
   "execution_count": 19,
   "id": "c93912b6",
   "metadata": {},
   "outputs": [
    {
     "data": {
      "text/plain": [
       "(28085, 17)"
      ]
     },
     "execution_count": 19,
     "metadata": {},
     "output_type": "execute_result"
    }
   ],
   "source": [
    "#review shape update\n",
    "df.shape"
   ]
  },
  {
   "cell_type": "code",
   "execution_count": 20,
   "id": "f8d4a7b7",
   "metadata": {
    "scrolled": true
   },
   "outputs": [
    {
     "name": "stdout",
     "output_type": "stream",
     "text": [
      "Timestump             0\n",
      "Age                   0\n",
      "Industry             74\n",
      "Job title             2\n",
      "Job context       20819\n",
      "Annual Salary         0\n",
      "Bonus              7305\n",
      "Currency              0\n",
      "Currency other    27877\n",
      "Income context    25041\n",
      "Country               1\n",
      "State              5026\n",
      "City                 87\n",
      "Work_Exp              0\n",
      "Rel_Exp               0\n",
      "Highest_Degree      222\n",
      "Gender              171\n",
      "dtype: int64\n"
     ]
    }
   ],
   "source": [
    "# identifying columns with missing data and deciding how to handle  missing values\n",
    "print(df.isnull().sum())\n"
   ]
  },
  {
   "cell_type": "code",
   "execution_count": 21,
   "id": "396c84a5",
   "metadata": {},
   "outputs": [],
   "source": [
    "#replace missing values with (Unknown')/'NA'\n",
    "#  for missed values 'City',replace with equal value from 'Country'\n",
    "df['Industry'] = df['Industry'].fillna('Unknown')\n",
    "df['Bonus']=df['Bonus'].fillna('0')\n",
    "df['Country']=df['Country'].fillna('Unknown')\n",
    "df['State']=df['State'].fillna('NA')\n",
    "df['City']=df['City'].fillna(df['Country'])\n",
    "df['Currency other']=df['Currency other'].fillna('NA')\n",
    "\n",
    "\n",
    "   "
   ]
  },
  {
   "cell_type": "code",
   "execution_count": 22,
   "id": "eea1014b",
   "metadata": {},
   "outputs": [],
   "source": [
    "#replsce missing data with addutuinal column info/  fill remain with 'Unknown'\n",
    "df['Job title'] = df['Job title'].fillna('Job context')\n",
    "df['Job title'] = df['Job title'].fillna('Unknown')\n",
    "df['Job context'] = df['Job context'].fillna('Unknown')\n",
    "\n",
    "\n"
   ]
  },
  {
   "cell_type": "markdown",
   "id": "6246f3db",
   "metadata": {},
   "source": [
    " determine  target variable(“Annual salary” ), dropping irrelevant columns,  # Main target - annual salary, year mention in a title ,values in a Timestump nonsuffisient impact=drop , 'Job context'- most of the data missed , but  can replace missed data for Jod title and , categotical variable ' Income context' do not impact  numerical data in Target variable \n"
   ]
  },
  {
   "cell_type": "code",
   "execution_count": 23,
   "id": "2c1e33ec",
   "metadata": {},
   "outputs": [],
   "source": [
    "#take down non relevant to the target variable columns Timestamp ,'Income context'\n",
    "# Main target - annual salary, year mention in a title , \n",
    "df.drop(columns=['Timestump','Income context'], inplace=True)"
   ]
  },
  {
   "cell_type": "code",
   "execution_count": 24,
   "id": "de42b269",
   "metadata": {},
   "outputs": [],
   "source": [
    "## Clean data from ',', convert to integrets \n",
    "df['Annual Salary'] = df['Annual Salary'].str.replace(',','').astype(int)\n"
   ]
  },
  {
   "cell_type": "markdown",
   "id": "335639ab",
   "metadata": {},
   "source": [
    "https://pandas.pydata.org/docs/reference/api/pandas.DataFrame.sort_values.html     sort values , ascending=False)"
   ]
  },
  {
   "cell_type": "code",
   "execution_count": 25,
   "id": "1b0ce4e0",
   "metadata": {},
   "outputs": [
    {
     "name": "stdout",
     "output_type": "stream",
     "text": [
      "28055    6000070000\n",
      "11454     870000000\n",
      "18984     180000000\n",
      "27902     120000000\n",
      "3605      102000000\n",
      "Name: Annual Salary, dtype: int64\n"
     ]
    }
   ],
   "source": [
    "#find outliers , top 5 salaryes\n",
    "df = df.sort_values('Annual Salary', ascending=False)\n",
    "\n",
    "print(df['Annual Salary'].head(5))"
   ]
  },
  {
   "cell_type": "code",
   "execution_count": 26,
   "id": "011e98b9",
   "metadata": {},
   "outputs": [
    {
     "name": "stdout",
     "output_type": "stream",
     "text": [
      "       Annual Salary Bonus\n",
      "20470              0     0\n",
      "8739               0   0.0\n",
      "26562              0   0.0\n",
      "27996              0   0.0\n",
      "13537              0   0.0\n"
     ]
    }
   ],
   "source": [
    "\n",
    "print(df[['Annual Salary','Bonus']].tail(5))"
   ]
  },
  {
   "cell_type": "markdown",
   "id": "a962bbbc",
   "metadata": {},
   "source": [
    "to  handle missing values for Annual salary and bonus , I create a new variable 'Total Income' (sum of salary and bonus0 filter   1<>10 000    as total incime can not be less then 10 000, and after filtering the duplicate rows with  1 or 0 ,less then 10000   drop fro Annual salary "
   ]
  },
  {
   "cell_type": "markdown",
   "id": "baf2a1fe",
   "metadata": {},
   "source": [
    "https://pandas.pydata.org/docs/reference/api/pandas.to_numeric.html   coerse   convert non-numeric values to NaN,  avoid potential errors "
   ]
  },
  {
   "cell_type": "code",
   "execution_count": 27,
   "id": "1e914e81",
   "metadata": {},
   "outputs": [
    {
     "name": "stdout",
     "output_type": "stream",
     "text": [
      "count         28085\n",
      "mean         361242\n",
      "std        36207917\n",
      "min               0\n",
      "25%           54000\n",
      "50%           75000\n",
      "75%          110000\n",
      "max      6000070000\n",
      "Name: Annual Salary, dtype: int64\n"
     ]
    }
   ],
   "source": [
    "# Handle missing values ,determine outliers\n",
    "df['Annual Salary'] = pd.to_numeric(df['Annual Salary'], errors='coerce')\n",
    "\n",
    "#Descriptive statistics for Annual Salary  to find outliers\n",
    "print(df['Annual Salary'].describe().astype(int))"
   ]
  },
  {
   "cell_type": "markdown",
   "id": "88613146",
   "metadata": {},
   "source": [
    "min  0    , -   we have a number of outliers , we can compare them to Bonus and Currency  ,before drop from DF .As salary represented by different currency, review what is a top value , check  if missing values in cureency -  we need to clean them from data   .For filter  i use Accending method https://pandas.pydata.org/docs/reference/api/pandas.DataFrame.sort_values.html#pandas.DataFrame.sort_values"
   ]
  },
  {
   "cell_type": "code",
   "execution_count": 28,
   "id": "561504ff",
   "metadata": {},
   "outputs": [],
   "source": [
    "#  Annual  salary 6000070000 CAD   can not be realistic, just  this value  has misssed - , replase with median 65000\n",
    "# 6000070000 with 65000 in 'Annual Salary'\n",
    "df.loc[df['Annual Salary'] == 6000070000, 'Annual Salary'] = 65000"
   ]
  },
  {
   "cell_type": "code",
   "execution_count": 29,
   "id": "c4528b0a",
   "metadata": {},
   "outputs": [
    {
     "name": "stdout",
     "output_type": "stream",
     "text": [
      "       Annual Salary Currency        Bonus\n",
      "28055          65000      CAD            0\n",
      "11454      870000000    Other  120000000.0\n",
      "18984      180000000    Other            0\n",
      "27902      120000000    Other            0\n",
      "3605       102000000      USD            0\n",
      "23490       43800000    Other     150000.0\n",
      "18498       38000000    Other            0\n",
      "22871       36000000    Other          0.0\n",
      "11234       27000000    Other            0\n",
      "24443       20800000      JPY    1000000.0\n"
     ]
    }
   ],
   "source": [
    "# Print  comdined df\n",
    "\n",
    "print(df[['Annual Salary','Currency','Bonus']].head(10))"
   ]
  },
  {
   "cell_type": "code",
   "execution_count": 30,
   "id": "b8f93776",
   "metadata": {},
   "outputs": [
    {
     "name": "stdout",
     "output_type": "stream",
     "text": [
      "object\n"
     ]
    }
   ],
   "source": [
    "\n",
    "print(df['Bonus'].dtype)"
   ]
  },
  {
   "cell_type": "markdown",
   "id": "83fad74c",
   "metadata": {},
   "source": [
    "Bonus  is additional to Annual salary  numerical category, no needs to drop missing duplicates: convert (df['Bonus'] to   integrets, replace missed data with'0 "
   ]
  },
  {
   "cell_type": "code",
   "execution_count": 31,
   "id": "856da556",
   "metadata": {},
   "outputs": [],
   "source": [
    "# Remove non-numeric characters and convert to numeric\n",
    "\n",
    "df['Bonus'] = pd.to_numeric(df['Bonus'], errors='coerce')\n",
    "\n",
    "# Replace missing values with 0\n",
    "df['Bonus'].fillna(0, inplace=True)"
   ]
  },
  {
   "cell_type": "code",
   "execution_count": 32,
   "id": "f7839130",
   "metadata": {},
   "outputs": [
    {
     "name": "stdout",
     "output_type": "stream",
     "text": [
      "Number of missing values in 'Bonus': 0\n"
     ]
    }
   ],
   "source": [
    "\n",
    "missing_values = df['Bonus'].isna().sum()\n",
    "print(f\"Number of missing values in 'Bonus': {missing_values}\")"
   ]
  },
  {
   "cell_type": "code",
   "execution_count": 33,
   "id": "3f7088ce",
   "metadata": {},
   "outputs": [],
   "source": [
    "df['Bonus'] = df['Bonus'].astype(int)"
   ]
  },
  {
   "cell_type": "markdown",
   "id": "0fb76b25",
   "metadata": {},
   "source": [
    "most of the top salary   values represented by currensy tipe'Other' ,that make them only numbers - I filter all categorycal data fom 'Currency'  = 'Other'  and drop allrelated  rows "
   ]
  },
  {
   "cell_type": "code",
   "execution_count": 34,
   "id": "fc58cff9",
   "metadata": {},
   "outputs": [],
   "source": [
    "# most of outliers in Annual salary  without value ,we can  drop all rows were Currency 'Other'\n",
    "# make   all upper \n",
    "df['Currency'] = df['Currency'].str.upper()"
   ]
  },
  {
   "cell_type": "code",
   "execution_count": 35,
   "id": "18fa8430",
   "metadata": {},
   "outputs": [],
   "source": [
    "# Identify duplicate rows where 'Currency' is 'OTHER'\n",
    "duplicate_rows_df = df[df.duplicated(subset=['Currency'], keep=False) & (df['Currency'] == 'OTHER')]\n",
    "\n",
    "# Drop duplicate rows\n",
    "df = df.drop(duplicate_rows_df.index)"
   ]
  },
  {
   "cell_type": "code",
   "execution_count": 36,
   "id": "c26816b6",
   "metadata": {
    "scrolled": true
   },
   "outputs": [
    {
     "data": {
      "text/plain": [
       "array(['CAD', 'USD', 'JPY', 'SEK', 'ZAR', 'CHF', 'AUD/NZD', 'GBP', 'HKD',\n",
       "       'EUR'], dtype=object)"
      ]
     },
     "execution_count": 36,
     "metadata": {},
     "output_type": "execute_result"
    }
   ],
   "source": [
    "#  determine unique categories  upgate \n",
    "df[\"Currency\"].unique() \n"
   ]
  },
  {
   "cell_type": "code",
   "execution_count": 37,
   "id": "9f444956",
   "metadata": {},
   "outputs": [
    {
     "name": "stdout",
     "output_type": "stream",
     "text": [
      "USD        23395\n",
      "CAD         1673\n",
      "GBP         1591\n",
      "EUR          644\n",
      "AUD/NZD      504\n",
      "SEK           37\n",
      "CHF           37\n",
      "JPY           23\n",
      "ZAR           16\n",
      "HKD            4\n",
      "Name: Currency, dtype: int64\n"
     ]
    }
   ],
   "source": [
    "# Frequency table for 'Gender_distribution = df['Gender'].value_counts()\n",
    "Currency_distribution = df['Currency'].value_counts()\n",
    "print(Currency_distribution)"
   ]
  },
  {
   "cell_type": "code",
   "execution_count": 38,
   "id": "76261f61",
   "metadata": {
    "scrolled": true
   },
   "outputs": [
    {
     "data": {
      "text/html": [
       "<div>\n",
       "<style scoped>\n",
       "    .dataframe tbody tr th:only-of-type {\n",
       "        vertical-align: middle;\n",
       "    }\n",
       "\n",
       "    .dataframe tbody tr th {\n",
       "        vertical-align: top;\n",
       "    }\n",
       "\n",
       "    .dataframe thead th {\n",
       "        text-align: right;\n",
       "    }\n",
       "</style>\n",
       "<table border=\"1\" class=\"dataframe\">\n",
       "  <thead>\n",
       "    <tr style=\"text-align: right;\">\n",
       "      <th></th>\n",
       "      <th>Annual Salary</th>\n",
       "      <th>Bonus</th>\n",
       "      <th>Total_Income</th>\n",
       "      <th>Currency</th>\n",
       "    </tr>\n",
       "  </thead>\n",
       "  <tbody>\n",
       "    <tr>\n",
       "      <th>26748</th>\n",
       "      <td>0</td>\n",
       "      <td>0</td>\n",
       "      <td>0</td>\n",
       "      <td>USD</td>\n",
       "    </tr>\n",
       "    <tr>\n",
       "      <th>28015</th>\n",
       "      <td>0</td>\n",
       "      <td>0</td>\n",
       "      <td>0</td>\n",
       "      <td>GBP</td>\n",
       "    </tr>\n",
       "    <tr>\n",
       "      <th>23028</th>\n",
       "      <td>0</td>\n",
       "      <td>0</td>\n",
       "      <td>0</td>\n",
       "      <td>USD</td>\n",
       "    </tr>\n",
       "    <tr>\n",
       "      <th>23983</th>\n",
       "      <td>0</td>\n",
       "      <td>200000</td>\n",
       "      <td>200000</td>\n",
       "      <td>USD</td>\n",
       "    </tr>\n",
       "    <tr>\n",
       "      <th>10362</th>\n",
       "      <td>0</td>\n",
       "      <td>0</td>\n",
       "      <td>0</td>\n",
       "      <td>USD</td>\n",
       "    </tr>\n",
       "    <tr>\n",
       "      <th>20470</th>\n",
       "      <td>0</td>\n",
       "      <td>0</td>\n",
       "      <td>0</td>\n",
       "      <td>USD</td>\n",
       "    </tr>\n",
       "    <tr>\n",
       "      <th>8739</th>\n",
       "      <td>0</td>\n",
       "      <td>0</td>\n",
       "      <td>0</td>\n",
       "      <td>USD</td>\n",
       "    </tr>\n",
       "    <tr>\n",
       "      <th>26562</th>\n",
       "      <td>0</td>\n",
       "      <td>0</td>\n",
       "      <td>0</td>\n",
       "      <td>USD</td>\n",
       "    </tr>\n",
       "    <tr>\n",
       "      <th>27996</th>\n",
       "      <td>0</td>\n",
       "      <td>0</td>\n",
       "      <td>0</td>\n",
       "      <td>USD</td>\n",
       "    </tr>\n",
       "    <tr>\n",
       "      <th>13537</th>\n",
       "      <td>0</td>\n",
       "      <td>0</td>\n",
       "      <td>0</td>\n",
       "      <td>USD</td>\n",
       "    </tr>\n",
       "  </tbody>\n",
       "</table>\n",
       "</div>"
      ],
      "text/plain": [
       "       Annual Salary   Bonus  Total_Income Currency\n",
       "26748              0       0             0      USD\n",
       "28015              0       0             0      GBP\n",
       "23028              0       0             0      USD\n",
       "23983              0  200000        200000      USD\n",
       "10362              0       0             0      USD\n",
       "20470              0       0             0      USD\n",
       "8739               0       0             0      USD\n",
       "26562              0       0             0      USD\n",
       "27996              0       0             0      USD\n",
       "13537              0       0             0      USD"
      ]
     },
     "execution_count": 38,
     "metadata": {},
     "output_type": "execute_result"
    }
   ],
   "source": [
    "#create new combined  Total income  \n",
    "\n",
    "df['Total_Income'] = df['Annual Salary'] + df['Bonus']\n",
    "df[['Annual Salary','Bonus','Total_Income','Currency']].tail(10)"
   ]
  },
  {
   "cell_type": "markdown",
   "id": "014336da",
   "metadata": {},
   "source": [
    "#by using combined variable I saved some informative data for main target 'Annual salary' "
   ]
  },
  {
   "cell_type": "code",
   "execution_count": 39,
   "id": "e6d80388",
   "metadata": {},
   "outputs": [],
   "source": [
    "\n",
    "#assuming total income  can not be less then 10 000 , filter and drop  relevant rows  were value <=10000 , including 0 \n",
    "df = df[df['Total_Income'] > 10000]"
   ]
  },
  {
   "cell_type": "code",
   "execution_count": 40,
   "id": "1f52e574",
   "metadata": {
    "scrolled": true
   },
   "outputs": [
    {
     "data": {
      "text/html": [
       "<div>\n",
       "<style scoped>\n",
       "    .dataframe tbody tr th:only-of-type {\n",
       "        vertical-align: middle;\n",
       "    }\n",
       "\n",
       "    .dataframe tbody tr th {\n",
       "        vertical-align: top;\n",
       "    }\n",
       "\n",
       "    .dataframe thead th {\n",
       "        text-align: right;\n",
       "    }\n",
       "</style>\n",
       "<table border=\"1\" class=\"dataframe\">\n",
       "  <thead>\n",
       "    <tr style=\"text-align: right;\">\n",
       "      <th></th>\n",
       "      <th>Total_Income</th>\n",
       "      <th>Currency</th>\n",
       "      <th>Job title</th>\n",
       "      <th>Age</th>\n",
       "      <th>Country</th>\n",
       "      <th>Currency other</th>\n",
       "      <th>Highest_Degree</th>\n",
       "      <th>Industry</th>\n",
       "    </tr>\n",
       "  </thead>\n",
       "  <tbody>\n",
       "    <tr>\n",
       "      <th>28055</th>\n",
       "      <td>65000</td>\n",
       "      <td>CAD</td>\n",
       "      <td>Investment Banking Analyst</td>\n",
       "      <td>18-24</td>\n",
       "      <td>Canada</td>\n",
       "      <td>NA</td>\n",
       "      <td>College degree</td>\n",
       "      <td>Accounting, Banking &amp; Finance</td>\n",
       "    </tr>\n",
       "    <tr>\n",
       "      <th>3605</th>\n",
       "      <td>102000000</td>\n",
       "      <td>USD</td>\n",
       "      <td>Operations Manager</td>\n",
       "      <td>25-34</td>\n",
       "      <td>Colombia</td>\n",
       "      <td>COP</td>\n",
       "      <td>Some college</td>\n",
       "      <td>Utilities &amp; Telecommunications</td>\n",
       "    </tr>\n",
       "    <tr>\n",
       "      <th>24443</th>\n",
       "      <td>21800000</td>\n",
       "      <td>JPY</td>\n",
       "      <td>Voice Actor</td>\n",
       "      <td>25-34</td>\n",
       "      <td>Japan</td>\n",
       "      <td>NA</td>\n",
       "      <td>College degree</td>\n",
       "      <td>Entertainment</td>\n",
       "    </tr>\n",
       "    <tr>\n",
       "      <th>10654</th>\n",
       "      <td>11500000</td>\n",
       "      <td>JPY</td>\n",
       "      <td>Compliance Manager</td>\n",
       "      <td>25-34</td>\n",
       "      <td>Japan</td>\n",
       "      <td>NA</td>\n",
       "      <td>Professional degree (MD, JD, etc.)</td>\n",
       "      <td>Retail</td>\n",
       "    </tr>\n",
       "    <tr>\n",
       "      <th>28021</th>\n",
       "      <td>10000299</td>\n",
       "      <td>USD</td>\n",
       "      <td>bum</td>\n",
       "      <td>18-24</td>\n",
       "      <td>usa</td>\n",
       "      <td>rice</td>\n",
       "      <td>Professional degree (MD, JD, etc.)</td>\n",
       "      <td>Unknown</td>\n",
       "    </tr>\n",
       "    <tr>\n",
       "      <th>18027</th>\n",
       "      <td>9400000</td>\n",
       "      <td>JPY</td>\n",
       "      <td>Backend system dev</td>\n",
       "      <td>25-34</td>\n",
       "      <td>Japan</td>\n",
       "      <td>NA</td>\n",
       "      <td>PhD</td>\n",
       "      <td>Computing or Tech</td>\n",
       "    </tr>\n",
       "  </tbody>\n",
       "</table>\n",
       "</div>"
      ],
      "text/plain": [
       "       Total_Income Currency                   Job title    Age   Country  \\\n",
       "28055         65000      CAD  Investment Banking Analyst  18-24    Canada   \n",
       "3605      102000000      USD          Operations Manager  25-34  Colombia   \n",
       "24443      21800000      JPY                 Voice Actor  25-34     Japan   \n",
       "10654      11500000      JPY          Compliance Manager  25-34     Japan   \n",
       "28021      10000299      USD                         bum  18-24       usa   \n",
       "18027       9400000      JPY          Backend system dev  25-34     Japan   \n",
       "\n",
       "      Currency other                      Highest_Degree  \\\n",
       "28055             NA                      College degree   \n",
       "3605             COP                        Some college   \n",
       "24443             NA                      College degree   \n",
       "10654             NA  Professional degree (MD, JD, etc.)   \n",
       "28021           rice  Professional degree (MD, JD, etc.)   \n",
       "18027             NA                                 PhD   \n",
       "\n",
       "                             Industry  \n",
       "28055   Accounting, Banking & Finance  \n",
       "3605   Utilities & Telecommunications  \n",
       "24443                   Entertainment  \n",
       "10654                          Retail  \n",
       "28021                         Unknown  \n",
       "18027               Computing or Tech  "
      ]
     },
     "execution_count": 40,
     "metadata": {},
     "output_type": "execute_result"
    }
   ],
   "source": [
    "#correlations between variables \n",
    "df[['Total_Income','Currency','Job title','Age','Country','Currency other','Highest_Degree','Industry']].head(6)"
   ]
  },
  {
   "cell_type": "markdown",
   "id": "721e45b0",
   "metadata": {},
   "source": [
    "current output below given as method demonstration, numbers  can not represent group correctly ,as valuees  for  currensy did not  converted  for one same currency ,for first look some outliers can be corrected (for Columbia) or take down as for row wit index 28021   no clear info given and currency USD /Rtice  can be misleading for furter analyse "
   ]
  },
  {
   "cell_type": "code",
   "execution_count": 41,
   "id": "a282dc91",
   "metadata": {},
   "outputs": [],
   "source": [
    "df = df.drop(index=28021)\n",
    "df.loc[3605, 'Currency'] = 'COP'"
   ]
  },
  {
   "cell_type": "code",
   "execution_count": 42,
   "id": "5f719c7f",
   "metadata": {},
   "outputs": [
    {
     "name": "stdout",
     "output_type": "stream",
     "text": [
      "count        27783\n",
      "mean        107940\n",
      "std         655984\n",
      "min          10070\n",
      "25%          55500\n",
      "50%          79000\n",
      "75%         115000\n",
      "max      102000000\n",
      "Name: Total_Income, dtype: int64\n"
     ]
    }
   ],
   "source": [
    "\n",
    "#Descriptive statistics for Annual Salary (   \n",
    "print(df['Total_Income'].describe().astype(int))"
   ]
  },
  {
   "cell_type": "markdown",
   "id": "c9c18277",
   "metadata": {},
   "source": []
  },
  {
   "cell_type": "code",
   "execution_count": 43,
   "id": "7a868969",
   "metadata": {},
   "outputs": [],
   "source": [
    "#assuming 171 missed values in a column \"Gender\",replase them with 'No Gender ' \n",
    "\n",
    "df['Gender'] = df['Gender'].fillna('No_Gender ')"
   ]
  },
  {
   "cell_type": "code",
   "execution_count": 44,
   "id": "0053e5f4",
   "metadata": {},
   "outputs": [
    {
     "data": {
      "text/plain": [
       "array(['Woman', 'Man', 'Non-binary', 'Other or prefer not to answer',\n",
       "       'No_Gender ', 'Prefer not to answer'], dtype=object)"
      ]
     },
     "execution_count": 44,
     "metadata": {},
     "output_type": "execute_result"
    }
   ],
   "source": [
    "# identifying  unique values in a  column\n",
    "df['Gender'].unique()\n"
   ]
  },
  {
   "cell_type": "code",
   "execution_count": 45,
   "id": "ed0e30af",
   "metadata": {},
   "outputs": [],
   "source": [
    "#Replace with \"NA\" (No answer) non gender related  categories (missing values)  using the replace() method:\n",
    "df['Gender'] = df['Gender'].replace(['Prefer not to answer', 'Other or prefer not to answer'], 'No_Gender')"
   ]
  },
  {
   "cell_type": "code",
   "execution_count": 46,
   "id": "806b64b0",
   "metadata": {},
   "outputs": [],
   "source": [
    "#  clean and standartise string\n",
    "df['Gender'] = df['Gender'].str.upper()\n",
    "df['Gender'] = df['Gender'].str.strip()"
   ]
  },
  {
   "cell_type": "code",
   "execution_count": 47,
   "id": "48a8f2ca",
   "metadata": {
    "scrolled": true
   },
   "outputs": [
    {
     "name": "stdout",
     "output_type": "stream",
     "text": [
      "WOMAN: 76.28%\n",
      "MAN: 19.42%\n",
      "NON-BINARY: 2.66%\n",
      "NO_GENDER: 1.64%\n"
     ]
    }
   ],
   "source": [
    "# Frequency table for 'Gender_distribution = df['Gender'].value_counts()+ %  counts,0.2%\n",
    "Gender_distribution = df['Gender'].value_counts(normalize=True) * 100\n",
    "for gender, percentage in Gender_distribution.items():\n",
    "    print(f\"{gender}: {percentage:.2f}%\")"
   ]
  },
  {
   "cell_type": "markdown",
   "id": "0f22bbc5",
   "metadata": {},
   "source": [
    "https://pandas.pydata.org/docs/reference/api/pandas.DataFrame.value_counts.html    - Value counts/https://pandas.pydata.org/pandas-docs/version/0.25.0/reference/api/pandas.Series.value_counts.html  (normalize=True)   divide each value on a total sum of all values ,simpe proportion to get persentage when *100/The round(1) used to return  the calculations  to  decimal"
   ]
  },
  {
   "cell_type": "code",
   "execution_count": 48,
   "id": "9b3328ce",
   "metadata": {},
   "outputs": [],
   "source": [
    "#standartise \"'highest degree\" variables \n",
    "#replace missing values,rename all   confused values with most close unic realted names\n",
    "#replace missing values with (Not applicable ')  \"NA\"\n",
    "df['Highest_Degree'] = df['Highest_Degree'].fillna('NON_DEGREE')"
   ]
  },
  {
   "cell_type": "code",
   "execution_count": 49,
   "id": "1f57ecdd",
   "metadata": {},
   "outputs": [
    {
     "name": "stdout",
     "output_type": "stream",
     "text": [
      "['College degree' 'Some college' 'Professional degree (MD, JD, etc.)'\n",
      " 'PhD' 'NON_DEGREE' \"Master's degree\" 'High School']\n"
     ]
    }
   ],
   "source": [
    "#  determine unique categories in Higest  Education column\n",
    "array = df[\"Highest_Degree\"].unique() \n",
    "print(array)"
   ]
  },
  {
   "cell_type": "code",
   "execution_count": 50,
   "id": "8353c442",
   "metadata": {},
   "outputs": [],
   "source": [
    "#rename values\n",
    "df['Highest_Degree'] = df['Highest_Degree'].replace(['Professional degree (MD, JD, etc.)','Master\\'s degree' ], 'MD')\n"
   ]
  },
  {
   "cell_type": "code",
   "execution_count": 51,
   "id": "440f9202",
   "metadata": {},
   "outputs": [],
   "source": [
    "#rename values\n",
    "df['Highest_Degree'] = df['Highest_Degree'].replace(['Some college','College degree'], 'CD')\n"
   ]
  },
  {
   "cell_type": "code",
   "execution_count": 52,
   "id": "2e3d714f",
   "metadata": {},
   "outputs": [],
   "source": [
    "#Assuming Higer School and NA  eqoal to no Proffesional degreee,create a new combined category non_degree after assign same name for Higer scholl as for missing valus \n",
    "df['Highest_Degree'] = df['Highest_Degree'].str.replace('High School','NON_DEGREE')\n",
    "   "
   ]
  },
  {
   "cell_type": "code",
   "execution_count": 53,
   "id": "a27f25ff",
   "metadata": {},
   "outputs": [
    {
     "name": "stdout",
     "output_type": "stream",
     "text": [
      "CD            15435\n",
      "MD            10098\n",
      "PhD            1417\n",
      "NON_DEGREE      833\n",
      "Name: Highest_Degree, dtype: int64\n"
     ]
    }
   ],
   "source": [
    "# Determine the distribution of categorical variables \n",
    "# Frequency table for 'highest education'Education_distribution = df['highest education level'].value_counts()\n",
    "Education_distribution = df['Highest_Degree'].value_counts()\n",
    "print(Education_distribution)"
   ]
  },
  {
   "cell_type": "markdown",
   "id": "11059c26",
   "metadata": {},
   "source": [
    "https://pandas.pydata.org/docs/user_guide/visualization.html   visualise Education distribution   "
   ]
  },
  {
   "cell_type": "code",
   "execution_count": 54,
   "id": "6a3378ac",
   "metadata": {},
   "outputs": [
    {
     "data": {
      "image/png": "[encoded data removed]",
      "text/plain": [
       "<Figure size 800x400 with 1 Axes>"
      ]
     },
     "metadata": {},
     "output_type": "display_data"
    }
   ],
   "source": [
    "# Assuming Education_distribution is our Series\n",
    "plt.figure(figsize=(8, 4))\n",
    "plt.pie(Education_distribution, labels=Education_distribution.index, autopct='%1.1f%%', startangle=160)\n",
    "plt.title('Distribution of Highest Degree')\n",
    "plt.axis('equal') \n",
    "plt.show()"
   ]
  },
  {
   "cell_type": "markdown",
   "id": "22307c24",
   "metadata": {},
   "source": [
    "#create a new variable \"Demographics\"   that could provide different approach to analising releation betveen \"Gender\" ,Education\"   and Salary   "
   ]
  },
  {
   "cell_type": "code",
   "execution_count": 55,
   "id": "bb08c2cc",
   "metadata": {},
   "outputs": [
    {
     "name": "stdout",
     "output_type": "stream",
     "text": [
      "Total count for Professional_Education: 26950\n"
     ]
    }
   ],
   "source": [
    "# Filter for specific groups  Professional_Education\n",
    "filtered_df = df[df['Highest_Degree'].isin(['CD', 'MD', 'PhD'])]\n",
    "\n",
    "# Calculate the total count for filtered groups\n",
    "filtered_count = filtered_df['Highest_Degree'].count()\n",
    "\n",
    "print(\"Total count for Professional_Education:\", filtered_count)\n"
   ]
  },
  {
   "cell_type": "code",
   "execution_count": 56,
   "id": "9b6fa2aa",
   "metadata": {},
   "outputs": [
    {
     "name": "stdout",
     "output_type": "stream",
     "text": [
      "CD: 55.56%\n",
      "MD: 36.35%\n",
      "PhD: 5.10%\n",
      "NON_DEGREE: 3.00%\n"
     ]
    }
   ],
   "source": [
    "# Calculating % distribution of degrees\n",
    "degree_distribution = df['Highest_Degree'].value_counts(normalize=True) * 100\n",
    "for degree, percentage in degree_distribution.items():\n",
    "    print(f\"{degree}: {percentage:.2f}%\")"
   ]
  },
  {
   "cell_type": "code",
   "execution_count": 57,
   "id": "22e347a2",
   "metadata": {},
   "outputs": [],
   "source": [
    "#  'df' with columns 'Highest Education Level' and 'Gender'\n",
    "df['Demographics'] = df['Highest_Degree'] + '_' + df['Gender']"
   ]
  },
  {
   "cell_type": "code",
   "execution_count": 58,
   "id": "6c8d2fd6",
   "metadata": {},
   "outputs": [
    {
     "data": {
      "text/plain": [
       "array(['CD_WOMAN', 'CD_MAN', 'MD_WOMAN', 'PhD_MAN', 'NON_DEGREE_WOMAN',\n",
       "       'MD_MAN', 'NON_DEGREE_NON-BINARY', 'CD_NON-BINARY', 'CD_NO_GENDER',\n",
       "       'NON_DEGREE_MAN', 'MD_NON-BINARY', 'PhD_NON-BINARY', 'PhD_WOMAN',\n",
       "       'MD_NO_GENDER', 'NON_DEGREE_NO_GENDER', 'PhD_NO_GENDER'],\n",
       "      dtype=object)"
      ]
     },
     "execution_count": 58,
     "metadata": {},
     "output_type": "execute_result"
    }
   ],
   "source": [
    "# identifying  categories/values in a new   column\n",
    "df['Demographics'].unique()"
   ]
  },
  {
   "cell_type": "markdown",
   "id": "74b13d18",
   "metadata": {},
   "source": [
    "https://pandas.pydata.org/docs/reference/api/pandas.Series.str.strip.html#pandas.Series.str.strip       clean new string [Demographics]    from  whitespaces, standartise values names "
   ]
  },
  {
   "cell_type": "code",
   "execution_count": 59,
   "id": "79ae8b4e",
   "metadata": {},
   "outputs": [],
   "source": [
    "#  clean and standartise string\n",
    "df['Demographics'] = df['Demographics'].str.upper()\n",
    "df['Demographics'] = df['Demographics'].str.strip()\n"
   ]
  },
  {
   "cell_type": "code",
   "execution_count": 60,
   "id": "7ea737fe",
   "metadata": {},
   "outputs": [
    {
     "name": "stdout",
     "output_type": "stream",
     "text": [
      "Total count for Woman_Higer_degree: 20715\n"
     ]
    }
   ],
   "source": [
    "# Filter for specific groups  Woman_Education\n",
    "filtered_df = df[df['Demographics'].isin(['CD_WOMAN', 'MD_WOMAN', 'PHD_WOMAN'])]\n",
    "\n",
    "# Calculate the total count for filtered groups\n",
    "filtered_count = filtered_df['Demographics'].count()\n",
    "\n",
    "print(\"Total count for Woman_Higer_degree:\", filtered_count)\n"
   ]
  },
  {
   "cell_type": "code",
   "execution_count": 61,
   "id": "b026149d",
   "metadata": {},
   "outputs": [
    {
     "name": "stdout",
     "output_type": "stream",
     "text": [
      "Percentage of Women with Higher Degrees: 76.86%\n"
     ]
    }
   ],
   "source": [
    "#Assuming, WOMAN is a magor group for Degree, find distribution,%\n",
    "total_women_higher_degree = 20715\n",
    "total_professionals = 26950\n",
    "#percentage of women with higher degrees\n",
    "percentage_women_higher_degree = (total_women_higher_degree / total_professionals) * 100\n",
    "# Print the percentage with two decimal places\n",
    "print(f\"Percentage of Women with Higher Degrees: {percentage_women_higher_degree:.2f}%\")"
   ]
  },
  {
   "cell_type": "code",
   "execution_count": 62,
   "id": "93b9a9bd",
   "metadata": {},
   "outputs": [],
   "source": [
    "#create a new value \n",
    "df['Age_group'] = df['Age'] + '_' + df['Gender']"
   ]
  },
  {
   "cell_type": "code",
   "execution_count": 63,
   "id": "238b533f",
   "metadata": {},
   "outputs": [
    {
     "data": {
      "text/html": [
       "<div>\n",
       "<style scoped>\n",
       "    .dataframe tbody tr th:only-of-type {\n",
       "        vertical-align: middle;\n",
       "    }\n",
       "\n",
       "    .dataframe tbody tr th {\n",
       "        vertical-align: top;\n",
       "    }\n",
       "\n",
       "    .dataframe thead th {\n",
       "        text-align: right;\n",
       "    }\n",
       "</style>\n",
       "<table border=\"1\" class=\"dataframe\">\n",
       "  <thead>\n",
       "    <tr style=\"text-align: right;\">\n",
       "      <th></th>\n",
       "      <th>Total_Income</th>\n",
       "      <th>Currency</th>\n",
       "      <th>Job title</th>\n",
       "      <th>Highest_Degree</th>\n",
       "      <th>Age_group</th>\n",
       "    </tr>\n",
       "  </thead>\n",
       "  <tbody>\n",
       "    <tr>\n",
       "      <th>3605</th>\n",
       "      <td>102000000</td>\n",
       "      <td>COP</td>\n",
       "      <td>Operations Manager</td>\n",
       "      <td>CD</td>\n",
       "      <td>25-34_MAN</td>\n",
       "    </tr>\n",
       "    <tr>\n",
       "      <th>24443</th>\n",
       "      <td>21800000</td>\n",
       "      <td>JPY</td>\n",
       "      <td>Voice Actor</td>\n",
       "      <td>CD</td>\n",
       "      <td>25-34_MAN</td>\n",
       "    </tr>\n",
       "    <tr>\n",
       "      <th>10654</th>\n",
       "      <td>11500000</td>\n",
       "      <td>JPY</td>\n",
       "      <td>Compliance Manager</td>\n",
       "      <td>MD</td>\n",
       "      <td>25-34_WOMAN</td>\n",
       "    </tr>\n",
       "    <tr>\n",
       "      <th>26980</th>\n",
       "      <td>10000000</td>\n",
       "      <td>JPY</td>\n",
       "      <td>Regional Sales Manager</td>\n",
       "      <td>MD</td>\n",
       "      <td>25-34_MAN</td>\n",
       "    </tr>\n",
       "    <tr>\n",
       "      <th>18027</th>\n",
       "      <td>9400000</td>\n",
       "      <td>JPY</td>\n",
       "      <td>Backend system dev</td>\n",
       "      <td>PhD</td>\n",
       "      <td>25-34_MAN</td>\n",
       "    </tr>\n",
       "  </tbody>\n",
       "</table>\n",
       "</div>"
      ],
      "text/plain": [
       "       Total_Income Currency               Job title Highest_Degree  \\\n",
       "3605      102000000      COP      Operations Manager             CD   \n",
       "24443      21800000      JPY             Voice Actor             CD   \n",
       "10654      11500000      JPY      Compliance Manager             MD   \n",
       "26980      10000000      JPY  Regional Sales Manager             MD   \n",
       "18027       9400000      JPY      Backend system dev            PhD   \n",
       "\n",
       "         Age_group  \n",
       "3605     25-34_MAN  \n",
       "24443    25-34_MAN  \n",
       "10654  25-34_WOMAN  \n",
       "26980    25-34_MAN  \n",
       "18027    25-34_MAN  "
      ]
     },
     "execution_count": 63,
     "metadata": {},
     "output_type": "execute_result"
    }
   ],
   "source": [
    "# Sort df'Total_Income' in ascending order\n",
    "df_sorted = df.sort_values(by='Total_Income', ascending=False)\n",
    "df_sorted[['Total_Income', 'Currency', 'Job title', 'Highest_Degree','Age_group']].head(5)\n",
    "\n"
   ]
  },
  {
   "cell_type": "markdown",
   "id": "476f5e27",
   "metadata": {},
   "source": [
    "#clean data for range columns ‘Age’ , ‘Work Exp’ , ‘ Rel_exp’ :extract text, find unique groups /"
   ]
  },
  {
   "cell_type": "code",
   "execution_count": 64,
   "id": "baada475",
   "metadata": {
    "scrolled": true
   },
   "outputs": [
    {
     "name": "stdout",
     "output_type": "stream",
     "text": [
      "Age               0\n",
      "Industry          0\n",
      "Job title         0\n",
      "Job context       0\n",
      "Annual Salary     0\n",
      "Bonus             0\n",
      "Currency          0\n",
      "Currency other    0\n",
      "Country           0\n",
      "State             0\n",
      "City              0\n",
      "Work_Exp          0\n",
      "Rel_Exp           0\n",
      "Highest_Degree    0\n",
      "Gender            0\n",
      "Total_Income      0\n",
      "Demographics      0\n",
      "Age_group         0\n",
      "dtype: int64\n"
     ]
    }
   ],
   "source": [
    "# identifying columns with missing data in updated df\n",
    "print(df.isnull().sum())\n"
   ]
  },
  {
   "cell_type": "code",
   "execution_count": 65,
   "id": "ab224426",
   "metadata": {},
   "outputs": [
    {
     "name": "stdout",
     "output_type": "stream",
     "text": [
      "Number of unique industries: 1198\n"
     ]
    }
   ],
   "source": [
    "# identifying  number of unoque  values in 'Industry'\n",
    "unique_industries = df['Industry'].nunique()\n",
    "print(\"Number of unique industries:\", unique_industries)"
   ]
  },
  {
   "cell_type": "code",
   "execution_count": 66,
   "id": "213f7964",
   "metadata": {
    "scrolled": true
   },
   "outputs": [
    {
     "data": {
      "text/plain": [
       "array(['2 - 4 years', '8 - 10 years', '11 - 20 years', '5-7 years',\n",
       "       '21 - 30 years', '31 - 40 years', '41 years or more',\n",
       "       '1 year or less'], dtype=object)"
      ]
     },
     "execution_count": 66,
     "metadata": {},
     "output_type": "execute_result"
    }
   ],
   "source": [
    "# identifying  categories/values in a'Work_Exp' column\n",
    "df['Work_Exp'].unique()"
   ]
  },
  {
   "cell_type": "code",
   "execution_count": 67,
   "id": "91258564",
   "metadata": {},
   "outputs": [
    {
     "data": {
      "text/plain": [
       "array(['18-24', '25-34', '45-54', '35-44', '55-64', 'under 18',\n",
       "       '65 or over'], dtype=object)"
      ]
     },
     "execution_count": 67,
     "metadata": {},
     "output_type": "execute_result"
    }
   ],
   "source": [
    "df['Age'].unique()"
   ]
  },
  {
   "cell_type": "code",
   "execution_count": 68,
   "id": "00df9b52",
   "metadata": {},
   "outputs": [
    {
     "data": {
      "text/plain": [
       "array(['Canada', 'Colombia', 'Japan', 'Usa', 'China', 'Japan ', 'japan',\n",
       "       'United States', 'USA', 'Sweden', 'Singapore', 'Taiwan',\n",
       "       'South Africa', 'US', 'Denmark', 'South Africa ', 'India',\n",
       "       'Australia ', 'USA ', 'United Kingdom', 'UK', 'usa', 'Germany',\n",
       "       'United Stated', 'South africa', 'Us', 'Sweden ', 'U.S.',\n",
       "       'United States ', 'Norway ', 'united states', 'Norway', 'England',\n",
       "       'denmark', 'Uk', 'U. S ', 'United states', 'Hong Kong', 'Canada ',\n",
       "       'France', 'United Status', 'Usa ', 'New Zealand',\n",
       "       'United States of America', 'NZ', 'Australia', 'U.S', 'Nigeria',\n",
       "       'Switzerland', 'U.S.A.', 'UK ', 'United states ', 'United STates',\n",
       "       'Israel', 'canada', 'us', 'New Zealand ', 'United Kingdom ',\n",
       "       'Spain', 'Vietnam', 'united States', 'The US', 'US ', 'U.A.',\n",
       "       'Australian ', 'America', 'United Stattes', 'U.S.A', 'Global',\n",
       "       'Ireland', 'Belgium',\n",
       "       'From New Zealand but on projects across APAC', 'Unites states ',\n",
       "       'USD', 'United Stares', 'United States Of America', 'Unite States',\n",
       "       'United States of america', 'ireland', 'ISA', 'New zealand',\n",
       "       'UNited States', '🇺🇸 ', 'u.s.', 'United States of America ',\n",
       "       'Sri lanka', 'Philippines', 'united stated', 'Poland',\n",
       "       'Canada, Ottawa, ontario', 'United Statues', 'United State',\n",
       "       'Liechtenstein', 'United Stateds', 'Canadá', 'The Netherlands',\n",
       "       'Switzerland ', 'australia', 'Netherlands', 'Nederland', 'U.S. ',\n",
       "       'Italy', 'Uk ', 'Csnada', 'Slovakia', 'Brazil', 'Canda',\n",
       "       'Unitied States', 'Bermuda', 'Ghana', 'United Sates',\n",
       "       'United State of America', 'UnitedStates', 'Mexico ',\n",
       "       'new zealand',\n",
       "       'Worldwide (based in US but short term trips aroudn the world)',\n",
       "       'Y', 'Usat', 'Germany ', 'United Statesp', 'UNITED STATES',\n",
       "       'bonus based on meeting yearly goals set w/ my supervisor',\n",
       "       'Unites States', 'New Zealand Aotearoa', 'Luxembourg', 'Austria',\n",
       "       'U.K. ', 'switzerland', 'United Stares ', 'Us ', 'U. S.', 'CANADA',\n",
       "       'The Netherlands ', 'Argentina', 'Uniyed states', 'Policy',\n",
       "       'Netherlands ', 'Danmark', 'United Statea', 'United kingdom',\n",
       "       'U. S. ', 'International ', 'Saudi Arabia', 'Ireland ', 'Portugal',\n",
       "       'Austria, but I work remotely for a Dutch/British company',\n",
       "       'United Sates of America', 'UA', 'UXZ', 'Pakistan', 'Hong Kong ',\n",
       "       'Uganda', 'United States of American ',\n",
       "       'United States (I work from home and my clients are all over the US/Canada/PR',\n",
       "       'Eritrea', 'UAE', 'Sierra Leone', 'Scotland', 'Virginia', 'Mexico',\n",
       "       'United states of america',\n",
       "       'UK, but for globally fully remote company', 'USA tomorrow ',\n",
       "       'Hartford', 'Luxemburg', 'netherlands', 'CANADA ', 'Africa',\n",
       "       'Currently finance', 'Northern Ireland, United Kingdom',\n",
       "       'Contracts', ' US', ' New Zealand', 'Isle of Man', 'Remote',\n",
       "       'U.S.A. ', 'For the United States government, but posted overseas',\n",
       "       'Belgium ', 'Romania', 'Congo', 'Uruguay', 'Ecuador',\n",
       "       'United Sttes', 'uk',\n",
       "       'I work for a UAE-based organization, though I am personally in the US.',\n",
       "       'United states of America',\n",
       "       'US govt employee overseas, country withheld', 'united kingdom',\n",
       "       'Cayman Islands', 'Unites kingdom ', 'Puerto Rico ', 'England ',\n",
       "       'Canadw', 'Unitef Stated', 'I.S.', 'united states ', 'NL',\n",
       "       'Costa Rica', 'California ', 'Wales', 'Portugal ',\n",
       "       'USA-- Virgin Islands', 'uS', 'The United States', 'U.S.A ',\n",
       "       \"USA, but for foreign gov't\", 'USaa',\n",
       "       'I was brought in on this salary to help with the EHR and very quickly was promoted to current position but compensation was not altered. ',\n",
       "       'Lithuania', 'Canad', 'United states of America ', 'London',\n",
       "       'Bangladesh', 'Scotland ', 'Hungary', 'U.K.',\n",
       "       'United Arab Emirates ', ' United States', 'UsA', 'germany', 'uSA',\n",
       "       'Unites States ', 'Qatar', 'United Statws', 'United Kindom',\n",
       "       \"Cote d'Ivoire\", 'The Bahamas ', 'USAB', 'Finland',\n",
       "       'Uniteed States', 'Rwanda', 'USS', 'United States of Americas',\n",
       "       'U.s.', 'Remote (philippines)', 'United statew',\n",
       "       '$2,175.84/year is deducted for benefits', 'Catalonia', 'america',\n",
       "       'usa ', 'Kenya', 'Unted States',\n",
       "       'n/a (remote from wherever I want)', 'ENGLAND', 'U.S>', 'France ',\n",
       "       'Somalia', 'United Statees', 'United Statss',\n",
       "       'united states of america', 'Spain ', 'England, Gb', 'Bulgaria',\n",
       "       'singapore', 'UK, remote', 'Aotearoa New Zealand', 'Can',\n",
       "       'United Kingdom.', 'Company in Germany. I work from Pakistan.',\n",
       "       'Thailand', 'the netherlands',\n",
       "       \"I earn commission on sales. If I meet quota, I'm guaranteed another 16k min. Last year i earned an additional 27k. It's not uncommon for people in my space to earn 100k+ after commission. \",\n",
       "       'Australi', 'United States of American', 'Zimbabwe', 'Latvia',\n",
       "       'Uniyes States', 'United  States', 'San Francisco', 'hong konh',\n",
       "       'United States of america ', 'Greece', 'Jamaica', 'England, UK',\n",
       "       'US of A', 'United y', ' U.S.', 'Malta', 'Puerto Rico',\n",
       "       'England/UK', 'IS', 'europe', 'Afghanistan',\n",
       "       'United Kingdom (England)', 'Great Britain',\n",
       "       'I am located in Canada but I work for a company in the US',\n",
       "       'UK (England)', 'Canada and USA', 'Scotland, UK', 'Untied States',\n",
       "       'Britain ', 'Uniited States', 'Chile',\n",
       "       \"We don't get raises, we get quarterly bonuses, but they periodically asses income in the area you work, so I got a raise because a 3rd party assessment showed I was paid too little for the area we were located\",\n",
       "       'Wales (United Kingdom)',\n",
       "       'USA (company is based in a US territory, I work remote)',\n",
       "       'Croatia ', 'U.K', 'Northern Ireland', 'pakistan', 'Uniter Statez',\n",
       "       'Malaysia', 'Jordan', 'U.s.a.', 'U.SA', 'The netherlands',\n",
       "       'Englang', 'Jersey, Channel islands', 'Wales, UK',\n",
       "       'Japan, US Gov position', 'england', 'FRANCE', 'Great Britain ',\n",
       "       'UK for U.S. company', 'Morocco', 'Estonia', 'Panamá',\n",
       "       'United Kingdomk', 'the Netherlands', 'United kingdom ',\n",
       "       'Cambodia', 'England, United Kingdom', 'france',\n",
       "       'From Romania, but for an US based company', 'Serbia',\n",
       "       'South Korea ', 'U.K. (northern England)', 'Northern Ireland ',\n",
       "       'Wales (UK)', 'Cyprus', 'England, United Kingdom ', 'philippines',\n",
       "       'Slovenia', 'Italy (South)', 'England, UK.',\n",
       "       'United States- Puerto Rico', 'United States is America',\n",
       "       'Russia ', 'Kuwait', 'Ukraine '], dtype=object)"
      ]
     },
     "execution_count": 68,
     "metadata": {},
     "output_type": "execute_result"
    }
   ],
   "source": [
    "# identifying  categories/values in a targeted  variable 'Annual Salary' column\n",
    "df['Country'].unique()"
   ]
  },
  {
   "cell_type": "markdown",
   "id": "5aa75d2f",
   "metadata": {},
   "source": [
    "After filtering unique values in a 'Country' string, Identifying missliding data and manually replase it :extract Country name or consider it missing, and  maark as 'Unknown'  using   .replace({'old_value1': 'new_value1'}).Using replace method clean 'Country'   from "
   ]
  },
  {
   "cell_type": "code",
   "execution_count": 69,
   "id": "5f84de67",
   "metadata": {},
   "outputs": [],
   "source": [
    "#using reolace method , clean names form '.'\n",
    "df['Country'] = df['Country'].str.replace('\\.', '', regex=True)"
   ]
  },
  {
   "cell_type": "code",
   "execution_count": 70,
   "id": "517b850a",
   "metadata": {},
   "outputs": [],
   "source": [
    "#Remove parentheses using regular expression and replace method \n",
    "df['Country'] = df['Country'].str.replace(r'\\(|\\)', '', regex=True)"
   ]
  },
  {
   "cell_type": "code",
   "execution_count": 71,
   "id": "a49bd04c",
   "metadata": {},
   "outputs": [],
   "source": [
    "# Replace the emoji with 'USA'\n",
    "df['Country'] = df['Country'].str.replace('🇺🇸', 'USA')"
   ]
  },
  {
   "cell_type": "markdown",
   "id": "24acd71d",
   "metadata": {},
   "source": [
    "i  got a \"SyntaxError: invalid decimal literal\" ,seems  Python  misinterpreting the '3rd' in \"3rd party assessment\" as a decimal number for \"We don't get raises, we get quarterly bonuses, but they periodically asses income in the area you work, so I got a raise because a 3rd party assessment showed I was paid too little for the area we were located\"  , I  use regular expression to  handle this "
   ]
  },
  {
   "cell_type": "code",
   "execution_count": 72,
   "id": "cf9f0708",
   "metadata": {},
   "outputs": [],
   "source": [
    "import re\n",
    "\n",
    "df['Country'] = df['Country'].str.replace(r\"We don't get raises, we get quarterly bonuses, but they periodically asses income in the area you work, so I got a raise because a 3rd party assessment showed I was paid too little for the area we were located\", \"Unknown\", regex=True)"
   ]
  },
  {
   "cell_type": "code",
   "execution_count": 73,
   "id": "51791028",
   "metadata": {},
   "outputs": [],
   "source": [
    "df['Country'] = df['Country'].str.replace('Worldwide based in US but short term trips aroudn the world', 'USA')"
   ]
  },
  {
   "cell_type": "code",
   "execution_count": 74,
   "id": "41393c79",
   "metadata": {},
   "outputs": [],
   "source": [
    "df['Country'] = df['Country'].str.replace(r\"United States I work from home and my clients are all over the US/Canada/PR\",\"USA\", regex=True)"
   ]
  },
  {
   "cell_type": "code",
   "execution_count": 75,
   "id": "484c3614",
   "metadata": {},
   "outputs": [],
   "source": [
    "# Replace values with 'USA'\n",
    "df['Country'] = df['Country'].replace({'For the United States government, but posted overseas': 'USA',\n",
    "                                        'USA, but for foreign gov\\'t': 'USA',\n",
    "                                        'US govt employee overseas, country withheld': 'USA'})"
   ]
  },
  {
   "cell_type": "code",
   "execution_count": 76,
   "id": "8de09349",
   "metadata": {},
   "outputs": [],
   "source": [
    "\n",
    "df['Country'] = df['Country'].str.replace(r\"$2,17584/year is deducted for benefits\", \"Unknown\", regex=True)"
   ]
  },
  {
   "cell_type": "code",
   "execution_count": 77,
   "id": "b817285c",
   "metadata": {
    "scrolled": true
   },
   "outputs": [],
   "source": [
    "df['Country'] = df['Country'].str.replace(r\"I earn commission on sales If I meet quota, I'm guaranteed another 16k min Last year i earned an additional 27k It's not uncommon for people in my space to earn 100k+ after commission\", \"Unknown\", regex=True)"
   ]
  },
  {
   "cell_type": "code",
   "execution_count": 78,
   "id": "9bb7ce86",
   "metadata": {},
   "outputs": [],
   "source": [
    "df['Country'] = df['Country'].str.replace('USA company is based in a USA territory, I work remote', 'USA')"
   ]
  },
  {
   "cell_type": "code",
   "execution_count": 79,
   "id": "756dab29",
   "metadata": {},
   "outputs": [],
   "source": [
    "df['Country'] = df['Country'].str.replace('I am located in Canada but I work for a company in the US', 'USA')"
   ]
  },
  {
   "cell_type": "code",
   "execution_count": 80,
   "id": "a5f329a0",
   "metadata": {},
   "outputs": [],
   "source": [
    "df['Country'] = df['Country'].str.replace(r\"I earn commission on sales If I meet quota, I'm guaranteed another 16k min Last year i earned an additional 27k It's not uncommon for people in my space to earn 100k+ after commission\", \"Unknown\", regex=True)"
   ]
  },
  {
   "cell_type": "code",
   "execution_count": 81,
   "id": "0c6de35d",
   "metadata": {},
   "outputs": [],
   "source": [
    "# Regular expression to match variations of USA and United States  use $   to mark end ($) of the string, \n",
    "usa_pattern = re.compile(r\"^(USA|US|United States)$\", flags=re.IGNORECASE)\n",
    "# Replace matches with \"USA\", case-insensitive\n",
    "df['Country'] = df['Country'].str.replace(usa_pattern, 'USA', regex=True)\n"
   ]
  },
  {
   "cell_type": "code",
   "execution_count": 82,
   "id": "d87f3b5f",
   "metadata": {},
   "outputs": [],
   "source": [
    "df['Country'] = df['Country'].str.replace('United States','USA')\n"
   ]
  },
  {
   "cell_type": "markdown",
   "id": "890ee29c",
   "metadata": {},
   "source": [
    "I naoticed multiply USA entityes to standartise it , i use strip()    and upper()   functions "
   ]
  },
  {
   "cell_type": "code",
   "execution_count": 83,
   "id": "d5822e63",
   "metadata": {},
   "outputs": [],
   "source": [
    "# make   all upper \n",
    "df['Country'] = df['Country'].str.upper()"
   ]
  },
  {
   "cell_type": "code",
   "execution_count": 84,
   "id": "25a571da",
   "metadata": {},
   "outputs": [],
   "source": [
    "df['Country'] = df['Country'].str.strip()"
   ]
  },
  {
   "cell_type": "markdown",
   "id": "9d09f46f",
   "metadata": {},
   "source": [
    "I found a  464 group with name USA OF AMERICA'  ,I replase it with USA, but use  case sensitive function  case=False)"
   ]
  },
  {
   "cell_type": "code",
   "execution_count": 85,
   "id": "629de555",
   "metadata": {},
   "outputs": [],
   "source": [
    "df['Country'] = df['Country'].str.replace('USA OF AMERICA', 'USA', case=False)"
   ]
  },
  {
   "cell_type": "code",
   "execution_count": 86,
   "id": "fb4b28f1",
   "metadata": {
    "scrolled": false
   },
   "outputs": [
    {
     "name": "stdout",
     "output_type": "stream",
     "text": [
      "USA               22889\n",
      "CANADA             1672\n",
      "UK                  696\n",
      "UNITED KINGDOM      633\n",
      "AUSTRALIA           383\n",
      "                  ...  \n",
      "UNITES KINGDOM        1\n",
      "CANADW                1\n",
      "UNITEF STATED         1\n",
      "NL                    1\n",
      "UKRAINE               1\n",
      "Name: Country, Length: 219, dtype: int64\n"
     ]
    }
   ],
   "source": [
    "# Frequency table for 'country   updated\n",
    "Country_distribution = df['Country'].value_counts()\n",
    "\n",
    "print(Country_distribution)"
   ]
  },
  {
   "cell_type": "code",
   "execution_count": 87,
   "id": "53feae5b",
   "metadata": {},
   "outputs": [
    {
     "name": "stdout",
     "output_type": "stream",
     "text": [
      "Computing or Tech                       4633\n",
      "Education (Higher Education)            2447\n",
      "Nonprofits                              2406\n",
      "Health care                             1879\n",
      "Government and Public Administration    1877\n",
      "                                        ... \n",
      "Hospital                                   1\n",
      "Environmental Planning                     1\n",
      "Architecture/Construction                  1\n",
      "Information sciences                       1\n",
      "Freelance Journalism                       1\n",
      "Name: Industry, Length: 1198, dtype: int64\n"
     ]
    }
   ],
   "source": [
    "# Determine the distribution of categorical variables (e.g., Industry)\n",
    "# Frequency table for 'Industry'\n",
    "industry_distribution = df['Industry'].value_counts()\n",
    "\n",
    "print(industry_distribution)\n",
    "\n"
   ]
  },
  {
   "cell_type": "code",
   "execution_count": 88,
   "id": "4b65ff20",
   "metadata": {},
   "outputs": [
    {
     "name": "stdout",
     "output_type": "stream",
     "text": [
      "Software Engineer                  283\n",
      "Project Manager                    227\n",
      "Director                           198\n",
      "Senior Software Engineer           194\n",
      "Program Manager                    152\n",
      "                                  ... \n",
      "Collection Management Librarian      1\n",
      "Engineer I                           1\n",
      "Investment Supervisor (Media)        1\n",
      "Liaison Librarian                    1\n",
      "Software Development Lead            1\n",
      "Name: Job title, Length: 14217, dtype: int64\n"
     ]
    }
   ],
   "source": [
    "# Frequency table for 'Job title\n",
    "# Frequency table for 'Job title'\n",
    "Job_distribution = df['Job title'].value_counts()\n",
    "\n",
    "print(Job_distribution)"
   ]
  },
  {
   "cell_type": "code",
   "execution_count": 100,
   "id": "656f6db4",
   "metadata": {},
   "outputs": [
    {
     "data": {
      "text/plain": [
       "array(['Investment Banking Analyst', 'Operations Manager', 'Voice Actor',\n",
       "       ..., 'Senior Director, ESG and Investor Relations',\n",
       "       'Community Project Manager', 'Software Development Lead'],\n",
       "      dtype=object)"
      ]
     },
     "execution_count": 100,
     "metadata": {},
     "output_type": "execute_result"
    }
   ],
   "source": [
    "# identifying  categories/values in a targeted  variable 'Annual Salary' column\n",
    "df['Job title'].unique()"
   ]
  },
  {
   "cell_type": "code",
   "execution_count": 107,
   "id": "5ba722f9",
   "metadata": {},
   "outputs": [
    {
     "name": "stdout",
     "output_type": "stream",
     "text": [
      "28043                                   Lead\n",
      "6783             Principal Software Engineer\n",
      "1449                             Design Lead\n",
      "4206                       Software Engineer\n",
      "17209         Director, Software Development\n",
      "                        ...                 \n",
      "26015               Senior Software Engineer\n",
      "25830                      software engineer\n",
      "19434                      Software Engineer\n",
      "27631    Software Engineer Technical Support\n",
      "8999               Software Development Lead\n",
      "Name: Job title, Length: 2203, dtype: object\n"
     ]
    }
   ],
   "source": [
    "#Find a number of Jobs related to Software , using keywords \n",
    "keywords = ['Software', 'Lead',  'Senior Software Engineer', 'Program Manager']\n",
    "\n",
    "# Filter the DataFrame based on keywords in the 'Job Title' column\n",
    "Job_filtered_df = df[df['Job title'].str.contains('|'.join(keywords), case=False)]\n",
    "\n",
    "# Print the filtered DataFrame\n",
    "print(Job_filtered_df['Job title'])"
   ]
  },
  {
   "cell_type": "code",
   "execution_count": 123,
   "id": "f901e9b6",
   "metadata": {},
   "outputs": [
    {
     "data": {
      "text/html": [
       "<div>\n",
       "<style scoped>\n",
       "    .dataframe tbody tr th:only-of-type {\n",
       "        vertical-align: middle;\n",
       "    }\n",
       "\n",
       "    .dataframe tbody tr th {\n",
       "        vertical-align: top;\n",
       "    }\n",
       "\n",
       "    .dataframe thead th {\n",
       "        text-align: right;\n",
       "    }\n",
       "</style>\n",
       "<table border=\"1\" class=\"dataframe\">\n",
       "  <thead>\n",
       "    <tr style=\"text-align: right;\">\n",
       "      <th></th>\n",
       "      <th>Total_Income</th>\n",
       "      <th>Age</th>\n",
       "      <th>Demographics</th>\n",
       "      <th>Currency</th>\n",
       "      <th>Job title</th>\n",
       "      <th>Rel_Exp</th>\n",
       "    </tr>\n",
       "  </thead>\n",
       "  <tbody>\n",
       "    <tr>\n",
       "      <th>27631</th>\n",
       "      <td>10700</td>\n",
       "      <td>35-44</td>\n",
       "      <td>CD_MAN</td>\n",
       "      <td>USD</td>\n",
       "      <td>Software Engineer Technical Support</td>\n",
       "      <td>8 - 10 years</td>\n",
       "    </tr>\n",
       "    <tr>\n",
       "      <th>19434</th>\n",
       "      <td>10800</td>\n",
       "      <td>25-34</td>\n",
       "      <td>CD_MAN</td>\n",
       "      <td>EUR</td>\n",
       "      <td>Software Engineer</td>\n",
       "      <td>2 - 4 years</td>\n",
       "    </tr>\n",
       "    <tr>\n",
       "      <th>27992</th>\n",
       "      <td>17760</td>\n",
       "      <td>18-24</td>\n",
       "      <td>MD_MAN</td>\n",
       "      <td>EUR</td>\n",
       "      <td>Java Software Developer</td>\n",
       "      <td>1 year or less</td>\n",
       "    </tr>\n",
       "    <tr>\n",
       "      <th>17161</th>\n",
       "      <td>18000</td>\n",
       "      <td>35-44</td>\n",
       "      <td>CD_MAN</td>\n",
       "      <td>USD</td>\n",
       "      <td>Software Architect</td>\n",
       "      <td>11 - 20 years</td>\n",
       "    </tr>\n",
       "    <tr>\n",
       "      <th>8197</th>\n",
       "      <td>18500</td>\n",
       "      <td>35-44</td>\n",
       "      <td>NON_DEGREE_WOMAN</td>\n",
       "      <td>GBP</td>\n",
       "      <td>PA to the Senior Leadership Team</td>\n",
       "      <td>2 - 4 years</td>\n",
       "    </tr>\n",
       "  </tbody>\n",
       "</table>\n",
       "</div>"
      ],
      "text/plain": [
       "       Total_Income    Age      Demographics Currency  \\\n",
       "27631         10700  35-44            CD_MAN      USD   \n",
       "19434         10800  25-34            CD_MAN      EUR   \n",
       "27992         17760  18-24            MD_MAN      EUR   \n",
       "17161         18000  35-44            CD_MAN      USD   \n",
       "8197          18500  35-44  NON_DEGREE_WOMAN      GBP   \n",
       "\n",
       "                                 Job title         Rel_Exp  \n",
       "27631  Software Engineer Technical Support    8 - 10 years  \n",
       "19434                    Software Engineer     2 - 4 years  \n",
       "27992              Java Software Developer  1 year or less  \n",
       "17161                   Software Architect   11 - 20 years  \n",
       "8197     PA to the Senior Leadership Team      2 - 4 years  "
      ]
     },
     "execution_count": 123,
     "metadata": {},
     "output_type": "execute_result"
    }
   ],
   "source": [
    "sorted_df = Job_filtered_df.sort_values(by='Total_Income', ascending=True)\n",
    "\n",
    "# Print the desired columns from the sorted copy\n",
    "sorted_df[['Total_Income', 'Age', 'Demographics', 'Currency', 'Job title', 'Rel_Exp' ]].head()"
   ]
  },
  {
   "cell_type": "code",
   "execution_count": 89,
   "id": "3eed655a",
   "metadata": {},
   "outputs": [],
   "source": [
    "from datetime import datetime "
   ]
  },
  {
   "cell_type": "code",
   "execution_count": 90,
   "id": "25853a52",
   "metadata": {},
   "outputs": [],
   "source": [
    "# Getting current date and time\n",
    "current_time = datetime.now()\n",
    "\n",
    "# Formatting the date and time in a readable format:\n",
    "formatted_time = current_time.strftime('%B %d, %Y, %H:%M:%S')"
   ]
  },
  {
   "cell_type": "code",
   "execution_count": 91,
   "id": "9f92c7d6",
   "metadata": {},
   "outputs": [
    {
     "name": "stdout",
     "output_type": "stream",
     "text": [
      "Salary_survey_0.ipynb was last run on: November 05, 2024, 17:28:16\n"
     ]
    }
   ],
   "source": [
    "# Print the formatted date and time\n",
    "print(f\"Salary_survey_0.ipynb was last run on: {formatted_time}\")"
   ]
  },
  {
   "cell_type": "markdown",
   "id": "c3056992",
   "metadata": {},
   "source": [
    "NEW DF for   USA  country ,find outliers  .For targeted category 'Annial salary'=  find MEan  and median"
   ]
  },
  {
   "cell_type": "code",
   "execution_count": 118,
   "id": "d92bdbcc",
   "metadata": {
    "scrolled": false
   },
   "outputs": [
    {
     "data": {
      "text/html": [
       "<div>\n",
       "<style scoped>\n",
       "    .dataframe tbody tr th:only-of-type {\n",
       "        vertical-align: middle;\n",
       "    }\n",
       "\n",
       "    .dataframe tbody tr th {\n",
       "        vertical-align: top;\n",
       "    }\n",
       "\n",
       "    .dataframe thead th {\n",
       "        text-align: right;\n",
       "    }\n",
       "</style>\n",
       "<table border=\"1\" class=\"dataframe\">\n",
       "  <thead>\n",
       "    <tr style=\"text-align: right;\">\n",
       "      <th></th>\n",
       "      <th>Currency</th>\n",
       "      <th>Total_Income</th>\n",
       "      <th>Country</th>\n",
       "      <th>Demographics</th>\n",
       "      <th>Job title</th>\n",
       "      <th>Rel_Exp</th>\n",
       "      <th>Industry</th>\n",
       "    </tr>\n",
       "  </thead>\n",
       "  <tbody>\n",
       "    <tr>\n",
       "      <th>26466</th>\n",
       "      <td>USD</td>\n",
       "      <td>5004044</td>\n",
       "      <td>USA</td>\n",
       "      <td>MD_WOMAN</td>\n",
       "      <td>Inside sales manager</td>\n",
       "      <td>21 - 30 years</td>\n",
       "      <td>Sales</td>\n",
       "    </tr>\n",
       "    <tr>\n",
       "      <th>15795</th>\n",
       "      <td>JPY</td>\n",
       "      <td>3600000</td>\n",
       "      <td>USA</td>\n",
       "      <td>CD_NON-BINARY</td>\n",
       "      <td>Japanese to English Translator</td>\n",
       "      <td>2 - 4 years</td>\n",
       "      <td>Entertainment</td>\n",
       "    </tr>\n",
       "    <tr>\n",
       "      <th>2124</th>\n",
       "      <td>USD</td>\n",
       "      <td>3000000</td>\n",
       "      <td>USA</td>\n",
       "      <td>MD_WOMAN</td>\n",
       "      <td>Owner and CEO</td>\n",
       "      <td>21 - 30 years</td>\n",
       "      <td>Art &amp; Design</td>\n",
       "    </tr>\n",
       "    <tr>\n",
       "      <th>28043</th>\n",
       "      <td>USD</td>\n",
       "      <td>2600000</td>\n",
       "      <td>USA</td>\n",
       "      <td>NON_DEGREE_MAN</td>\n",
       "      <td>Lead</td>\n",
       "      <td>2 - 4 years</td>\n",
       "      <td>Computing or Tech</td>\n",
       "    </tr>\n",
       "    <tr>\n",
       "      <th>5755</th>\n",
       "      <td>USD</td>\n",
       "      <td>1900000</td>\n",
       "      <td>USA</td>\n",
       "      <td>MD_WOMAN</td>\n",
       "      <td>Attending Physician (general internal medicine)</td>\n",
       "      <td>5-7 years</td>\n",
       "      <td>Health care</td>\n",
       "    </tr>\n",
       "    <tr>\n",
       "      <th>...</th>\n",
       "      <td>...</td>\n",
       "      <td>...</td>\n",
       "      <td>...</td>\n",
       "      <td>...</td>\n",
       "      <td>...</td>\n",
       "      <td>...</td>\n",
       "      <td>...</td>\n",
       "    </tr>\n",
       "    <tr>\n",
       "      <th>26072</th>\n",
       "      <td>USD</td>\n",
       "      <td>40040</td>\n",
       "      <td>USA</td>\n",
       "      <td>CD_WOMAN</td>\n",
       "      <td>Territory Manager</td>\n",
       "      <td>31 - 40 years</td>\n",
       "      <td>Sales</td>\n",
       "    </tr>\n",
       "    <tr>\n",
       "      <th>21222</th>\n",
       "      <td>USD</td>\n",
       "      <td>68040</td>\n",
       "      <td>USA</td>\n",
       "      <td>CD_WOMAN</td>\n",
       "      <td>Community Project Manager</td>\n",
       "      <td>11 - 20 years</td>\n",
       "      <td>Nonprofits</td>\n",
       "    </tr>\n",
       "    <tr>\n",
       "      <th>8999</th>\n",
       "      <td>USD</td>\n",
       "      <td>130001</td>\n",
       "      <td>USA</td>\n",
       "      <td>MD_MAN</td>\n",
       "      <td>Software Development Lead</td>\n",
       "      <td>8 - 10 years</td>\n",
       "      <td>Computing or Tech</td>\n",
       "    </tr>\n",
       "    <tr>\n",
       "      <th>12615</th>\n",
       "      <td>USD</td>\n",
       "      <td>185000</td>\n",
       "      <td>USA</td>\n",
       "      <td>MD_WOMAN</td>\n",
       "      <td>Attorney</td>\n",
       "      <td>8 - 10 years</td>\n",
       "      <td>Law</td>\n",
       "    </tr>\n",
       "    <tr>\n",
       "      <th>23983</th>\n",
       "      <td>USD</td>\n",
       "      <td>200000</td>\n",
       "      <td>USA</td>\n",
       "      <td>CD_WOMAN</td>\n",
       "      <td>Realtor</td>\n",
       "      <td>2 - 4 years</td>\n",
       "      <td>Business or Consulting</td>\n",
       "    </tr>\n",
       "  </tbody>\n",
       "</table>\n",
       "<p>22889 rows × 7 columns</p>\n",
       "</div>"
      ],
      "text/plain": [
       "      Currency  Total_Income Country    Demographics  \\\n",
       "26466      USD       5004044     USA        MD_WOMAN   \n",
       "15795      JPY       3600000     USA   CD_NON-BINARY   \n",
       "2124       USD       3000000     USA        MD_WOMAN   \n",
       "28043      USD       2600000     USA  NON_DEGREE_MAN   \n",
       "5755       USD       1900000     USA        MD_WOMAN   \n",
       "...        ...           ...     ...             ...   \n",
       "26072      USD         40040     USA        CD_WOMAN   \n",
       "21222      USD         68040     USA        CD_WOMAN   \n",
       "8999       USD        130001     USA          MD_MAN   \n",
       "12615      USD        185000     USA        MD_WOMAN   \n",
       "23983      USD        200000     USA        CD_WOMAN   \n",
       "\n",
       "                                             Job title        Rel_Exp  \\\n",
       "26466                             Inside sales manager  21 - 30 years   \n",
       "15795                   Japanese to English Translator    2 - 4 years   \n",
       "2124                                    Owner and CEO   21 - 30 years   \n",
       "28043                                             Lead    2 - 4 years   \n",
       "5755   Attending Physician (general internal medicine)      5-7 years   \n",
       "...                                                ...            ...   \n",
       "26072                                Territory Manager  31 - 40 years   \n",
       "21222                        Community Project Manager  11 - 20 years   \n",
       "8999                         Software Development Lead   8 - 10 years   \n",
       "12615                                         Attorney   8 - 10 years   \n",
       "23983                                          Realtor    2 - 4 years   \n",
       "\n",
       "                     Industry  \n",
       "26466                   Sales  \n",
       "15795           Entertainment  \n",
       "2124             Art & Design  \n",
       "28043       Computing or Tech  \n",
       "5755              Health care  \n",
       "...                       ...  \n",
       "26072                   Sales  \n",
       "21222              Nonprofits  \n",
       "8999        Computing or Tech  \n",
       "12615                     Law  \n",
       "23983  Business or Consulting  \n",
       "\n",
       "[22889 rows x 7 columns]"
      ]
     },
     "execution_count": 118,
     "metadata": {},
     "output_type": "execute_result"
    }
   ],
   "source": [
    " #create new DF  for   USA country \n",
    "\n",
    "filtered_df = df[df['Country'] == 'USA']\n",
    "\n",
    "filtered_df[['Currency', 'Total_Income','Country','Demographics','Job title','Rel_Exp','Industry']]\n"
   ]
  },
  {
   "cell_type": "code",
   "execution_count": 93,
   "id": "7381612f",
   "metadata": {},
   "outputs": [
    {
     "name": "stdout",
     "output_type": "stream",
     "text": [
      "Mean Annual Salary for USA (after cleaning): 84332.79941714858\n",
      "Median Annual Salary for USA (after cleaning): 76000.0\n"
     ]
    }
   ],
   "source": [
    "# Calculate IQR and identify outliers\n",
    "Q1 = filtered_df['Annual Salary'].quantile(0.25)\n",
    "Q3 = filtered_df['Annual Salary'].quantile(0.75)\n",
    "IQR = Q3 - Q1\n",
    "outliers = filtered_df[(filtered_df['Annual Salary'] < Q1 - 1.5 * IQR) | (filtered_df['Annual Salary'] > Q3 + 1.5 * IQR)]\n",
    "\n",
    "# Remove outliers (adjust as needed)\n",
    "filtered_df_cleaned = filtered_df.drop(outliers.index)\n",
    "\n",
    "# Calculate mean and median for cleaned data\n",
    "mean_salary = filtered_df_cleaned['Annual Salary'].mean()\n",
    "median_salary = filtered_df_cleaned['Annual Salary'].median()\n",
    "\n",
    "print(\"Mean Annual Salary for USA (after cleaning):\", mean_salary)\n",
    "print(\"Median Annual Salary for USA (after cleaning):\", median_salary)"
   ]
  },
  {
   "cell_type": "code",
   "execution_count": 94,
   "id": "9828c409",
   "metadata": {},
   "outputs": [
    {
     "name": "stdout",
     "output_type": "stream",
     "text": [
      "None\n"
     ]
    }
   ],
   "source": [
    "# Find top salary perfomance for  USA\n",
    "filtered_df = df[df['Country'] == 'USA']\n",
    "\n",
    "# Sort by 'Annual Salary' in descending order\n",
    "sorted_df = filtered_df.sort_values(by='Annual Salary', ascending=False)\n",
    "\n",
    "# Select the top 'n' rows (adjust 'n' as needed)\n",
    "top_n_salaries = sorted_df.head(n=10)  # For example, top 10 salaries\n",
    "\n",
    "# Print the desired columns\n",
    "print(top_n_salaries[['Annual Salary', 'State', 'Industry', 'Demographics']].to_csv('top_salaries.tsv', sep='\\t', index=False))"
   ]
  },
  {
   "cell_type": "code",
   "execution_count": 95,
   "id": "b2adcbfc",
   "metadata": {
    "scrolled": true
   },
   "outputs": [
    {
     "name": "stderr",
     "output_type": "stream",
     "text": [
      "/tmp/ipykernel_14675/2985907372.py:8: FutureWarning: The default value of numeric_only in DataFrame.corr is deprecated. In a future version, it will default to False. Select only valid columns or specify the value of numeric_only to silence this warning.\n",
      "  corrmat = data.corr()\n"
     ]
    },
    {
     "data": {
      "image/png": "[encoded data removed]",
      "text/plain": [
       "<Figure size 300x300 with 2 Axes>"
      ]
     },
     "metadata": {},
     "output_type": "display_data"
    }
   ],
   "source": [
    "import pandas as pd\n",
    "import numpy as np\n",
    "import seaborn as sns\n",
    "data = filtered_df = df[df['Country'] == 'USA']\n",
    "X = data.iloc[:,0:20]  #independent columns\n",
    "y = data.iloc[:,-1]    #target column i.e price range\n",
    "#get correlations of each features in dataset\n",
    "corrmat = data.corr()\n",
    "top_corr_features = corrmat.index\n",
    "plt.figure(figsize=(3,3))\n",
    "#plot heat map\n",
    "g=sns.heatmap(data[top_corr_features].corr(),annot=True,cmap=\"RdYlGn\")"
   ]
  },
  {
   "cell_type": "code",
   "execution_count": 96,
   "id": "7a6fb53a",
   "metadata": {},
   "outputs": [
    {
     "name": "stdout",
     "output_type": "stream",
     "text": [
      "25-34_WOMAN              9661\n",
      "35-44_WOMAN              7418\n",
      "45-54_WOMAN              2401\n",
      "25-34_MAN                2207\n",
      "35-44_MAN                2086\n",
      "18-24_WOMAN               845\n",
      "55-64_WOMAN               786\n",
      "45-54_MAN                 669\n",
      "25-34_NON-BINARY          463\n",
      "18-24_MAN                 244\n",
      "25-34_NO_GENDER           193\n",
      "35-44_NON-BINARY          176\n",
      "55-64_MAN                 170\n",
      "35-44_NO_GENDER           151\n",
      "65 or over_WOMAN           73\n",
      "18-24_NON-BINARY           71\n",
      "45-54_NO_GENDER            60\n",
      "18-24_NO_GENDER            28\n",
      "55-64_NO_GENDER            23\n",
      "45-54_NON-BINARY           23\n",
      "65 or over_MAN             20\n",
      "under 18_WOMAN              8\n",
      "under 18_NON-BINARY         4\n",
      "65 or over_NON-BINARY       1\n",
      "55-64_NON-BINARY            1\n",
      "65 or over_NO_GENDER        1\n",
      "Name: Age_group, dtype: int64\n"
     ]
    }
   ],
   "source": [
    "Education_distribution = df['Age_group'].value_counts()\n",
    "print(Education_distribution)"
   ]
  },
  {
   "cell_type": "code",
   "execution_count": 97,
   "id": "fa4e7a2e",
   "metadata": {},
   "outputs": [
    {
     "name": "stdout",
     "output_type": "stream",
     "text": [
      "28055    18-24_WOMAN\n",
      "10654    25-34_WOMAN\n",
      "23308    25-34_WOMAN\n",
      "10253    35-44_WOMAN\n",
      "12037    25-34_WOMAN\n",
      "            ...     \n",
      "14182    18-24_WOMAN\n",
      "26072    55-64_WOMAN\n",
      "21222    55-64_WOMAN\n",
      "12615    35-44_WOMAN\n",
      "23983    25-34_WOMAN\n",
      "Name: Age_group, Length: 21192, dtype: object\n"
     ]
    }
   ],
   "source": [
    "# Filter for US citizens\n",
    "filtered_df = df[df['Country'] == 'USA']\n",
    "\n",
    "# Sort by 'total_income' in descending order\n",
    "sored_df = filtered_df.sort_values(by='Total_Income', ascending=False)\n",
    "\n",
    "# Select the top 100 rows\n",
    "top_100_performers = sored_df.head(100)\n",
    "df_WOMAN = df[df['Age_group'].str.contains('WOMAN')]\n",
    "# Extract the 'Age_group' column from the filtered DataFrame\n",
    "Age_groups_WOMAN = df_WOMAN['Age_group']\n",
    "\n",
    "# Print the extracted values\n",
    "print(Age_groups_WOMAN)"
   ]
  },
  {
   "cell_type": "code",
   "execution_count": 98,
   "id": "c9b715c2",
   "metadata": {},
   "outputs": [
    {
     "name": "stdout",
     "output_type": "stream",
     "text": [
      "25-34_WOMAN         9661\n",
      "35-44_WOMAN         7418\n",
      "45-54_WOMAN         2401\n",
      "18-24_WOMAN          845\n",
      "55-64_WOMAN          786\n",
      "65 or over_WOMAN      73\n",
      "under 18_WOMAN         8\n",
      "Name: Age_group, dtype: int64\n"
     ]
    }
   ],
   "source": [
    "df_WOMAN = df[df['Age_group'].str.contains('WOMAN')]\n",
    "# Extract the 'Age_group' column from the filtered DataFrame\n",
    "Age_groups_WOMAN = df_WOMAN['Age_group']\n",
    "\n",
    "# Frequency table for 'Job title'\n",
    "Age_groups_WOMAN_distribution = df_WOMAN['Age_group'].value_counts()\n",
    "\n",
    "print(Age_groups_WOMAN_distribution)"
   ]
  },
  {
   "cell_type": "code",
   "execution_count": 99,
   "id": "54699262",
   "metadata": {},
   "outputs": [
    {
     "ename": "KeyError",
     "evalue": "'Total_Income'",
     "output_type": "error",
     "traceback": [
      "\u001b[0;31m---------------------------------------------------------------------------\u001b[0m",
      "\u001b[0;31mKeyError\u001b[0m                                  Traceback (most recent call last)",
      "File \u001b[0;32m/usr/lib/python3/dist-packages/pandas/core/indexes/base.py:3802\u001b[0m, in \u001b[0;36mIndex.get_loc\u001b[0;34m(self, key, method, tolerance)\u001b[0m\n\u001b[1;32m   3801\u001b[0m \u001b[38;5;28;01mtry\u001b[39;00m:\n\u001b[0;32m-> 3802\u001b[0m     \u001b[38;5;28;01mreturn\u001b[39;00m \u001b[38;5;28;43mself\u001b[39;49m\u001b[38;5;241;43m.\u001b[39;49m\u001b[43m_engine\u001b[49m\u001b[38;5;241;43m.\u001b[39;49m\u001b[43mget_loc\u001b[49m\u001b[43m(\u001b[49m\u001b[43mcasted_key\u001b[49m\u001b[43m)\u001b[49m\n\u001b[1;32m   3803\u001b[0m \u001b[38;5;28;01mexcept\u001b[39;00m \u001b[38;5;167;01mKeyError\u001b[39;00m \u001b[38;5;28;01mas\u001b[39;00m err:\n",
      "File \u001b[0;32m/usr/lib/python3/dist-packages/pandas/_libs/index.pyx:138\u001b[0m, in \u001b[0;36mpandas._libs.index.IndexEngine.get_loc\u001b[0;34m()\u001b[0m\n",
      "File \u001b[0;32m/usr/lib/python3/dist-packages/pandas/_libs/index.pyx:146\u001b[0m, in \u001b[0;36mpandas._libs.index.IndexEngine.get_loc\u001b[0;34m()\u001b[0m\n",
      "File \u001b[0;32mpandas/_libs/index_class_helper.pxi:49\u001b[0m, in \u001b[0;36mpandas._libs.index.Int64Engine._check_type\u001b[0;34m()\u001b[0m\n",
      "\u001b[0;31mKeyError\u001b[0m: 'Total_Income'",
      "\nThe above exception was the direct cause of the following exception:\n",
      "\u001b[0;31mKeyError\u001b[0m                                  Traceback (most recent call last)",
      "Cell \u001b[0;32mIn [99], line 6\u001b[0m\n\u001b[1;32m      3\u001b[0m df_sorted \u001b[38;5;241m=\u001b[39m df_WOMAN[\u001b[38;5;124m'\u001b[39m\u001b[38;5;124mAge_group\u001b[39m\u001b[38;5;124m'\u001b[39m]\n\u001b[1;32m      5\u001b[0m plt\u001b[38;5;241m.\u001b[39mfigure(figsize\u001b[38;5;241m=\u001b[39m(\u001b[38;5;241m10\u001b[39m, \u001b[38;5;241m6\u001b[39m))\n\u001b[0;32m----> 6\u001b[0m plt\u001b[38;5;241m.\u001b[39mbar( df_WOMAN[\u001b[38;5;124m'\u001b[39m\u001b[38;5;124mAge_group\u001b[39m\u001b[38;5;124m'\u001b[39m], \u001b[43mdf_sorted\u001b[49m\u001b[43m[\u001b[49m\u001b[38;5;124;43m'\u001b[39;49m\u001b[38;5;124;43mTotal_Income\u001b[39;49m\u001b[38;5;124;43m'\u001b[39;49m\u001b[43m]\u001b[49m, color\u001b[38;5;241m=\u001b[39m\u001b[38;5;124m'\u001b[39m\u001b[38;5;124mskyblue\u001b[39m\u001b[38;5;124m'\u001b[39m)\n\u001b[1;32m      8\u001b[0m \u001b[38;5;66;03m# Add labels and title\u001b[39;00m\n\u001b[1;32m      9\u001b[0m plt\u001b[38;5;241m.\u001b[39mxlabel(\u001b[38;5;124m'\u001b[39m\u001b[38;5;124mAge_group\u001b[39m\u001b[38;5;124m'\u001b[39m)\n",
      "File \u001b[0;32m/usr/lib/python3/dist-packages/pandas/core/series.py:981\u001b[0m, in \u001b[0;36mSeries.__getitem__\u001b[0;34m(self, key)\u001b[0m\n\u001b[1;32m    978\u001b[0m     \u001b[38;5;28;01mreturn\u001b[39;00m \u001b[38;5;28mself\u001b[39m\u001b[38;5;241m.\u001b[39m_values[key]\n\u001b[1;32m    980\u001b[0m \u001b[38;5;28;01melif\u001b[39;00m key_is_scalar:\n\u001b[0;32m--> 981\u001b[0m     \u001b[38;5;28;01mreturn\u001b[39;00m \u001b[38;5;28;43mself\u001b[39;49m\u001b[38;5;241;43m.\u001b[39;49m\u001b[43m_get_value\u001b[49m\u001b[43m(\u001b[49m\u001b[43mkey\u001b[49m\u001b[43m)\u001b[49m\n\u001b[1;32m    983\u001b[0m \u001b[38;5;28;01mif\u001b[39;00m is_hashable(key):\n\u001b[1;32m    984\u001b[0m     \u001b[38;5;66;03m# Otherwise index.get_value will raise InvalidIndexError\u001b[39;00m\n\u001b[1;32m    985\u001b[0m     \u001b[38;5;28;01mtry\u001b[39;00m:\n\u001b[1;32m    986\u001b[0m         \u001b[38;5;66;03m# For labels that don't resolve as scalars like tuples and frozensets\u001b[39;00m\n",
      "File \u001b[0;32m/usr/lib/python3/dist-packages/pandas/core/series.py:1089\u001b[0m, in \u001b[0;36mSeries._get_value\u001b[0;34m(self, label, takeable)\u001b[0m\n\u001b[1;32m   1086\u001b[0m     \u001b[38;5;28;01mreturn\u001b[39;00m \u001b[38;5;28mself\u001b[39m\u001b[38;5;241m.\u001b[39m_values[label]\n\u001b[1;32m   1088\u001b[0m \u001b[38;5;66;03m# Similar to Index.get_value, but we do not fall back to positional\u001b[39;00m\n\u001b[0;32m-> 1089\u001b[0m loc \u001b[38;5;241m=\u001b[39m \u001b[38;5;28;43mself\u001b[39;49m\u001b[38;5;241;43m.\u001b[39;49m\u001b[43mindex\u001b[49m\u001b[38;5;241;43m.\u001b[39;49m\u001b[43mget_loc\u001b[49m\u001b[43m(\u001b[49m\u001b[43mlabel\u001b[49m\u001b[43m)\u001b[49m\n\u001b[1;32m   1090\u001b[0m \u001b[38;5;28;01mreturn\u001b[39;00m \u001b[38;5;28mself\u001b[39m\u001b[38;5;241m.\u001b[39mindex\u001b[38;5;241m.\u001b[39m_get_values_for_loc(\u001b[38;5;28mself\u001b[39m, loc, label)\n",
      "File \u001b[0;32m/usr/lib/python3/dist-packages/pandas/core/indexes/base.py:3804\u001b[0m, in \u001b[0;36mIndex.get_loc\u001b[0;34m(self, key, method, tolerance)\u001b[0m\n\u001b[1;32m   3802\u001b[0m     \u001b[38;5;28;01mreturn\u001b[39;00m \u001b[38;5;28mself\u001b[39m\u001b[38;5;241m.\u001b[39m_engine\u001b[38;5;241m.\u001b[39mget_loc(casted_key)\n\u001b[1;32m   3803\u001b[0m \u001b[38;5;28;01mexcept\u001b[39;00m \u001b[38;5;167;01mKeyError\u001b[39;00m \u001b[38;5;28;01mas\u001b[39;00m err:\n\u001b[0;32m-> 3804\u001b[0m     \u001b[38;5;28;01mraise\u001b[39;00m \u001b[38;5;167;01mKeyError\u001b[39;00m(key) \u001b[38;5;28;01mfrom\u001b[39;00m \u001b[38;5;21;01merr\u001b[39;00m\n\u001b[1;32m   3805\u001b[0m \u001b[38;5;28;01mexcept\u001b[39;00m \u001b[38;5;167;01mTypeError\u001b[39;00m:\n\u001b[1;32m   3806\u001b[0m     \u001b[38;5;66;03m# If we have a listlike key, _check_indexing_error will raise\u001b[39;00m\n\u001b[1;32m   3807\u001b[0m     \u001b[38;5;66;03m#  InvalidIndexError. Otherwise we fall through and re-raise\u001b[39;00m\n\u001b[1;32m   3808\u001b[0m     \u001b[38;5;66;03m#  the TypeError.\u001b[39;00m\n\u001b[1;32m   3809\u001b[0m     \u001b[38;5;28mself\u001b[39m\u001b[38;5;241m.\u001b[39m_check_indexing_error(key)\n",
      "\u001b[0;31mKeyError\u001b[0m: 'Total_Income'"
     ]
    },
    {
     "data": {
      "text/plain": [
       "<Figure size 1000x600 with 0 Axes>"
      ]
     },
     "metadata": {},
     "output_type": "display_data"
    }
   ],
   "source": [
    "# Create bar chart\n",
    "# Sort by Age_Group\n",
    "df_sorted = df_WOMAN['Age_group']\n",
    "\n",
    "plt.figure(figsize=(10, 6))\n",
    "plt.bar( df_WOMAN['Age_group'], df_sorted['Total_Income'], color='skyblue')\n",
    "\n",
    "# Add labels and title\n",
    "plt.xlabel('Age_group')\n",
    "plt.ylabel('Total Income')\n",
    "plt.title('Total Income by Age_groups_WOMAN')\n",
    "\n",
    "# Display plot\n",
    "plt.xticks(rotation=0)  # Rotate x-axis labels for better readability\n",
    "plt.grid(axis='y', linestyle='--', alpha=0.7)  # Add grid lines on y-axis\n",
    "plt.tight_layout()\n",
    "plt.show()"
   ]
  }
 ],
 "metadata": {
  "kernelspec": {
   "display_name": "Python 3 (ipykernel)",
   "language": "python",
   "name": "python3"
  },
  "language_info": {
   "codemirror_mode": {
    "name": "ipython",
    "version": 3
   },
   "file_extension": ".py",
   "mimetype": "text/x-python",
   "name": "python",
   "nbconvert_exporter": "python",
   "pygments_lexer": "ipython3",
   "version": "3.11.2"
  }
 },
 "nbformat": 4,
 "nbformat_minor": 5
}
