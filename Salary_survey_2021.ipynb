{
 "cells": [
  {
   "cell_type": "markdown",
   "id": "e5ba3708",
   "metadata": {},
   "source": [
    "df overview,  determine problems and key questions to perform task, rename columns,  dealing with duplicates , missed data , timestamp  and screen record test"
   ]
  },
  {
   "cell_type": "code",
   "execution_count": 1,
   "id": "02dd09ef",
   "metadata": {},
   "outputs": [],
   "source": [
    "import pandas as pd\n",
    "import numpy as np\n",
    "import seaborn as sns #visualisation\n",
    "import matplotlib.pyplot as plt #visualisation\n",
    "%matplotlib inline \n",
    "sns.set(color_codes=True)"
   ]
  },
  {
   "cell_type": "code",
   "execution_count": 2,
   "id": "a7f5f2d3",
   "metadata": {},
   "outputs": [],
   "source": [
    "mvp=[\"n.a.\",\"?\",\"NA\",\"n/a\", \"na\", \"--\"]"
   ]
  },
  {
   "cell_type": "code",
   "execution_count": 3,
   "id": "8a6d5df8",
   "metadata": {},
   "outputs": [],
   "source": [
    "df=pd.read_csv(\"Salary_Survey.csv\", na_values=mvp)"
   ]
  },
  {
   "cell_type": "code",
   "execution_count": 4,
   "id": "de6f5f52",
   "metadata": {},
   "outputs": [
    {
     "data": {
      "text/html": [
       "<div>\n",
       "<style scoped>\n",
       "    .dataframe tbody tr th:only-of-type {\n",
       "        vertical-align: middle;\n",
       "    }\n",
       "\n",
       "    .dataframe tbody tr th {\n",
       "        vertical-align: top;\n",
       "    }\n",
       "\n",
       "    .dataframe thead th {\n",
       "        text-align: right;\n",
       "    }\n",
       "</style>\n",
       "<table border=\"1\" class=\"dataframe\">\n",
       "  <thead>\n",
       "    <tr style=\"text-align: right;\">\n",
       "      <th></th>\n",
       "      <th>Timestamp</th>\n",
       "      <th>How old are you?</th>\n",
       "      <th>What industry do you work in?</th>\n",
       "      <th>Job title</th>\n",
       "      <th>If your job title needs additional context, please clarify here:</th>\n",
       "      <th>What is your annual salary? (You'll indicate the currency in a later question. If you are part-time or hourly, please enter an annualized equivalent -- what you would earn if you worked the job 40 hours a week, 52 weeks a year.)</th>\n",
       "      <th>How much additional monetary compensation do you get, if any (for example, bonuses or overtime in an average year)? Please only include monetary compensation here, not the value of benefits.</th>\n",
       "      <th>Please indicate the currency</th>\n",
       "      <th>If \"Other,\" please indicate the currency here:</th>\n",
       "      <th>If your income needs additional context, please provide it here:</th>\n",
       "      <th>...</th>\n",
       "      <th>How many years of professional work experience do you have overall?</th>\n",
       "      <th>How many years of professional work experience do you have in your field?</th>\n",
       "      <th>What is your highest level of education completed?</th>\n",
       "      <th>What is your gender?</th>\n",
       "      <th>Unnamed: 17</th>\n",
       "      <th>Unnamed: 18</th>\n",
       "      <th>Unnamed: 19</th>\n",
       "      <th>Unnamed: 20</th>\n",
       "      <th>Unnamed: 21</th>\n",
       "      <th>Unnamed: 22</th>\n",
       "    </tr>\n",
       "  </thead>\n",
       "  <tbody>\n",
       "    <tr>\n",
       "      <th>0</th>\n",
       "      <td>4/27/2021 11:02:10</td>\n",
       "      <td>25-34</td>\n",
       "      <td>Education (Higher Education)</td>\n",
       "      <td>Research and Instruction Librarian</td>\n",
       "      <td>NaN</td>\n",
       "      <td>55,000</td>\n",
       "      <td>0.0</td>\n",
       "      <td>USD</td>\n",
       "      <td>NaN</td>\n",
       "      <td>NaN</td>\n",
       "      <td>...</td>\n",
       "      <td>5-7 years</td>\n",
       "      <td>5-7 years</td>\n",
       "      <td>Master's degree</td>\n",
       "      <td>Woman</td>\n",
       "      <td>NaN</td>\n",
       "      <td>NaN</td>\n",
       "      <td>NaN</td>\n",
       "      <td>NaN</td>\n",
       "      <td>NaN</td>\n",
       "      <td>NaN</td>\n",
       "    </tr>\n",
       "    <tr>\n",
       "      <th>1</th>\n",
       "      <td>4/27/2021 11:02:22</td>\n",
       "      <td>25-34</td>\n",
       "      <td>Computing or Tech</td>\n",
       "      <td>Change &amp; Internal Communications Manager</td>\n",
       "      <td>NaN</td>\n",
       "      <td>54,600</td>\n",
       "      <td>4000.0</td>\n",
       "      <td>GBP</td>\n",
       "      <td>NaN</td>\n",
       "      <td>NaN</td>\n",
       "      <td>...</td>\n",
       "      <td>8 - 10 years</td>\n",
       "      <td>5-7 years</td>\n",
       "      <td>College degree</td>\n",
       "      <td>Non-binary</td>\n",
       "      <td>NaN</td>\n",
       "      <td>NaN</td>\n",
       "      <td>NaN</td>\n",
       "      <td>NaN</td>\n",
       "      <td>NaN</td>\n",
       "      <td>NaN</td>\n",
       "    </tr>\n",
       "    <tr>\n",
       "      <th>2</th>\n",
       "      <td>4/27/2021 11:02:38</td>\n",
       "      <td>25-34</td>\n",
       "      <td>Accounting, Banking &amp; Finance</td>\n",
       "      <td>Marketing Specialist</td>\n",
       "      <td>NaN</td>\n",
       "      <td>34,000</td>\n",
       "      <td>NaN</td>\n",
       "      <td>USD</td>\n",
       "      <td>NaN</td>\n",
       "      <td>NaN</td>\n",
       "      <td>...</td>\n",
       "      <td>2 - 4 years</td>\n",
       "      <td>2 - 4 years</td>\n",
       "      <td>College degree</td>\n",
       "      <td>Woman</td>\n",
       "      <td>NaN</td>\n",
       "      <td>NaN</td>\n",
       "      <td>NaN</td>\n",
       "      <td>NaN</td>\n",
       "      <td>NaN</td>\n",
       "      <td>NaN</td>\n",
       "    </tr>\n",
       "    <tr>\n",
       "      <th>3</th>\n",
       "      <td>4/27/2021 11:02:41</td>\n",
       "      <td>25-34</td>\n",
       "      <td>Nonprofits</td>\n",
       "      <td>Program Manager</td>\n",
       "      <td>NaN</td>\n",
       "      <td>62,000</td>\n",
       "      <td>3000.0</td>\n",
       "      <td>USD</td>\n",
       "      <td>NaN</td>\n",
       "      <td>NaN</td>\n",
       "      <td>...</td>\n",
       "      <td>8 - 10 years</td>\n",
       "      <td>5-7 years</td>\n",
       "      <td>College degree</td>\n",
       "      <td>Woman</td>\n",
       "      <td>NaN</td>\n",
       "      <td>NaN</td>\n",
       "      <td>NaN</td>\n",
       "      <td>NaN</td>\n",
       "      <td>NaN</td>\n",
       "      <td>NaN</td>\n",
       "    </tr>\n",
       "    <tr>\n",
       "      <th>4</th>\n",
       "      <td>4/27/2021 11:02:42</td>\n",
       "      <td>25-34</td>\n",
       "      <td>Accounting, Banking &amp; Finance</td>\n",
       "      <td>Accounting Manager</td>\n",
       "      <td>NaN</td>\n",
       "      <td>60,000</td>\n",
       "      <td>7000.0</td>\n",
       "      <td>USD</td>\n",
       "      <td>NaN</td>\n",
       "      <td>NaN</td>\n",
       "      <td>...</td>\n",
       "      <td>8 - 10 years</td>\n",
       "      <td>5-7 years</td>\n",
       "      <td>College degree</td>\n",
       "      <td>Woman</td>\n",
       "      <td>NaN</td>\n",
       "      <td>NaN</td>\n",
       "      <td>NaN</td>\n",
       "      <td>NaN</td>\n",
       "      <td>NaN</td>\n",
       "      <td>NaN</td>\n",
       "    </tr>\n",
       "  </tbody>\n",
       "</table>\n",
       "<p>5 rows × 23 columns</p>\n",
       "</div>"
      ],
      "text/plain": [
       "            Timestamp How old are you?  What industry do you work in?  \\\n",
       "0  4/27/2021 11:02:10            25-34   Education (Higher Education)   \n",
       "1  4/27/2021 11:02:22            25-34              Computing or Tech   \n",
       "2  4/27/2021 11:02:38            25-34  Accounting, Banking & Finance   \n",
       "3  4/27/2021 11:02:41            25-34                     Nonprofits   \n",
       "4  4/27/2021 11:02:42            25-34  Accounting, Banking & Finance   \n",
       "\n",
       "                                  Job title  \\\n",
       "0        Research and Instruction Librarian   \n",
       "1  Change & Internal Communications Manager   \n",
       "2                      Marketing Specialist   \n",
       "3                           Program Manager   \n",
       "4                        Accounting Manager   \n",
       "\n",
       "  If your job title needs additional context, please clarify here:  \\\n",
       "0                                                NaN                 \n",
       "1                                                NaN                 \n",
       "2                                                NaN                 \n",
       "3                                                NaN                 \n",
       "4                                                NaN                 \n",
       "\n",
       "  What is your annual salary? (You'll indicate the currency in a later question. If you are part-time or hourly, please enter an annualized equivalent -- what you would earn if you worked the job 40 hours a week, 52 weeks a year.)  \\\n",
       "0                                             55,000                                                                                                                                                                                     \n",
       "1                                             54,600                                                                                                                                                                                     \n",
       "2                                             34,000                                                                                                                                                                                     \n",
       "3                                             62,000                                                                                                                                                                                     \n",
       "4                                             60,000                                                                                                                                                                                     \n",
       "\n",
       "   How much additional monetary compensation do you get, if any (for example, bonuses or overtime in an average year)? Please only include monetary compensation here, not the value of benefits.  \\\n",
       "0                                                0.0                                                                                                                                                \n",
       "1                                             4000.0                                                                                                                                                \n",
       "2                                                NaN                                                                                                                                                \n",
       "3                                             3000.0                                                                                                                                                \n",
       "4                                             7000.0                                                                                                                                                \n",
       "\n",
       "  Please indicate the currency  \\\n",
       "0                          USD   \n",
       "1                          GBP   \n",
       "2                          USD   \n",
       "3                          USD   \n",
       "4                          USD   \n",
       "\n",
       "  If \"Other,\" please indicate the currency here:   \\\n",
       "0                                             NaN   \n",
       "1                                             NaN   \n",
       "2                                             NaN   \n",
       "3                                             NaN   \n",
       "4                                             NaN   \n",
       "\n",
       "  If your income needs additional context, please provide it here:  ...  \\\n",
       "0                                                NaN                ...   \n",
       "1                                                NaN                ...   \n",
       "2                                                NaN                ...   \n",
       "3                                                NaN                ...   \n",
       "4                                                NaN                ...   \n",
       "\n",
       "  How many years of professional work experience do you have overall?  \\\n",
       "0                                          5-7 years                    \n",
       "1                                       8 - 10 years                    \n",
       "2                                        2 - 4 years                    \n",
       "3                                       8 - 10 years                    \n",
       "4                                       8 - 10 years                    \n",
       "\n",
       "  How many years of professional work experience do you have in your field?  \\\n",
       "0                                          5-7 years                          \n",
       "1                                          5-7 years                          \n",
       "2                                        2 - 4 years                          \n",
       "3                                          5-7 years                          \n",
       "4                                          5-7 years                          \n",
       "\n",
       "  What is your highest level of education completed? What is your gender?  \\\n",
       "0                                    Master's degree                Woman   \n",
       "1                                     College degree           Non-binary   \n",
       "2                                     College degree                Woman   \n",
       "3                                     College degree                Woman   \n",
       "4                                     College degree                Woman   \n",
       "\n",
       "  Unnamed: 17 Unnamed: 18 Unnamed: 19  Unnamed: 20  Unnamed: 21  Unnamed: 22  \n",
       "0         NaN         NaN         NaN          NaN          NaN          NaN  \n",
       "1         NaN         NaN         NaN          NaN          NaN          NaN  \n",
       "2         NaN         NaN         NaN          NaN          NaN          NaN  \n",
       "3         NaN         NaN         NaN          NaN          NaN          NaN  \n",
       "4         NaN         NaN         NaN          NaN          NaN          NaN  \n",
       "\n",
       "[5 rows x 23 columns]"
      ]
     },
     "execution_count": 4,
     "metadata": {},
     "output_type": "execute_result"
    }
   ],
   "source": [
    "df.head()"
   ]
  },
  {
   "cell_type": "code",
   "execution_count": 5,
   "id": "cb005cb7",
   "metadata": {},
   "outputs": [
    {
     "data": {
      "text/plain": [
       "(28178, 23)"
      ]
     },
     "execution_count": 5,
     "metadata": {},
     "output_type": "execute_result"
    }
   ],
   "source": [
    "df.shape"
   ]
  },
  {
   "cell_type": "code",
   "execution_count": 6,
   "id": "1cf4fbe3",
   "metadata": {
    "scrolled": false
   },
   "outputs": [
    {
     "name": "stdout",
     "output_type": "stream",
     "text": [
      "<class 'pandas.core.frame.DataFrame'>\n",
      "RangeIndex: 28178 entries, 0 to 28177\n",
      "Data columns (total 23 columns):\n",
      " #   Column                                                                                                                                                                                                                                Non-Null Count  Dtype  \n",
      "---  ------                                                                                                                                                                                                                                --------------  -----  \n",
      " 0   Timestamp                                                                                                                                                                                                                             28085 non-null  object \n",
      " 1   How old are you?                                                                                                                                                                                                                      28085 non-null  object \n",
      " 2   What industry do you work in?                                                                                                                                                                                                         28011 non-null  object \n",
      " 3   Job title                                                                                                                                                                                                                             28083 non-null  object \n",
      " 4   If your job title needs additional context, please clarify here:                                                                                                                                                                      7266 non-null   object \n",
      " 5   What is your annual salary? (You'll indicate the currency in a later question. If you are part-time or hourly, please enter an annualized equivalent -- what you would earn if you worked the job 40 hours a week, 52 weeks a year.)  28085 non-null  object \n",
      " 6   How much additional monetary compensation do you get, if any (for example, bonuses or overtime in an average year)? Please only include monetary compensation here, not the value of benefits.                                        20780 non-null  float64\n",
      " 7   Please indicate the currency                                                                                                                                                                                                          28085 non-null  object \n",
      " 8   If \"Other,\" please indicate the currency here:                                                                                                                                                                                        208 non-null    object \n",
      " 9   If your income needs additional context, please provide it here:                                                                                                                                                                      3044 non-null   object \n",
      " 10  What country do you work in?                                                                                                                                                                                                          28084 non-null  object \n",
      " 11  If you're in the U.S., what state do you work in?                                                                                                                                                                                     23059 non-null  object \n",
      " 12  What city do you work in?                                                                                                                                                                                                             27998 non-null  object \n",
      " 13  How many years of professional work experience do you have overall?                                                                                                                                                                   28085 non-null  object \n",
      " 14  How many years of professional work experience do you have in your field?                                                                                                                                                             28085 non-null  object \n",
      " 15  What is your highest level of education completed?                                                                                                                                                                                    27863 non-null  object \n",
      " 16  What is your gender?                                                                                                                                                                                                                  27914 non-null  object \n",
      " 17  Unnamed: 17                                                                                                                                                                                                                           0 non-null      float64\n",
      " 18  Unnamed: 18                                                                                                                                                                                                                           0 non-null      float64\n",
      " 19  Unnamed: 19                                                                                                                                                                                                                           0 non-null      float64\n",
      " 20  Unnamed: 20                                                                                                                                                                                                                           0 non-null      float64\n",
      " 21  Unnamed: 21                                                                                                                                                                                                                           0 non-null      float64\n",
      " 22  Unnamed: 22                                                                                                                                                                                                                           0 non-null      float64\n",
      "dtypes: float64(7), object(16)\n",
      "memory usage: 4.9+ MB\n"
     ]
    }
   ],
   "source": [
    "df.info()"
   ]
  },
  {
   "cell_type": "code",
   "execution_count": 7,
   "id": "80e9d22a",
   "metadata": {},
   "outputs": [
    {
     "name": "stdout",
     "output_type": "stream",
     "text": [
      "Timestamp                                                                                                                                                                                                                               28085\n",
      "How old are you?                                                                                                                                                                                                                        28085\n",
      "What industry do you work in?                                                                                                                                                                                                           28011\n",
      "Job title                                                                                                                                                                                                                               28083\n",
      "If your job title needs additional context, please clarify here:                                                                                                                                                                         7266\n",
      "What is your annual salary? (You'll indicate the currency in a later question. If you are part-time or hourly, please enter an annualized equivalent -- what you would earn if you worked the job 40 hours a week, 52 weeks a year.)    28085\n",
      "How much additional monetary compensation do you get, if any (for example, bonuses or overtime in an average year)? Please only include monetary compensation here, not the value of benefits.                                          20780\n",
      "Please indicate the currency                                                                                                                                                                                                            28085\n",
      "If \"Other,\" please indicate the currency here:                                                                                                                                                                                            208\n",
      "If your income needs additional context, please provide it here:                                                                                                                                                                         3044\n",
      "What country do you work in?                                                                                                                                                                                                            28084\n",
      "If you're in the U.S., what state do you work in?                                                                                                                                                                                       23059\n",
      "What city do you work in?                                                                                                                                                                                                               27998\n",
      "How many years of professional work experience do you have overall?                                                                                                                                                                     28085\n",
      "How many years of professional work experience do you have in your field?                                                                                                                                                               28085\n",
      "What is your highest level of education completed?                                                                                                                                                                                      27863\n",
      "What is your gender?                                                                                                                                                                                                                    27914\n",
      "Unnamed: 17                                                                                                                                                                                                                                 0\n",
      "Unnamed: 18                                                                                                                                                                                                                                 0\n",
      "Unnamed: 19                                                                                                                                                                                                                                 0\n",
      "Unnamed: 20                                                                                                                                                                                                                                 0\n",
      "Unnamed: 21                                                                                                                                                                                                                                 0\n",
      "Unnamed: 22                                                                                                                                                                                                                                 0\n",
      "dtype: int64\n"
     ]
    }
   ],
   "source": [
    "non_null_counts = df.count()\n",
    "print(non_null_counts)"
   ]
  },
  {
   "cell_type": "code",
   "execution_count": 8,
   "id": "24cc57b7",
   "metadata": {},
   "outputs": [],
   "source": [
    "#no non-null values -all values in the columns 17-22 are missing or null,we can delete them\n",
    "# rename titles for columns change text to number, number to relevant title\n",
    "df.columns = range(len(df.columns))"
   ]
  },
  {
   "cell_type": "code",
   "execution_count": 9,
   "id": "a9609b61",
   "metadata": {},
   "outputs": [],
   "source": [
    "#lets replase numbers for text format to rename columns \n",
    "new_column_names = [\"column_\" + str(i) for i in range(len(df.columns))]\n",
    "df.columns = new_column_names"
   ]
  },
  {
   "cell_type": "code",
   "execution_count": 10,
   "id": "cd2dac0f",
   "metadata": {
    "scrolled": true
   },
   "outputs": [
    {
     "data": {
      "text/html": [
       "<div>\n",
       "<style scoped>\n",
       "    .dataframe tbody tr th:only-of-type {\n",
       "        vertical-align: middle;\n",
       "    }\n",
       "\n",
       "    .dataframe tbody tr th {\n",
       "        vertical-align: top;\n",
       "    }\n",
       "\n",
       "    .dataframe thead th {\n",
       "        text-align: right;\n",
       "    }\n",
       "</style>\n",
       "<table border=\"1\" class=\"dataframe\">\n",
       "  <thead>\n",
       "    <tr style=\"text-align: right;\">\n",
       "      <th></th>\n",
       "      <th>column_0</th>\n",
       "      <th>column_1</th>\n",
       "      <th>column_2</th>\n",
       "      <th>column_3</th>\n",
       "      <th>column_4</th>\n",
       "      <th>column_5</th>\n",
       "      <th>column_6</th>\n",
       "      <th>column_7</th>\n",
       "      <th>column_8</th>\n",
       "      <th>column_9</th>\n",
       "      <th>...</th>\n",
       "      <th>column_13</th>\n",
       "      <th>column_14</th>\n",
       "      <th>column_15</th>\n",
       "      <th>column_16</th>\n",
       "      <th>column_17</th>\n",
       "      <th>column_18</th>\n",
       "      <th>column_19</th>\n",
       "      <th>column_20</th>\n",
       "      <th>column_21</th>\n",
       "      <th>column_22</th>\n",
       "    </tr>\n",
       "  </thead>\n",
       "  <tbody>\n",
       "    <tr>\n",
       "      <th>0</th>\n",
       "      <td>4/27/2021 11:02:10</td>\n",
       "      <td>25-34</td>\n",
       "      <td>Education (Higher Education)</td>\n",
       "      <td>Research and Instruction Librarian</td>\n",
       "      <td>NaN</td>\n",
       "      <td>55,000</td>\n",
       "      <td>0.0</td>\n",
       "      <td>USD</td>\n",
       "      <td>NaN</td>\n",
       "      <td>NaN</td>\n",
       "      <td>...</td>\n",
       "      <td>5-7 years</td>\n",
       "      <td>5-7 years</td>\n",
       "      <td>Master's degree</td>\n",
       "      <td>Woman</td>\n",
       "      <td>NaN</td>\n",
       "      <td>NaN</td>\n",
       "      <td>NaN</td>\n",
       "      <td>NaN</td>\n",
       "      <td>NaN</td>\n",
       "      <td>NaN</td>\n",
       "    </tr>\n",
       "    <tr>\n",
       "      <th>1</th>\n",
       "      <td>4/27/2021 11:02:22</td>\n",
       "      <td>25-34</td>\n",
       "      <td>Computing or Tech</td>\n",
       "      <td>Change &amp; Internal Communications Manager</td>\n",
       "      <td>NaN</td>\n",
       "      <td>54,600</td>\n",
       "      <td>4000.0</td>\n",
       "      <td>GBP</td>\n",
       "      <td>NaN</td>\n",
       "      <td>NaN</td>\n",
       "      <td>...</td>\n",
       "      <td>8 - 10 years</td>\n",
       "      <td>5-7 years</td>\n",
       "      <td>College degree</td>\n",
       "      <td>Non-binary</td>\n",
       "      <td>NaN</td>\n",
       "      <td>NaN</td>\n",
       "      <td>NaN</td>\n",
       "      <td>NaN</td>\n",
       "      <td>NaN</td>\n",
       "      <td>NaN</td>\n",
       "    </tr>\n",
       "    <tr>\n",
       "      <th>2</th>\n",
       "      <td>4/27/2021 11:02:38</td>\n",
       "      <td>25-34</td>\n",
       "      <td>Accounting, Banking &amp; Finance</td>\n",
       "      <td>Marketing Specialist</td>\n",
       "      <td>NaN</td>\n",
       "      <td>34,000</td>\n",
       "      <td>NaN</td>\n",
       "      <td>USD</td>\n",
       "      <td>NaN</td>\n",
       "      <td>NaN</td>\n",
       "      <td>...</td>\n",
       "      <td>2 - 4 years</td>\n",
       "      <td>2 - 4 years</td>\n",
       "      <td>College degree</td>\n",
       "      <td>Woman</td>\n",
       "      <td>NaN</td>\n",
       "      <td>NaN</td>\n",
       "      <td>NaN</td>\n",
       "      <td>NaN</td>\n",
       "      <td>NaN</td>\n",
       "      <td>NaN</td>\n",
       "    </tr>\n",
       "    <tr>\n",
       "      <th>3</th>\n",
       "      <td>4/27/2021 11:02:41</td>\n",
       "      <td>25-34</td>\n",
       "      <td>Nonprofits</td>\n",
       "      <td>Program Manager</td>\n",
       "      <td>NaN</td>\n",
       "      <td>62,000</td>\n",
       "      <td>3000.0</td>\n",
       "      <td>USD</td>\n",
       "      <td>NaN</td>\n",
       "      <td>NaN</td>\n",
       "      <td>...</td>\n",
       "      <td>8 - 10 years</td>\n",
       "      <td>5-7 years</td>\n",
       "      <td>College degree</td>\n",
       "      <td>Woman</td>\n",
       "      <td>NaN</td>\n",
       "      <td>NaN</td>\n",
       "      <td>NaN</td>\n",
       "      <td>NaN</td>\n",
       "      <td>NaN</td>\n",
       "      <td>NaN</td>\n",
       "    </tr>\n",
       "    <tr>\n",
       "      <th>4</th>\n",
       "      <td>4/27/2021 11:02:42</td>\n",
       "      <td>25-34</td>\n",
       "      <td>Accounting, Banking &amp; Finance</td>\n",
       "      <td>Accounting Manager</td>\n",
       "      <td>NaN</td>\n",
       "      <td>60,000</td>\n",
       "      <td>7000.0</td>\n",
       "      <td>USD</td>\n",
       "      <td>NaN</td>\n",
       "      <td>NaN</td>\n",
       "      <td>...</td>\n",
       "      <td>8 - 10 years</td>\n",
       "      <td>5-7 years</td>\n",
       "      <td>College degree</td>\n",
       "      <td>Woman</td>\n",
       "      <td>NaN</td>\n",
       "      <td>NaN</td>\n",
       "      <td>NaN</td>\n",
       "      <td>NaN</td>\n",
       "      <td>NaN</td>\n",
       "      <td>NaN</td>\n",
       "    </tr>\n",
       "  </tbody>\n",
       "</table>\n",
       "<p>5 rows × 23 columns</p>\n",
       "</div>"
      ],
      "text/plain": [
       "             column_0 column_1                       column_2  \\\n",
       "0  4/27/2021 11:02:10    25-34   Education (Higher Education)   \n",
       "1  4/27/2021 11:02:22    25-34              Computing or Tech   \n",
       "2  4/27/2021 11:02:38    25-34  Accounting, Banking & Finance   \n",
       "3  4/27/2021 11:02:41    25-34                     Nonprofits   \n",
       "4  4/27/2021 11:02:42    25-34  Accounting, Banking & Finance   \n",
       "\n",
       "                                   column_3 column_4 column_5  column_6  \\\n",
       "0        Research and Instruction Librarian      NaN   55,000       0.0   \n",
       "1  Change & Internal Communications Manager      NaN   54,600    4000.0   \n",
       "2                      Marketing Specialist      NaN   34,000       NaN   \n",
       "3                           Program Manager      NaN   62,000    3000.0   \n",
       "4                        Accounting Manager      NaN   60,000    7000.0   \n",
       "\n",
       "  column_7 column_8 column_9  ...     column_13    column_14        column_15  \\\n",
       "0      USD      NaN      NaN  ...     5-7 years    5-7 years  Master's degree   \n",
       "1      GBP      NaN      NaN  ...  8 - 10 years    5-7 years   College degree   \n",
       "2      USD      NaN      NaN  ...   2 - 4 years  2 - 4 years   College degree   \n",
       "3      USD      NaN      NaN  ...  8 - 10 years    5-7 years   College degree   \n",
       "4      USD      NaN      NaN  ...  8 - 10 years    5-7 years   College degree   \n",
       "\n",
       "    column_16 column_17 column_18 column_19  column_20  column_21  column_22  \n",
       "0       Woman       NaN       NaN       NaN        NaN        NaN        NaN  \n",
       "1  Non-binary       NaN       NaN       NaN        NaN        NaN        NaN  \n",
       "2       Woman       NaN       NaN       NaN        NaN        NaN        NaN  \n",
       "3       Woman       NaN       NaN       NaN        NaN        NaN        NaN  \n",
       "4       Woman       NaN       NaN       NaN        NaN        NaN        NaN  \n",
       "\n",
       "[5 rows x 23 columns]"
      ]
     },
     "execution_count": 10,
     "metadata": {},
     "output_type": "execute_result"
    }
   ],
   "source": [
    "df.head()"
   ]
  },
  {
   "cell_type": "code",
   "execution_count": 11,
   "id": "9951f47c",
   "metadata": {},
   "outputs": [],
   "source": [
    "#take down colimns without values\n",
    "df.drop(columns=['column_17','column_18','column_19','column_20','column_21','column_22'], inplace=True)"
   ]
  },
  {
   "cell_type": "code",
   "execution_count": 12,
   "id": "fb9b7040",
   "metadata": {},
   "outputs": [],
   "source": [
    "#rename columns \n",
    "df = df.rename(columns={\"column_0\":\"Timestump\",\"column_1\": \"Age\",\"column_16\":\"Gender\",\"column_15\": \"highest education level\"})"
   ]
  },
  {
   "cell_type": "code",
   "execution_count": 13,
   "id": "e5dcf263",
   "metadata": {},
   "outputs": [],
   "source": [
    "df = df.rename(columns={\"column_2\":\"Industry\",\"column_3\": \"Job title\",\"column_4\":\"Job context\",\"column_5\":\"Annual Salary\",\"column_6\":\"Bonus\",\"column_7\":\"Currency\",\"column_8\":\"Currency other\",\"column_9\":\"Income context\"})"
   ]
  },
  {
   "cell_type": "code",
   "execution_count": 14,
   "id": "eea18687",
   "metadata": {},
   "outputs": [],
   "source": [
    "df = df.rename(columns={\"column_10\":\"Country\",\"column_11\": \"State\",\"column_12\":\"City\",\"column_13\": \"Work_Exp\",\"column_14\": \"Rel_Exp\"})"
   ]
  },
  {
   "cell_type": "code",
   "execution_count": 15,
   "id": "b2c29838",
   "metadata": {},
   "outputs": [
    {
     "name": "stdout",
     "output_type": "stream",
     "text": [
      "number of duplicate rows:  (92, 17)\n"
     ]
    }
   ],
   "source": [
    "#detecting duplicate rows\n",
    "duplicate_rows_df = df[df.duplicated()]\n",
    "print(\"number of duplicate rows: \", duplicate_rows_df.shape)"
   ]
  },
  {
   "cell_type": "code",
   "execution_count": 16,
   "id": "332a51f5",
   "metadata": {},
   "outputs": [
    {
     "name": "stdout",
     "output_type": "stream",
     "text": [
      "      Timestump  Age Industry Job title Job context Annual Salary  Bonus  \\\n",
      "28086       NaN  NaN      NaN       NaN         NaN           NaN    NaN   \n",
      "28087       NaN  NaN      NaN       NaN         NaN           NaN    NaN   \n",
      "28088       NaN  NaN      NaN       NaN         NaN           NaN    NaN   \n",
      "28089       NaN  NaN      NaN       NaN         NaN           NaN    NaN   \n",
      "28090       NaN  NaN      NaN       NaN         NaN           NaN    NaN   \n",
      "...         ...  ...      ...       ...         ...           ...    ...   \n",
      "28173       NaN  NaN      NaN       NaN         NaN           NaN    NaN   \n",
      "28174       NaN  NaN      NaN       NaN         NaN           NaN    NaN   \n",
      "28175       NaN  NaN      NaN       NaN         NaN           NaN    NaN   \n",
      "28176       NaN  NaN      NaN       NaN         NaN           NaN    NaN   \n",
      "28177       NaN  NaN      NaN       NaN         NaN           NaN    NaN   \n",
      "\n",
      "      Currency Currency other Income context Country State City Work_Exp  \\\n",
      "28086      NaN            NaN            NaN     NaN   NaN  NaN      NaN   \n",
      "28087      NaN            NaN            NaN     NaN   NaN  NaN      NaN   \n",
      "28088      NaN            NaN            NaN     NaN   NaN  NaN      NaN   \n",
      "28089      NaN            NaN            NaN     NaN   NaN  NaN      NaN   \n",
      "28090      NaN            NaN            NaN     NaN   NaN  NaN      NaN   \n",
      "...        ...            ...            ...     ...   ...  ...      ...   \n",
      "28173      NaN            NaN            NaN     NaN   NaN  NaN      NaN   \n",
      "28174      NaN            NaN            NaN     NaN   NaN  NaN      NaN   \n",
      "28175      NaN            NaN            NaN     NaN   NaN  NaN      NaN   \n",
      "28176      NaN            NaN            NaN     NaN   NaN  NaN      NaN   \n",
      "28177      NaN            NaN            NaN     NaN   NaN  NaN      NaN   \n",
      "\n",
      "      Rel_Exp highest education level Gender  \n",
      "28086     NaN                     NaN    NaN  \n",
      "28087     NaN                     NaN    NaN  \n",
      "28088     NaN                     NaN    NaN  \n",
      "28089     NaN                     NaN    NaN  \n",
      "28090     NaN                     NaN    NaN  \n",
      "...       ...                     ...    ...  \n",
      "28173     NaN                     NaN    NaN  \n",
      "28174     NaN                     NaN    NaN  \n",
      "28175     NaN                     NaN    NaN  \n",
      "28176     NaN                     NaN    NaN  \n",
      "28177     NaN                     NaN    NaN  \n",
      "\n",
      "[92 rows x 17 columns]\n"
     ]
    }
   ],
   "source": [
    "# Print duplicate rows with null values\n",
    "print(duplicate_rows_df[duplicate_rows_df.isnull().any(axis=1)])"
   ]
  },
  {
   "cell_type": "code",
   "execution_count": 17,
   "id": "66f045f7",
   "metadata": {},
   "outputs": [],
   "source": [
    "#we can exclude now  93 duplicates rows ,as we did for columns before\n",
    "# drop all rows with NaN values - we can lost almost all data ,\n",
    "df = df.iloc[:-93]\n",
    "\n"
   ]
  },
  {
   "cell_type": "code",
   "execution_count": 18,
   "id": "5b11dd63",
   "metadata": {},
   "outputs": [
    {
     "data": {
      "text/html": [
       "<div>\n",
       "<style scoped>\n",
       "    .dataframe tbody tr th:only-of-type {\n",
       "        vertical-align: middle;\n",
       "    }\n",
       "\n",
       "    .dataframe tbody tr th {\n",
       "        vertical-align: top;\n",
       "    }\n",
       "\n",
       "    .dataframe thead th {\n",
       "        text-align: right;\n",
       "    }\n",
       "</style>\n",
       "<table border=\"1\" class=\"dataframe\">\n",
       "  <thead>\n",
       "    <tr style=\"text-align: right;\">\n",
       "      <th></th>\n",
       "      <th>Timestump</th>\n",
       "      <th>Age</th>\n",
       "      <th>Industry</th>\n",
       "      <th>Job title</th>\n",
       "      <th>Job context</th>\n",
       "      <th>Annual Salary</th>\n",
       "      <th>Bonus</th>\n",
       "      <th>Currency</th>\n",
       "      <th>Currency other</th>\n",
       "      <th>Income context</th>\n",
       "      <th>Country</th>\n",
       "      <th>State</th>\n",
       "      <th>City</th>\n",
       "      <th>Work_Exp</th>\n",
       "      <th>Rel_Exp</th>\n",
       "      <th>highest education level</th>\n",
       "      <th>Gender</th>\n",
       "    </tr>\n",
       "  </thead>\n",
       "  <tbody>\n",
       "    <tr>\n",
       "      <th>28081</th>\n",
       "      <td>9/25/2024 21:34:43</td>\n",
       "      <td>45-54</td>\n",
       "      <td>Education (Primary/Secondary)</td>\n",
       "      <td>Curriculum Writer</td>\n",
       "      <td>I am a freelance contract curriculum writer fo...</td>\n",
       "      <td>70000</td>\n",
       "      <td>0.0</td>\n",
       "      <td>USD</td>\n",
       "      <td>NaN</td>\n",
       "      <td>NaN</td>\n",
       "      <td>United States</td>\n",
       "      <td>South Carolina</td>\n",
       "      <td>Bennettsville</td>\n",
       "      <td>21 - 30 years</td>\n",
       "      <td>21 - 30 years</td>\n",
       "      <td>Master's degree</td>\n",
       "      <td>Woman</td>\n",
       "    </tr>\n",
       "    <tr>\n",
       "      <th>28082</th>\n",
       "      <td>9/30/2024 10:52:30</td>\n",
       "      <td>55-64</td>\n",
       "      <td>Government and Public Administration</td>\n",
       "      <td>Clerical Officer</td>\n",
       "      <td>NaN</td>\n",
       "      <td>28600</td>\n",
       "      <td>NaN</td>\n",
       "      <td>EUR</td>\n",
       "      <td>NaN</td>\n",
       "      <td>NaN</td>\n",
       "      <td>Ireland</td>\n",
       "      <td>NaN</td>\n",
       "      <td>Dublin</td>\n",
       "      <td>21 - 30 years</td>\n",
       "      <td>1 year or less</td>\n",
       "      <td>Professional degree (MD, JD, etc.)</td>\n",
       "      <td>Man</td>\n",
       "    </tr>\n",
       "    <tr>\n",
       "      <th>28083</th>\n",
       "      <td>10/4/2024 13:05:24</td>\n",
       "      <td>18-24</td>\n",
       "      <td>Computing or Tech</td>\n",
       "      <td>Software Engineering Co-Op</td>\n",
       "      <td>I was an Intern</td>\n",
       "      <td>56160</td>\n",
       "      <td>0.0</td>\n",
       "      <td>USD</td>\n",
       "      <td>NaN</td>\n",
       "      <td>NaN</td>\n",
       "      <td>United States</td>\n",
       "      <td>Rhode Island</td>\n",
       "      <td>Jhonston</td>\n",
       "      <td>1 year or less</td>\n",
       "      <td>1 year or less</td>\n",
       "      <td>College degree</td>\n",
       "      <td>Man</td>\n",
       "    </tr>\n",
       "    <tr>\n",
       "      <th>28084</th>\n",
       "      <td>10/7/2024 5:17:56</td>\n",
       "      <td>65 or over</td>\n",
       "      <td>Social networks</td>\n",
       "      <td>Content creator</td>\n",
       "      <td>NaN</td>\n",
       "      <td>2000000</td>\n",
       "      <td>NaN</td>\n",
       "      <td>USD</td>\n",
       "      <td>NaN</td>\n",
       "      <td>NaN</td>\n",
       "      <td>Taiwan</td>\n",
       "      <td>Utah, Wisconsin</td>\n",
       "      <td>Milwaukee</td>\n",
       "      <td>41 years or more</td>\n",
       "      <td>2 - 4 years</td>\n",
       "      <td>PhD</td>\n",
       "      <td>Non-binary</td>\n",
       "    </tr>\n",
       "  </tbody>\n",
       "</table>\n",
       "</div>"
      ],
      "text/plain": [
       "                Timestump         Age                              Industry  \\\n",
       "28081  9/25/2024 21:34:43       45-54         Education (Primary/Secondary)   \n",
       "28082  9/30/2024 10:52:30       55-64  Government and Public Administration   \n",
       "28083  10/4/2024 13:05:24       18-24                     Computing or Tech   \n",
       "28084   10/7/2024 5:17:56  65 or over                       Social networks   \n",
       "\n",
       "                        Job title  \\\n",
       "28081           Curriculum Writer   \n",
       "28082            Clerical Officer   \n",
       "28083  Software Engineering Co-Op   \n",
       "28084             Content creator   \n",
       "\n",
       "                                             Job context Annual Salary  Bonus  \\\n",
       "28081  I am a freelance contract curriculum writer fo...         70000    0.0   \n",
       "28082                                                NaN         28600    NaN   \n",
       "28083                                    I was an Intern         56160    0.0   \n",
       "28084                                                NaN       2000000    NaN   \n",
       "\n",
       "      Currency Currency other Income context        Country            State  \\\n",
       "28081      USD            NaN            NaN  United States   South Carolina   \n",
       "28082      EUR            NaN            NaN        Ireland              NaN   \n",
       "28083      USD            NaN            NaN  United States     Rhode Island   \n",
       "28084      USD            NaN            NaN         Taiwan  Utah, Wisconsin   \n",
       "\n",
       "                City          Work_Exp         Rel_Exp  \\\n",
       "28081  Bennettsville     21 - 30 years   21 - 30 years   \n",
       "28082         Dublin     21 - 30 years  1 year or less   \n",
       "28083       Jhonston    1 year or less  1 year or less   \n",
       "28084      Milwaukee  41 years or more     2 - 4 years   \n",
       "\n",
       "                  highest education level      Gender  \n",
       "28081                     Master's degree       Woman  \n",
       "28082  Professional degree (MD, JD, etc.)         Man  \n",
       "28083                      College degree         Man  \n",
       "28084                                 PhD  Non-binary  "
      ]
     },
     "execution_count": 18,
     "metadata": {},
     "output_type": "execute_result"
    }
   ],
   "source": [
    "#review \n",
    "df.tail(4)"
   ]
  },
  {
   "cell_type": "code",
   "execution_count": 19,
   "id": "f8d4a7b7",
   "metadata": {
    "scrolled": true
   },
   "outputs": [
    {
     "name": "stdout",
     "output_type": "stream",
     "text": [
      "Timestump                      0\n",
      "Age                            0\n",
      "Industry                      74\n",
      "Job title                      2\n",
      "Job context                20819\n",
      "Annual Salary                  0\n",
      "Bonus                       7305\n",
      "Currency                       0\n",
      "Currency other             27877\n",
      "Income context             25041\n",
      "Country                        1\n",
      "State                       5026\n",
      "City                          87\n",
      "Work_Exp                       0\n",
      "Rel_Exp                        0\n",
      "highest education level      222\n",
      "Gender                       171\n",
      "dtype: int64\n"
     ]
    }
   ],
   "source": [
    "# identifying columns with missing data and deciding how to handle  missing values\n",
    "print(df.isnull().sum())\n"
   ]
  },
  {
   "cell_type": "markdown",
   "id": "6246f3db",
   "metadata": {},
   "source": [
    "# determine  target variable(“Annual salary” ), dropping irrelevant columns,  # Main target - annual salary, year mention in a title ,values in a Timestump nonsuffisient impact , 'Job context'- most of the data missed  and   similar for  \"indastry  and Job title, categotical variable ' Income context' do not impact  numerical data in Target variable \n"
   ]
  },
  {
   "cell_type": "markdown",
   "id": "cc84de66",
   "metadata": {},
   "source": [
    "#"
   ]
  },
  {
   "cell_type": "code",
   "execution_count": 20,
   "id": "2c1e33ec",
   "metadata": {},
   "outputs": [],
   "source": [
    "#take down non relevant to the target variable columns Timestamp ,'Job context','Income context'\n",
    "# Main target - annual salary, year mention in a title , \n",
    "df.drop(columns=['Timestump','Job context','Income context','Currency other'], inplace=True)"
   ]
  },
  {
   "cell_type": "code",
   "execution_count": 21,
   "id": "1aa0091a",
   "metadata": {},
   "outputs": [],
   "source": [
    "#assuming 171 missed values in a column \"Gender\",replase them with 'No Gender ' \n",
    "\n",
    "df['Gender'] = df['Gender'].fillna('No Gender ')"
   ]
  },
  {
   "cell_type": "code",
   "execution_count": 22,
   "id": "0053e5f4",
   "metadata": {},
   "outputs": [
    {
     "data": {
      "text/plain": [
       "array(['Woman', 'Non-binary', 'Man', 'No Gender ',\n",
       "       'Other or prefer not to answer', 'Prefer not to answer'],\n",
       "      dtype=object)"
      ]
     },
     "execution_count": 22,
     "metadata": {},
     "output_type": "execute_result"
    }
   ],
   "source": [
    "# identifying  unique values in a  column\n",
    "df['Gender'].unique()\n"
   ]
  },
  {
   "cell_type": "code",
   "execution_count": 23,
   "id": "ed0e30af",
   "metadata": {},
   "outputs": [],
   "source": [
    "#Replace with \"NA\" (No answer) non gender related  categories (missing values)  using the replace() method:\n",
    "df['Gender'] = df['Gender'].replace(['Prefer not to answer', 'Other or prefer not to answer'], 'Other')"
   ]
  },
  {
   "cell_type": "code",
   "execution_count": 24,
   "id": "d3e50920",
   "metadata": {
    "scrolled": true
   },
   "outputs": [
    {
     "data": {
      "text/html": [
       "<div>\n",
       "<style scoped>\n",
       "    .dataframe tbody tr th:only-of-type {\n",
       "        vertical-align: middle;\n",
       "    }\n",
       "\n",
       "    .dataframe tbody tr th {\n",
       "        vertical-align: top;\n",
       "    }\n",
       "\n",
       "    .dataframe thead th {\n",
       "        text-align: right;\n",
       "    }\n",
       "</style>\n",
       "<table border=\"1\" class=\"dataframe\">\n",
       "  <thead>\n",
       "    <tr style=\"text-align: right;\">\n",
       "      <th></th>\n",
       "      <th>Age</th>\n",
       "      <th>Industry</th>\n",
       "      <th>Job title</th>\n",
       "      <th>Annual Salary</th>\n",
       "      <th>Bonus</th>\n",
       "      <th>Currency</th>\n",
       "      <th>Country</th>\n",
       "      <th>State</th>\n",
       "      <th>City</th>\n",
       "      <th>Work_Exp</th>\n",
       "      <th>Rel_Exp</th>\n",
       "      <th>highest education level</th>\n",
       "      <th>Gender</th>\n",
       "    </tr>\n",
       "  </thead>\n",
       "  <tbody>\n",
       "    <tr>\n",
       "      <th>0</th>\n",
       "      <td>25-34</td>\n",
       "      <td>Education (Higher Education)</td>\n",
       "      <td>Research and Instruction Librarian</td>\n",
       "      <td>55,000</td>\n",
       "      <td>0.0</td>\n",
       "      <td>USD</td>\n",
       "      <td>United States</td>\n",
       "      <td>Massachusetts</td>\n",
       "      <td>Boston</td>\n",
       "      <td>5-7 years</td>\n",
       "      <td>5-7 years</td>\n",
       "      <td>Master's degree</td>\n",
       "      <td>Woman</td>\n",
       "    </tr>\n",
       "    <tr>\n",
       "      <th>1</th>\n",
       "      <td>25-34</td>\n",
       "      <td>Computing or Tech</td>\n",
       "      <td>Change &amp; Internal Communications Manager</td>\n",
       "      <td>54,600</td>\n",
       "      <td>4000.0</td>\n",
       "      <td>GBP</td>\n",
       "      <td>United Kingdom</td>\n",
       "      <td>NaN</td>\n",
       "      <td>Cambridge</td>\n",
       "      <td>8 - 10 years</td>\n",
       "      <td>5-7 years</td>\n",
       "      <td>College degree</td>\n",
       "      <td>Non-binary</td>\n",
       "    </tr>\n",
       "    <tr>\n",
       "      <th>5</th>\n",
       "      <td>25-34</td>\n",
       "      <td>Education (Higher Education)</td>\n",
       "      <td>Scholarly Publishing Librarian</td>\n",
       "      <td>62,000</td>\n",
       "      <td>NaN</td>\n",
       "      <td>USD</td>\n",
       "      <td>USA</td>\n",
       "      <td>New Hampshire</td>\n",
       "      <td>Hanover</td>\n",
       "      <td>8 - 10 years</td>\n",
       "      <td>2 - 4 years</td>\n",
       "      <td>Master's degree</td>\n",
       "      <td>Man</td>\n",
       "    </tr>\n",
       "    <tr>\n",
       "      <th>171</th>\n",
       "      <td>25-34</td>\n",
       "      <td>Government and Public Administration</td>\n",
       "      <td>Program Analyst</td>\n",
       "      <td>117,500</td>\n",
       "      <td>1500.0</td>\n",
       "      <td>USD</td>\n",
       "      <td>USA</td>\n",
       "      <td>NaN</td>\n",
       "      <td>Washington DC</td>\n",
       "      <td>8 - 10 years</td>\n",
       "      <td>5-7 years</td>\n",
       "      <td>Master's degree</td>\n",
       "      <td>No Gender</td>\n",
       "    </tr>\n",
       "    <tr>\n",
       "      <th>321</th>\n",
       "      <td>35-44</td>\n",
       "      <td>Computing or Tech</td>\n",
       "      <td>Software Engineer</td>\n",
       "      <td>156,000</td>\n",
       "      <td>189000.0</td>\n",
       "      <td>USD</td>\n",
       "      <td>United States</td>\n",
       "      <td>Massachusetts</td>\n",
       "      <td>Metro Boston</td>\n",
       "      <td>21 - 30 years</td>\n",
       "      <td>21 - 30 years</td>\n",
       "      <td>Master's degree</td>\n",
       "      <td>Other</td>\n",
       "    </tr>\n",
       "  </tbody>\n",
       "</table>\n",
       "</div>"
      ],
      "text/plain": [
       "       Age                              Industry  \\\n",
       "0    25-34          Education (Higher Education)   \n",
       "1    25-34                     Computing or Tech   \n",
       "5    25-34          Education (Higher Education)   \n",
       "171  25-34  Government and Public Administration   \n",
       "321  35-44                     Computing or Tech   \n",
       "\n",
       "                                    Job title Annual Salary     Bonus  \\\n",
       "0          Research and Instruction Librarian        55,000       0.0   \n",
       "1    Change & Internal Communications Manager        54,600    4000.0   \n",
       "5              Scholarly Publishing Librarian        62,000       NaN   \n",
       "171                           Program Analyst       117,500    1500.0   \n",
       "321                         Software Engineer       156,000  189000.0   \n",
       "\n",
       "    Currency         Country          State           City       Work_Exp  \\\n",
       "0        USD   United States  Massachusetts         Boston      5-7 years   \n",
       "1        GBP  United Kingdom            NaN      Cambridge   8 - 10 years   \n",
       "5        USD             USA  New Hampshire        Hanover   8 - 10 years   \n",
       "171      USD             USA            NaN  Washington DC   8 - 10 years   \n",
       "321      USD   United States  Massachusetts   Metro Boston  21 - 30 years   \n",
       "\n",
       "           Rel_Exp highest education level      Gender  \n",
       "0        5-7 years         Master's degree       Woman  \n",
       "1        5-7 years          College degree  Non-binary  \n",
       "5      2 - 4 years         Master's degree         Man  \n",
       "171      5-7 years         Master's degree  No Gender   \n",
       "321  21 - 30 years         Master's degree       Other  "
      ]
     },
     "execution_count": 24,
     "metadata": {},
     "output_type": "execute_result"
    }
   ],
   "source": [
    "#identifying unique duplicates in a columns\n",
    "df.drop_duplicates('Gender', keep='first')"
   ]
  },
  {
   "cell_type": "code",
   "execution_count": 25,
   "id": "9b3328ce",
   "metadata": {},
   "outputs": [],
   "source": [
    "#standartise \"'highest education level\" variables \n",
    "#replace missing values,rename all   confused values with most close unic realted names\n",
    "#replace missing values with (Not applicable ')  \"NA\"\n",
    "df['highest education level'] = df['highest education level'].fillna('NA')"
   ]
  },
  {
   "cell_type": "code",
   "execution_count": 26,
   "id": "1f57ecdd",
   "metadata": {},
   "outputs": [
    {
     "name": "stdout",
     "output_type": "stream",
     "text": [
      "[\"Master's degree\" 'College degree' 'PhD' 'NA' 'Some college'\n",
      " 'High School' 'Professional degree (MD, JD, etc.)']\n"
     ]
    }
   ],
   "source": [
    "#  determine unique categories in Higest  Education column\n",
    "array = df[\"highest education level\"].unique() \n",
    "print(array)"
   ]
  },
  {
   "cell_type": "code",
   "execution_count": 27,
   "id": "8353c442",
   "metadata": {},
   "outputs": [],
   "source": [
    "#rename values\n",
    "df['highest education level'] = df['highest education level'].replace(['Professional degree (MD, JD, etc.)','Master\\'s degree' ], 'MD')\n"
   ]
  },
  {
   "cell_type": "code",
   "execution_count": 28,
   "id": "440f9202",
   "metadata": {},
   "outputs": [],
   "source": [
    "#rename values\n",
    "df['highest education level'] = df['highest education level'].replace(['Some college','College degree'], 'CD')\n"
   ]
  },
  {
   "cell_type": "code",
   "execution_count": 29,
   "id": "a27f25ff",
   "metadata": {},
   "outputs": [
    {
     "name": "stdout",
     "output_type": "stream",
     "text": [
      "CD             15601\n",
      "MD             10196\n",
      "PhD             1427\n",
      "High School      639\n",
      "NA               222\n",
      "Name: highest education level, dtype: int64\n"
     ]
    }
   ],
   "source": [
    "# Determine the distribution of categorical variables \n",
    "# Frequency table for 'highest education'Education_distribution = df['highest education level'].value_counts()\n",
    "Education_distribution = df['highest education level'].value_counts()\n",
    "print(Education_distribution)"
   ]
  },
  {
   "cell_type": "markdown",
   "id": "22307c24",
   "metadata": {},
   "source": [
    "#create a new variable \"Demographics\"   that could provide ifferent approach to analising releation betveen \"Gender\" ,Education\"   and Salary   "
   ]
  },
  {
   "cell_type": "code",
   "execution_count": 30,
   "id": "22e347a2",
   "metadata": {},
   "outputs": [],
   "source": [
    "#  'df' with columns 'Highest Education Level' and 'Gender'\n",
    "df['Demographics'] = df['highest education level'] + '_' + df['Gender']"
   ]
  },
  {
   "cell_type": "code",
   "execution_count": 31,
   "id": "6c8d2fd6",
   "metadata": {},
   "outputs": [
    {
     "data": {
      "text/plain": [
       "array(['MD_Woman', 'CD_Non-binary', 'CD_Woman', 'MD_Man', 'PhD_Woman',\n",
       "       'CD_Man', 'NA_Woman', 'MD_Non-binary', 'High School_Man',\n",
       "       'PhD_Man', 'High School_Woman', 'MD_No Gender ', 'PhD_Non-binary',\n",
       "       'High School_Non-binary', 'MD_Other', 'PhD_Other', 'CD_No Gender ',\n",
       "       'CD_Other', 'NA_No Gender ', 'NA_Man', 'High School_Other',\n",
       "       'PhD_No Gender ', 'NA_Other', 'NA_Non-binary',\n",
       "       'High School_No Gender '], dtype=object)"
      ]
     },
     "execution_count": 31,
     "metadata": {},
     "output_type": "execute_result"
    }
   ],
   "source": [
    "# identifying  categories/values in a new   column\n",
    "df['Demographics'].unique()"
   ]
  },
  {
   "cell_type": "code",
   "execution_count": 32,
   "id": "a9bece0d",
   "metadata": {
    "scrolled": true
   },
   "outputs": [
    {
     "name": "stdout",
     "output_type": "stream",
     "text": [
      "CD_Woman                  11581\n",
      "MD_Woman                   8209\n",
      "CD_Man                     3323\n",
      "MD_Man                     1599\n",
      "PhD_Woman                  1097\n",
      "CD_Non-binary               468\n",
      "High School_Woman           358\n",
      "PhD_Man                     277\n",
      "High School_Man             250\n",
      "MD_Non-binary               232\n",
      "CD_Other                    177\n",
      "NA_Woman                    131\n",
      "MD_Other                     93\n",
      "MD_No Gender                 63\n",
      "CD_No Gender                 52\n",
      "NA_Man                       44\n",
      "NA_No Gender                 41\n",
      "PhD_Non-binary               24\n",
      "High School_Non-binary       20\n",
      "PhD_Other                    17\n",
      "PhD_No Gender                12\n",
      "High School_Other             8\n",
      "NA_Other                      4\n",
      "High School_No Gender         3\n",
      "NA_Non-binary                 2\n",
      "Name: Demographics, dtype: int64\n"
     ]
    }
   ],
   "source": [
    "#from this poit it is possible to see repation betveen Gender and Education\n",
    "# Frequency table for 'Job title'\n",
    "Demographics_distribution = df['Demographics'].value_counts()\n",
    "\n",
    "print(Demographics_distribution)"
   ]
  },
  {
   "cell_type": "code",
   "execution_count": 33,
   "id": "238b533f",
   "metadata": {},
   "outputs": [],
   "source": [
    "#  lets drop single variables \n",
    "df.drop(columns=['highest education level','Gender'], inplace=True)"
   ]
  },
  {
   "cell_type": "code",
   "execution_count": 34,
   "id": "65d932c1",
   "metadata": {},
   "outputs": [
    {
     "data": {
      "text/html": [
       "<div>\n",
       "<style scoped>\n",
       "    .dataframe tbody tr th:only-of-type {\n",
       "        vertical-align: middle;\n",
       "    }\n",
       "\n",
       "    .dataframe tbody tr th {\n",
       "        vertical-align: top;\n",
       "    }\n",
       "\n",
       "    .dataframe thead th {\n",
       "        text-align: right;\n",
       "    }\n",
       "</style>\n",
       "<table border=\"1\" class=\"dataframe\">\n",
       "  <thead>\n",
       "    <tr style=\"text-align: right;\">\n",
       "      <th></th>\n",
       "      <th>Age</th>\n",
       "      <th>Industry</th>\n",
       "      <th>Job title</th>\n",
       "      <th>Annual Salary</th>\n",
       "      <th>Bonus</th>\n",
       "      <th>Currency</th>\n",
       "      <th>Country</th>\n",
       "      <th>State</th>\n",
       "      <th>City</th>\n",
       "      <th>Work_Exp</th>\n",
       "      <th>Rel_Exp</th>\n",
       "      <th>Demographics</th>\n",
       "    </tr>\n",
       "  </thead>\n",
       "  <tbody>\n",
       "    <tr>\n",
       "      <th>0</th>\n",
       "      <td>25-34</td>\n",
       "      <td>Education (Higher Education)</td>\n",
       "      <td>Research and Instruction Librarian</td>\n",
       "      <td>55,000</td>\n",
       "      <td>0.0</td>\n",
       "      <td>USD</td>\n",
       "      <td>United States</td>\n",
       "      <td>Massachusetts</td>\n",
       "      <td>Boston</td>\n",
       "      <td>5-7 years</td>\n",
       "      <td>5-7 years</td>\n",
       "      <td>MD_Woman</td>\n",
       "    </tr>\n",
       "    <tr>\n",
       "      <th>1</th>\n",
       "      <td>25-34</td>\n",
       "      <td>Computing or Tech</td>\n",
       "      <td>Change &amp; Internal Communications Manager</td>\n",
       "      <td>54,600</td>\n",
       "      <td>4000.0</td>\n",
       "      <td>GBP</td>\n",
       "      <td>United Kingdom</td>\n",
       "      <td>NaN</td>\n",
       "      <td>Cambridge</td>\n",
       "      <td>8 - 10 years</td>\n",
       "      <td>5-7 years</td>\n",
       "      <td>CD_Non-binary</td>\n",
       "    </tr>\n",
       "  </tbody>\n",
       "</table>\n",
       "</div>"
      ],
      "text/plain": [
       "     Age                      Industry  \\\n",
       "0  25-34  Education (Higher Education)   \n",
       "1  25-34             Computing or Tech   \n",
       "\n",
       "                                  Job title Annual Salary   Bonus Currency  \\\n",
       "0        Research and Instruction Librarian        55,000     0.0      USD   \n",
       "1  Change & Internal Communications Manager        54,600  4000.0      GBP   \n",
       "\n",
       "          Country          State       City      Work_Exp    Rel_Exp  \\\n",
       "0   United States  Massachusetts     Boston     5-7 years  5-7 years   \n",
       "1  United Kingdom            NaN  Cambridge  8 - 10 years  5-7 years   \n",
       "\n",
       "    Demographics  \n",
       "0       MD_Woman  \n",
       "1  CD_Non-binary  "
      ]
     },
     "execution_count": 34,
     "metadata": {},
     "output_type": "execute_result"
    }
   ],
   "source": [
    "#review updated df \n",
    "df.head(2)"
   ]
  },
  {
   "cell_type": "markdown",
   "id": "476f5e27",
   "metadata": {},
   "source": [
    "#clean data for range columns ‘Age’ , ‘Work Exp’ , ‘ Rel_exp’ :extract text, find unique groups /"
   ]
  },
  {
   "cell_type": "code",
   "execution_count": 35,
   "id": "3c9b1082",
   "metadata": {},
   "outputs": [
    {
     "name": "stdout",
     "output_type": "stream",
     "text": [
      "Age                 0\n",
      "Industry           74\n",
      "Job title           2\n",
      "Annual Salary       0\n",
      "Bonus            7305\n",
      "Currency            0\n",
      "Country             1\n",
      "State            5026\n",
      "City               87\n",
      "Work_Exp            0\n",
      "Rel_Exp             0\n",
      "Demographics        0\n",
      "dtype: int64\n"
     ]
    }
   ],
   "source": [
    "# identifying columns with missing data in updated df\n",
    "print(df.isnull().sum())\n"
   ]
  },
  {
   "cell_type": "code",
   "execution_count": 36,
   "id": "96d5316d",
   "metadata": {},
   "outputs": [],
   "source": [
    "#replace missing values with (Unknown')/'NA'\n",
    "#  for missed values 'City',replace with equal value from 'Country'\n",
    "df['Industry'] = df['Industry'].fillna('Unknown')\n",
    "df['Job title'] = df['Job title'].fillna('Unknown')\n",
    "df['Bonus']=df['Bonus'].fillna('NA')\n",
    "df['Country']=df['Country'].fillna('Unknown')\n",
    "df['State']=df['State'].fillna('NA')\n",
    "df['City']=df['City'].fillna(df['Country'])\n",
    "   \n"
   ]
  },
  {
   "cell_type": "code",
   "execution_count": 37,
   "id": "7970420e",
   "metadata": {},
   "outputs": [
    {
     "data": {
      "text/html": [
       "<div>\n",
       "<style scoped>\n",
       "    .dataframe tbody tr th:only-of-type {\n",
       "        vertical-align: middle;\n",
       "    }\n",
       "\n",
       "    .dataframe tbody tr th {\n",
       "        vertical-align: top;\n",
       "    }\n",
       "\n",
       "    .dataframe thead th {\n",
       "        text-align: right;\n",
       "    }\n",
       "</style>\n",
       "<table border=\"1\" class=\"dataframe\">\n",
       "  <thead>\n",
       "    <tr style=\"text-align: right;\">\n",
       "      <th></th>\n",
       "      <th>Age</th>\n",
       "      <th>Industry</th>\n",
       "      <th>Job title</th>\n",
       "      <th>Annual Salary</th>\n",
       "      <th>Bonus</th>\n",
       "      <th>Currency</th>\n",
       "      <th>Country</th>\n",
       "      <th>State</th>\n",
       "      <th>City</th>\n",
       "      <th>Work_Exp</th>\n",
       "      <th>Rel_Exp</th>\n",
       "      <th>Demographics</th>\n",
       "    </tr>\n",
       "  </thead>\n",
       "  <tbody>\n",
       "    <tr>\n",
       "      <th>0</th>\n",
       "      <td>25-34</td>\n",
       "      <td>Education (Higher Education)</td>\n",
       "      <td>Research and Instruction Librarian</td>\n",
       "      <td>55,000</td>\n",
       "      <td>0.0</td>\n",
       "      <td>USD</td>\n",
       "      <td>United States</td>\n",
       "      <td>Massachusetts</td>\n",
       "      <td>Boston</td>\n",
       "      <td>5-7 years</td>\n",
       "      <td>5-7 years</td>\n",
       "      <td>MD_Woman</td>\n",
       "    </tr>\n",
       "    <tr>\n",
       "      <th>1</th>\n",
       "      <td>25-34</td>\n",
       "      <td>Computing or Tech</td>\n",
       "      <td>Change &amp; Internal Communications Manager</td>\n",
       "      <td>54,600</td>\n",
       "      <td>4000.0</td>\n",
       "      <td>GBP</td>\n",
       "      <td>United Kingdom</td>\n",
       "      <td>NA</td>\n",
       "      <td>Cambridge</td>\n",
       "      <td>8 - 10 years</td>\n",
       "      <td>5-7 years</td>\n",
       "      <td>CD_Non-binary</td>\n",
       "    </tr>\n",
       "    <tr>\n",
       "      <th>2</th>\n",
       "      <td>25-34</td>\n",
       "      <td>Accounting, Banking &amp; Finance</td>\n",
       "      <td>Marketing Specialist</td>\n",
       "      <td>34,000</td>\n",
       "      <td>NA</td>\n",
       "      <td>USD</td>\n",
       "      <td>US</td>\n",
       "      <td>Tennessee</td>\n",
       "      <td>Chattanooga</td>\n",
       "      <td>2 - 4 years</td>\n",
       "      <td>2 - 4 years</td>\n",
       "      <td>CD_Woman</td>\n",
       "    </tr>\n",
       "    <tr>\n",
       "      <th>3</th>\n",
       "      <td>25-34</td>\n",
       "      <td>Nonprofits</td>\n",
       "      <td>Program Manager</td>\n",
       "      <td>62,000</td>\n",
       "      <td>3000.0</td>\n",
       "      <td>USD</td>\n",
       "      <td>USA</td>\n",
       "      <td>Wisconsin</td>\n",
       "      <td>Milwaukee</td>\n",
       "      <td>8 - 10 years</td>\n",
       "      <td>5-7 years</td>\n",
       "      <td>CD_Woman</td>\n",
       "    </tr>\n",
       "    <tr>\n",
       "      <th>6</th>\n",
       "      <td>25-34</td>\n",
       "      <td>Publishing</td>\n",
       "      <td>Publishing Assistant</td>\n",
       "      <td>33,000</td>\n",
       "      <td>2000.0</td>\n",
       "      <td>USD</td>\n",
       "      <td>USA</td>\n",
       "      <td>South Carolina</td>\n",
       "      <td>Columbia</td>\n",
       "      <td>2 - 4 years</td>\n",
       "      <td>2 - 4 years</td>\n",
       "      <td>CD_Woman</td>\n",
       "    </tr>\n",
       "    <tr>\n",
       "      <th>...</th>\n",
       "      <td>...</td>\n",
       "      <td>...</td>\n",
       "      <td>...</td>\n",
       "      <td>...</td>\n",
       "      <td>...</td>\n",
       "      <td>...</td>\n",
       "      <td>...</td>\n",
       "      <td>...</td>\n",
       "      <td>...</td>\n",
       "      <td>...</td>\n",
       "      <td>...</td>\n",
       "      <td>...</td>\n",
       "    </tr>\n",
       "    <tr>\n",
       "      <th>27987</th>\n",
       "      <td>65 or over</td>\n",
       "      <td>Plumbing</td>\n",
       "      <td>Manager</td>\n",
       "      <td>30000</td>\n",
       "      <td>10000.0</td>\n",
       "      <td>ZAR</td>\n",
       "      <td>South Africa</td>\n",
       "      <td>NA</td>\n",
       "      <td>Johannesburg</td>\n",
       "      <td>41 years or more</td>\n",
       "      <td>41 years or more</td>\n",
       "      <td>High School_Man</td>\n",
       "    </tr>\n",
       "    <tr>\n",
       "      <th>27996</th>\n",
       "      <td>18-24</td>\n",
       "      <td>I'm currently a student and don't have a job</td>\n",
       "      <td>Unknown</td>\n",
       "      <td>0</td>\n",
       "      <td>0.0</td>\n",
       "      <td>USD</td>\n",
       "      <td>U.S.A</td>\n",
       "      <td>Pennsylvania</td>\n",
       "      <td>U.S.A</td>\n",
       "      <td>2 - 4 years</td>\n",
       "      <td>2 - 4 years</td>\n",
       "      <td>CD_Man</td>\n",
       "    </tr>\n",
       "    <tr>\n",
       "      <th>28020</th>\n",
       "      <td>25-34</td>\n",
       "      <td>Student</td>\n",
       "      <td>Student</td>\n",
       "      <td>0</td>\n",
       "      <td>0.0</td>\n",
       "      <td>USD</td>\n",
       "      <td>US</td>\n",
       "      <td>Illinois</td>\n",
       "      <td>US</td>\n",
       "      <td>1 year or less</td>\n",
       "      <td>1 year or less</td>\n",
       "      <td>CD_Other</td>\n",
       "    </tr>\n",
       "    <tr>\n",
       "      <th>28024</th>\n",
       "      <td>25-34</td>\n",
       "      <td>Wine &amp; Spirits</td>\n",
       "      <td>Marketing Manager</td>\n",
       "      <td>105000</td>\n",
       "      <td>5000.0</td>\n",
       "      <td>USD</td>\n",
       "      <td>U.S.</td>\n",
       "      <td>California</td>\n",
       "      <td>Napa</td>\n",
       "      <td>5-7 years</td>\n",
       "      <td>5-7 years</td>\n",
       "      <td>CD_Woman</td>\n",
       "    </tr>\n",
       "    <tr>\n",
       "      <th>28084</th>\n",
       "      <td>65 or over</td>\n",
       "      <td>Social networks</td>\n",
       "      <td>Content creator</td>\n",
       "      <td>2000000</td>\n",
       "      <td>NA</td>\n",
       "      <td>USD</td>\n",
       "      <td>Taiwan</td>\n",
       "      <td>Utah, Wisconsin</td>\n",
       "      <td>Milwaukee</td>\n",
       "      <td>41 years or more</td>\n",
       "      <td>2 - 4 years</td>\n",
       "      <td>PhD_Non-binary</td>\n",
       "    </tr>\n",
       "  </tbody>\n",
       "</table>\n",
       "<p>1221 rows × 12 columns</p>\n",
       "</div>"
      ],
      "text/plain": [
       "              Age                                      Industry  \\\n",
       "0           25-34                  Education (Higher Education)   \n",
       "1           25-34                             Computing or Tech   \n",
       "2           25-34                 Accounting, Banking & Finance   \n",
       "3           25-34                                    Nonprofits   \n",
       "6           25-34                                    Publishing   \n",
       "...           ...                                           ...   \n",
       "27987  65 or over                                      Plumbing   \n",
       "27996       18-24  I'm currently a student and don't have a job   \n",
       "28020       25-34                                      Student    \n",
       "28024       25-34                                Wine & Spirits   \n",
       "28084  65 or over                               Social networks   \n",
       "\n",
       "                                      Job title Annual Salary    Bonus  \\\n",
       "0            Research and Instruction Librarian        55,000      0.0   \n",
       "1      Change & Internal Communications Manager        54,600   4000.0   \n",
       "2                          Marketing Specialist        34,000       NA   \n",
       "3                               Program Manager        62,000   3000.0   \n",
       "6                          Publishing Assistant        33,000   2000.0   \n",
       "...                                         ...           ...      ...   \n",
       "27987                                   Manager         30000  10000.0   \n",
       "27996                                   Unknown             0      0.0   \n",
       "28020                                  Student              0      0.0   \n",
       "28024                         Marketing Manager        105000   5000.0   \n",
       "28084                           Content creator       2000000       NA   \n",
       "\n",
       "      Currency         Country            State          City  \\\n",
       "0          USD   United States    Massachusetts        Boston   \n",
       "1          GBP  United Kingdom               NA     Cambridge   \n",
       "2          USD              US        Tennessee   Chattanooga   \n",
       "3          USD             USA        Wisconsin     Milwaukee   \n",
       "6          USD             USA   South Carolina      Columbia   \n",
       "...        ...             ...              ...           ...   \n",
       "27987      ZAR    South Africa               NA  Johannesburg   \n",
       "27996      USD           U.S.A     Pennsylvania         U.S.A   \n",
       "28020      USD              US         Illinois            US   \n",
       "28024      USD            U.S.       California          Napa   \n",
       "28084      USD          Taiwan  Utah, Wisconsin     Milwaukee   \n",
       "\n",
       "               Work_Exp           Rel_Exp     Demographics  \n",
       "0             5-7 years         5-7 years         MD_Woman  \n",
       "1          8 - 10 years         5-7 years    CD_Non-binary  \n",
       "2           2 - 4 years       2 - 4 years         CD_Woman  \n",
       "3          8 - 10 years         5-7 years         CD_Woman  \n",
       "6           2 - 4 years       2 - 4 years         CD_Woman  \n",
       "...                 ...               ...              ...  \n",
       "27987  41 years or more  41 years or more  High School_Man  \n",
       "27996       2 - 4 years       2 - 4 years           CD_Man  \n",
       "28020    1 year or less    1 year or less         CD_Other  \n",
       "28024         5-7 years         5-7 years         CD_Woman  \n",
       "28084  41 years or more       2 - 4 years   PhD_Non-binary  \n",
       "\n",
       "[1221 rows x 12 columns]"
      ]
     },
     "execution_count": 37,
     "metadata": {},
     "output_type": "execute_result"
    }
   ],
   "source": [
    "#identifying unique duplicates in a columns\n",
    "#review updated DF\n",
    "df.drop_duplicates('Industry', keep='first')"
   ]
  },
  {
   "cell_type": "code",
   "execution_count": 38,
   "id": "72affc23",
   "metadata": {},
   "outputs": [
    {
     "name": "stdout",
     "output_type": "stream",
     "text": [
      "Age              0\n",
      "Industry         0\n",
      "Job title        0\n",
      "Annual Salary    0\n",
      "Bonus            0\n",
      "Currency         0\n",
      "Country          0\n",
      "State            0\n",
      "City             0\n",
      "Work_Exp         0\n",
      "Rel_Exp          0\n",
      "Demographics     0\n",
      "dtype: int64\n"
     ]
    }
   ],
   "source": [
    "#review updated df\n",
    "print(df.isnull().sum())"
   ]
  },
  {
   "cell_type": "code",
   "execution_count": 39,
   "id": "213f7964",
   "metadata": {
    "scrolled": true
   },
   "outputs": [
    {
     "data": {
      "text/plain": [
       "array(['5-7 years', '8 - 10 years', '2 - 4 years', '21 - 30 years',\n",
       "       '11 - 20 years', '1 year or less', '41 years or more',\n",
       "       '31 - 40 years'], dtype=object)"
      ]
     },
     "execution_count": 39,
     "metadata": {},
     "output_type": "execute_result"
    }
   ],
   "source": [
    "# identifying  categories/values in a'Work_Exp' column\n",
    "df['Work_Exp'].unique()"
   ]
  },
  {
   "cell_type": "code",
   "execution_count": null,
   "id": "6ea8b4ea",
   "metadata": {},
   "outputs": [],
   "source": []
  },
  {
   "cell_type": "code",
   "execution_count": 40,
   "id": "ab224426",
   "metadata": {},
   "outputs": [
    {
     "name": "stdout",
     "output_type": "stream",
     "text": [
      "Number of unique industries: 1221\n"
     ]
    }
   ],
   "source": [
    "# identifying  number of unoque  values in 'Industry'\n",
    "unique_industries = df['Industry'].nunique()\n",
    "print(\"Number of unique industries:\", unique_industries)"
   ]
  },
  {
   "cell_type": "code",
   "execution_count": 41,
   "id": "ff79bd50",
   "metadata": {},
   "outputs": [
    {
     "data": {
      "text/plain": [
       "array(['55,000', '54,600', '34,000', ..., '7000', '37741', '53060'],\n",
       "      dtype=object)"
      ]
     },
     "execution_count": 41,
     "metadata": {},
     "output_type": "execute_result"
    }
   ],
   "source": [
    "# identifying  categories/values in a targeted  variable 'Annual Salary' column\n",
    "df['Annual Salary'].unique()"
   ]
  },
  {
   "cell_type": "code",
   "execution_count": 42,
   "id": "37c4be5d",
   "metadata": {
    "scrolled": true
   },
   "outputs": [],
   "source": [
    "# filter DF , rows where the 'Annual Salary'  does not contain the values '1', '00', or '0'.\n",
    "df = df[~df['Annual Salary'].isin(['1', '00', '0'])]\n"
   ]
  },
  {
   "cell_type": "code",
   "execution_count": 43,
   "id": "80cc1770",
   "metadata": {},
   "outputs": [
    {
     "name": "stdout",
     "output_type": "stream",
     "text": [
      "28080     117000\n",
      "28081      70000\n",
      "28082      28600\n",
      "28083      56160\n",
      "28084    2000000\n",
      "Name: Annual Salary, dtype: object\n"
     ]
    }
   ],
   "source": [
    "#review lowest output for calary\n",
    "print(df['Annual Salary'].tail(5))"
   ]
  },
  {
   "cell_type": "code",
   "execution_count": null,
   "id": "00df9b52",
   "metadata": {},
   "outputs": [],
   "source": []
  },
  {
   "cell_type": "code",
   "execution_count": 44,
   "id": "156fa58a",
   "metadata": {},
   "outputs": [
    {
     "data": {
      "text/plain": [
       "array(['USD', 'GBP', 'CAD', 'EUR', 'AUD/NZD', 'Other', 'CHF', 'ZAR',\n",
       "       'SEK', 'HKD', 'JPY'], dtype=object)"
      ]
     },
     "execution_count": 44,
     "metadata": {},
     "output_type": "execute_result"
    }
   ],
   "source": [
    "#review unique values for column \"Currency\",\"Country\"\n",
    "df[\"Currency\"].unique()"
   ]
  },
  {
   "cell_type": "code",
   "execution_count": 45,
   "id": "6c7bcde9",
   "metadata": {},
   "outputs": [
    {
     "name": "stdout",
     "output_type": "stream",
     "text": [
      "United States                                8996\n",
      "USA                                          7934\n",
      "US                                           2608\n",
      "Canada                                       1570\n",
      "United States                                 667\n",
      "                                             ... \n",
      "Cote d'Ivoire                                   1\n",
      "Sri lanka                                       1\n",
      "From Romania, but for an US based company       1\n",
      "Somalia                                         1\n",
      "Burma                                           1\n",
      "Name: Country, Length: 377, dtype: int64\n"
     ]
    }
   ],
   "source": [
    "# Frequency table for 'Job title'\n",
    "Country_distribution = df['Country'].value_counts()\n",
    "\n",
    "print(Country_distribution)"
   ]
  },
  {
   "cell_type": "code",
   "execution_count": null,
   "id": "726f8138",
   "metadata": {},
   "outputs": [],
   "source": []
  },
  {
   "cell_type": "code",
   "execution_count": 46,
   "id": "0f7f8354",
   "metadata": {},
   "outputs": [],
   "source": [
    "#replase all missing values in remain columns\n",
    "# removing all rows with missing values could change DF reading results \n",
    "df.fillna('NA', inplace=True)"
   ]
  },
  {
   "cell_type": "code",
   "execution_count": null,
   "id": "fb4b28f1",
   "metadata": {},
   "outputs": [],
   "source": []
  },
  {
   "cell_type": "code",
   "execution_count": null,
   "id": "9d210e79",
   "metadata": {},
   "outputs": [],
   "source": []
  },
  {
   "cell_type": "code",
   "execution_count": null,
   "id": "7721ae27",
   "metadata": {},
   "outputs": [],
   "source": []
  },
  {
   "cell_type": "code",
   "execution_count": null,
   "id": "a532b88b",
   "metadata": {},
   "outputs": [],
   "source": []
  },
  {
   "cell_type": "code",
   "execution_count": 47,
   "id": "9909493b",
   "metadata": {},
   "outputs": [
    {
     "name": "stdout",
     "output_type": "stream",
     "text": [
      "Age       Industry                     Job title                                        Annual Salary  Bonus    Currency  Country  State                 City                 Work_Exp       Rel_Exp         Demographics \n",
      "25-34     Restaurant                   Service Manager                                  55,000         0.0      USD       US       California            San Jose             8 - 10 years   2 - 4 years     CD_Non-binary    3\n",
      "35-44     Computing or Tech            Director of IT                                   175,000        5000.0   USD       USA      California            San Francisco        21 - 30 years  11 - 20 years   CD_Man           3\n",
      "25-34     Business or Consulting       Ops Associate                                    119,000        NA       USD       US       New York              NY                   2 - 4 years    2 - 4 years     CD_Woman         2\n",
      "55-64     Nonprofits                   Director of HR                                   97,000         NA       USD       USA      Montana               Missoula             21 - 30 years  21 - 30 years   MD_Woman         2\n",
      "25-34     Art & Design                 Executive Assistant                              72,500         7000.0   USD       USA      New York              New York             5-7 years      5-7 years       CD_Woman         2\n",
      "                                                                                                                                                                                                                             ..\n",
      "          Marketing, Advertising & PR  Logistics Manager                                70,000         NA       USD       USA      Kentucky              Louisville           2 - 4 years    1 year or less  CD_Woman         1\n",
      "                                       Manager                                          75,000         5000.0   USD       US       District of Columbia  Washington, DC area  2 - 4 years    2 - 4 years     MD_Woman         1\n",
      "                                       Manager (market research - online communities))  66000          NA       USD       USA      Ohio                  Cincinnati           2 - 4 years    2 - 4 years     CD_Woman         1\n",
      "                                       Manager, Medical Writing                         105,000        11000.0  USD       USA      Pennsylvania          currently remote     8 - 10 years   8 - 10 years    MD_Woman         1\n",
      "under 18  Retail                       Technology Manager                               100200         12000.0  USD       USA      Virginia              Richmond             21 - 30 years  21 - 30 years   CD_Woman         1\n",
      "Length: 10991, dtype: int64\n"
     ]
    }
   ],
   "source": [
    "#Lets ordering Countryes titles \n",
    "#Rename all values with US ,Unated STates   as \"USA\"\n",
    "\n",
    "df_filtered = df[df['Country'].str.startswith('US','Unated STates' )]\n",
    "us_distribution = df_filtered.value_counts()\n",
    "print(us_distribution)"
   ]
  },
  {
   "cell_type": "code",
   "execution_count": 48,
   "id": "a5fc4dbf",
   "metadata": {},
   "outputs": [],
   "source": [
    "\n",
    "import re"
   ]
  },
  {
   "cell_type": "code",
   "execution_count": 49,
   "id": "cd2afcba",
   "metadata": {},
   "outputs": [],
   "source": [
    "# Regular expression to match USA-related countries (case-insensitive)\n",
    "pattern = r'(?:Unaited States|USA|America)'"
   ]
  },
  {
   "cell_type": "code",
   "execution_count": 50,
   "id": "ce4dc0df",
   "metadata": {},
   "outputs": [],
   "source": [
    "# Regular expression to match USA-related countries (case-insensitive)\n",
    "pattern = r'(?:U?naited? S?tates?|U?S?A?|A?merica|U?\\.S?\\.|S?tat|u?nited? s?tate|U?S?|U\\. S\\.|)'\n"
   ]
  },
  {
   "cell_type": "code",
   "execution_count": null,
   "id": "73863e5b",
   "metadata": {},
   "outputs": [],
   "source": []
  },
  {
   "cell_type": "code",
   "execution_count": 51,
   "id": "98df61ce",
   "metadata": {},
   "outputs": [
    {
     "data": {
      "text/plain": [
       "array(['55,000', '54,600', '34,000', ..., '7000', '37741', '53060'],\n",
       "      dtype=object)"
      ]
     },
     "execution_count": 51,
     "metadata": {},
     "output_type": "execute_result"
    }
   ],
   "source": [
    "#In\"Annual Salary\" ,represented by  numerical values,lets find 5 top and  5 minimum salaries\n",
    "df['Annual Salary'].unique()"
   ]
  },
  {
   "cell_type": "code",
   "execution_count": 52,
   "id": "5870f9f1",
   "metadata": {},
   "outputs": [
    {
     "name": "stdout",
     "output_type": "stream",
     "text": [
      "22298    99952\n",
      "24428    99850\n",
      "21764    99780\n",
      "24498    99600\n",
      "22626    99500\n",
      "Name: Annual Salary, dtype: object\n"
     ]
    }
   ],
   "source": [
    "# Sort the DataFrame by the column in descending order\n",
    "#In\"Annual Salary\" ,represented by  numerical values,lets find 5 top \n",
    "df = df.sort_values('Annual Salary',ascending=False)\n",
    "\n",
    "print(df['Annual Salary'].head())\n",
    "                        \n",
    "\n"
   ]
  },
  {
   "cell_type": "code",
   "execution_count": 53,
   "id": "889ddccc",
   "metadata": {
    "scrolled": true
   },
   "outputs": [
    {
     "name": "stdout",
     "output_type": "stream",
     "text": [
      "2712       100,000\n",
      "6780       100,000\n",
      "12966      100,000\n",
      "18780      100,000\n",
      "17905      100,000\n",
      "14643      100,000\n",
      "17910      100,000\n",
      "4923       100,000\n",
      "6772       100,000\n",
      "485        100,000\n",
      "17920      100,000\n",
      "13842      100,000\n",
      "12947      100,000\n",
      "9600       100,000\n",
      "19380      100,000\n",
      "2107       100,000\n",
      "11079      100,000\n",
      "4893       100,000\n",
      "17952      100,000\n",
      "17655      100,000\n",
      "18618          100\n",
      "26137          100\n",
      "8592           100\n",
      "19434       10,800\n",
      "15191       10,500\n",
      "14982       10,500\n",
      "6137        10,000\n",
      "10827       10,000\n",
      "5755     1,900,000\n",
      "6783     1,650,000\n",
      "16980        1,442\n",
      "3162     1,400,000\n",
      "18832    1,360,000\n",
      "9238     1,334,782\n",
      "11693    1,324,000\n",
      "18943    1,300,000\n",
      "16982    1,300,000\n",
      "17708    1,260,000\n",
      "11134    1,200,000\n",
      "5306     1,200,000\n",
      "1449     1,150,000\n",
      "10508    1,150,000\n",
      "3937     1,150,000\n",
      "10904    1,100,000\n",
      "16165    1,100,000\n",
      "5146     1,100,000\n",
      "4206     1,100,000\n",
      "603      1,080,000\n",
      "20344    1,050,000\n",
      "19536        1,000\n",
      "Name: Annual Salary, dtype: object\n"
     ]
    }
   ],
   "source": [
    "print(df['Annual Salary'].tail(50))"
   ]
  },
  {
   "cell_type": "code",
   "execution_count": 54,
   "id": "1c564699",
   "metadata": {},
   "outputs": [
    {
     "name": "stdout",
     "output_type": "stream",
     "text": [
      "14902       99,945\n",
      "11139       99,840\n",
      "11636       99,800\n",
      "18633       99,800\n",
      "10796       99,750\n",
      "           ...    \n",
      "5146     1,100,000\n",
      "4206     1,100,000\n",
      "603      1,080,000\n",
      "20344    1,050,000\n",
      "19536        1,000\n",
      "Name: Annual Salary, Length: 20302, dtype: object\n"
     ]
    }
   ],
   "source": [
    "df_filtered = df[df['Annual Salary'].str.contains (',','.')]\n",
    "print(df_filtered['Annual Salary'])"
   ]
  },
  {
   "cell_type": "code",
   "execution_count": 55,
   "id": "82cf5f06",
   "metadata": {},
   "outputs": [],
   "source": [
    "df['Annual Salary'] = df['Annual Salary'].str.replace(',','').astype(int)"
   ]
  },
  {
   "cell_type": "code",
   "execution_count": 56,
   "id": "619b2878",
   "metadata": {},
   "outputs": [
    {
     "name": "stdout",
     "output_type": "stream",
     "text": [
      "28055    6000070000\n",
      "11454     870000000\n",
      "18984     180000000\n",
      "27902     120000000\n",
      "3605      102000000\n",
      "Name: Annual Salary, dtype: int64\n"
     ]
    }
   ],
   "source": [
    "df = df.sort_values('Annual Salary', ascending=False)\n",
    "\n",
    "print(df['Annual Salary'].head(5))"
   ]
  },
  {
   "cell_type": "code",
   "execution_count": 57,
   "id": "1550bc62",
   "metadata": {},
   "outputs": [],
   "source": [
    "# Assuming Annual Salary can not be less then 1000 , we can not proceed with rows with \"NA\" and \"0\"\n",
    "#take down rows  were Salary<1000\n",
    "\n",
    "df.drop(df['Annual Salary'].isin(range(100)).index, inplace=True)"
   ]
  },
  {
   "cell_type": "code",
   "execution_count": 66,
   "id": "ba1d7015",
   "metadata": {},
   "outputs": [
    {
     "name": "stdout",
     "output_type": "stream",
     "text": [
      "Series([], Name: Annual Salary, dtype: int64)\n"
     ]
    }
   ],
   "source": [
    "print(df['Annual Salary'].tail(5))"
   ]
  },
  {
   "cell_type": "code",
   "execution_count": null,
   "id": "d2209c26",
   "metadata": {},
   "outputs": [],
   "source": []
  },
  {
   "cell_type": "code",
   "execution_count": 59,
   "id": "53feae5b",
   "metadata": {},
   "outputs": [
    {
     "name": "stdout",
     "output_type": "stream",
     "text": [
      "Series([], Name: Industry, dtype: int64)\n"
     ]
    }
   ],
   "source": [
    "# Determine the distribution of categorical variables (e.g., Industry, Job title, Gender).\n",
    "# Frequency table for 'Industry'\n",
    "industry_distribution = df['Industry'].value_counts()\n",
    "\n",
    "print(industry_distribution)\n",
    "\n"
   ]
  },
  {
   "cell_type": "code",
   "execution_count": 60,
   "id": "4b65ff20",
   "metadata": {},
   "outputs": [
    {
     "name": "stdout",
     "output_type": "stream",
     "text": [
      "Series([], Name: Job title, dtype: int64)\n"
     ]
    }
   ],
   "source": [
    "# Frequency table for 'Job title\n",
    "# Frequency table for 'Job title'\n",
    "Job_distribution = df['Job title'].value_counts()\n",
    "\n",
    "print(Job_distribution)"
   ]
  },
  {
   "cell_type": "code",
   "execution_count": 61,
   "id": "ea3fa95d",
   "metadata": {},
   "outputs": [
    {
     "name": "stdout",
     "output_type": "stream",
     "text": [
      "Series([], Name: Country, dtype: int64)\n"
     ]
    }
   ],
   "source": [
    "# Frequency table for 'Job title\n",
    "# Frequency table for 'Job title'\n",
    "Country_distribution = df['Country'].value_counts()\n",
    "\n",
    "print(Country_distribution)"
   ]
  },
  {
   "cell_type": "code",
   "execution_count": 62,
   "id": "3eed655a",
   "metadata": {},
   "outputs": [],
   "source": [
    "from datetime import datetime "
   ]
  },
  {
   "cell_type": "code",
   "execution_count": 67,
   "id": "25853a52",
   "metadata": {},
   "outputs": [],
   "source": [
    "# Getting current date and time\n",
    "current_time = datetime.now()\n",
    "\n",
    "# Formatting the date and time in a readable format:\n",
    "formatted_time = current_time.strftime('%B %d, %Y, %H:%M:%S')"
   ]
  },
  {
   "cell_type": "code",
   "execution_count": 68,
   "id": "9f92c7d6",
   "metadata": {},
   "outputs": [
    {
     "name": "stdout",
     "output_type": "stream",
     "text": [
      "Salary_survey_0.ipynb was last run on: November 03, 2024, 01:11:28\n"
     ]
    }
   ],
   "source": [
    "# Print the formatted date and time\n",
    "print(f\"Salary_survey_0.ipynb was last run on: {formatted_time}\")"
   ]
  },
  {
   "cell_type": "code",
   "execution_count": null,
   "id": "d92bdbcc",
   "metadata": {},
   "outputs": [],
   "source": []
  }
 ],
 "metadata": {
  "kernelspec": {
   "display_name": "Python 3 (ipykernel)",
   "language": "python",
   "name": "python3"
  },
  "language_info": {
   "codemirror_mode": {
    "name": "ipython",
    "version": 3
   },
   "file_extension": ".py",
   "mimetype": "text/x-python",
   "name": "python",
   "nbconvert_exporter": "python",
   "pygments_lexer": "ipython3",
   "version": "3.11.2"
  }
 },
 "nbformat": 4,
 "nbformat_minor": 5
}
